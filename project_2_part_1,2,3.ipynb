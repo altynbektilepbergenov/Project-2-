{
  "nbformat": 4,
  "nbformat_minor": 0,
  "metadata": {
    "colab": {
      "name": "project 2 part 1,2,3.ipynb",
      "provenance": []
    },
    "kernelspec": {
      "name": "python3",
      "display_name": "Python 3"
    },
    "language_info": {
      "name": "python"
    }
  },
  "cells": [
    {
      "cell_type": "code",
      "metadata": {
        "colab": {
          "base_uri": "https://localhost:8080/"
        },
        "id": "GlnLwSvXWFyH",
        "outputId": "aea04b2d-9aa9-4d21-8762-bdc920e21ed0"
      },
      "source": [
        "from google.colab import drive\n",
        "drive.mount('/content/drive')"
      ],
      "execution_count": null,
      "outputs": [
        {
          "output_type": "stream",
          "name": "stdout",
          "text": [
            "Mounted at /content/drive\n"
          ]
        }
      ]
    },
    {
      "cell_type": "code",
      "metadata": {
        "id": "ooawOPo3WXVh"
      },
      "source": [
        "import pandas as pd\n",
        "import pandas as pd\n",
        "import numpy as np\n",
        "import matplotlib.pyplot as plt\n",
        "import seaborn as sns\n",
        "from sklearn.ensemble import GradientBoostingClassifier\n",
        "from sklearn.model_selection import train_test_split, GridSearchCV\n",
        "from sklearn.preprocessing import OneHotEncoder\n",
        "from sklearn.metrics import classification_report, plot_confusion_matrix\n",
        "import xgboost\n",
        "from sklearn.preprocessing import StandardScaler\n",
        "from sklearn.model_selection import train_test_split\n",
        "from sklearn.ensemble import GradientBoostingClassifier\n",
        "from xgboost import XGBClassifier\n",
        "from lightgbm import LGBMClassifier\n",
        "\n",
        "from collections import Counter"
      ],
      "execution_count": null,
      "outputs": []
    },
    {
      "cell_type": "code",
      "metadata": {
        "colab": {
          "base_uri": "https://localhost:8080/",
          "height": 626
        },
        "id": "Pnk2l1-cWPea",
        "outputId": "69ffffd1-ea25-424e-924d-1b73b805f904"
      },
      "source": [
        "df=pd.read_csv('/content/bt_dataset_t3.csv')\n",
        "df"
      ],
      "execution_count": null,
      "outputs": [
        {
          "output_type": "execute_result",
          "data": {
            "text/html": [
              "<div>\n",
              "<style scoped>\n",
              "    .dataframe tbody tr th:only-of-type {\n",
              "        vertical-align: middle;\n",
              "    }\n",
              "\n",
              "    .dataframe tbody tr th {\n",
              "        vertical-align: top;\n",
              "    }\n",
              "\n",
              "    .dataframe thead th {\n",
              "        text-align: right;\n",
              "    }\n",
              "</style>\n",
              "<table border=\"1\" class=\"dataframe\">\n",
              "  <thead>\n",
              "    <tr style=\"text-align: right;\">\n",
              "      <th></th>\n",
              "      <th>Image</th>\n",
              "      <th>Mean</th>\n",
              "      <th>Variance</th>\n",
              "      <th>Standard Deviation</th>\n",
              "      <th>Entropy</th>\n",
              "      <th>Skewness</th>\n",
              "      <th>Kurtosis</th>\n",
              "      <th>Contrast</th>\n",
              "      <th>Energy</th>\n",
              "      <th>ASM</th>\n",
              "      <th>Homogeneity</th>\n",
              "      <th>Dissimilarity</th>\n",
              "      <th>Correlation</th>\n",
              "      <th>Coarseness</th>\n",
              "      <th>PSNR</th>\n",
              "      <th>SSIM</th>\n",
              "      <th>MSE</th>\n",
              "      <th>DC</th>\n",
              "      <th>Target</th>\n",
              "    </tr>\n",
              "  </thead>\n",
              "  <tbody>\n",
              "    <tr>\n",
              "      <th>0</th>\n",
              "      <td>Image1</td>\n",
              "      <td>23.448517</td>\n",
              "      <td>2538.985627</td>\n",
              "      <td>50.388348</td>\n",
              "      <td>0.651174</td>\n",
              "      <td>1.984202</td>\n",
              "      <td>5.421042</td>\n",
              "      <td>181.467713</td>\n",
              "      <td>0.781557</td>\n",
              "      <td>0.610831</td>\n",
              "      <td>0.847033</td>\n",
              "      <td>2.765411</td>\n",
              "      <td>0.968576</td>\n",
              "      <td>7.458341e-155</td>\n",
              "      <td>97.974630</td>\n",
              "      <td>0.777011</td>\n",
              "      <td>0.171163</td>\n",
              "      <td>0.303989</td>\n",
              "      <td>1</td>\n",
              "    </tr>\n",
              "    <tr>\n",
              "      <th>1</th>\n",
              "      <td>Image2</td>\n",
              "      <td>4.398331</td>\n",
              "      <td>834.853030</td>\n",
              "      <td>28.893823</td>\n",
              "      <td>0.953532</td>\n",
              "      <td>6.495203</td>\n",
              "      <td>43.349355</td>\n",
              "      <td>76.745886</td>\n",
              "      <td>0.972770</td>\n",
              "      <td>0.946281</td>\n",
              "      <td>0.980762</td>\n",
              "      <td>0.548605</td>\n",
              "      <td>0.959751</td>\n",
              "      <td>7.458341e-155</td>\n",
              "      <td>110.346597</td>\n",
              "      <td>0.977953</td>\n",
              "      <td>0.009913</td>\n",
              "      <td>0.839019</td>\n",
              "      <td>1</td>\n",
              "    </tr>\n",
              "    <tr>\n",
              "      <th>2</th>\n",
              "      <td>Image3</td>\n",
              "      <td>3.244263</td>\n",
              "      <td>642.059166</td>\n",
              "      <td>25.338886</td>\n",
              "      <td>0.966065</td>\n",
              "      <td>7.772860</td>\n",
              "      <td>61.756034</td>\n",
              "      <td>81.752406</td>\n",
              "      <td>0.980161</td>\n",
              "      <td>0.960715</td>\n",
              "      <td>0.985066</td>\n",
              "      <td>0.540411</td>\n",
              "      <td>0.944259</td>\n",
              "      <td>7.458341e-155</td>\n",
              "      <td>112.266298</td>\n",
              "      <td>0.985362</td>\n",
              "      <td>0.006372</td>\n",
              "      <td>0.849775</td>\n",
              "      <td>1</td>\n",
              "    </tr>\n",
              "    <tr>\n",
              "      <th>3</th>\n",
              "      <td>Image4</td>\n",
              "      <td>8.511353</td>\n",
              "      <td>1126.214187</td>\n",
              "      <td>33.559115</td>\n",
              "      <td>0.868765</td>\n",
              "      <td>3.763142</td>\n",
              "      <td>15.107579</td>\n",
              "      <td>362.291213</td>\n",
              "      <td>0.921786</td>\n",
              "      <td>0.849690</td>\n",
              "      <td>0.949295</td>\n",
              "      <td>2.765725</td>\n",
              "      <td>0.859027</td>\n",
              "      <td>7.458341e-155</td>\n",
              "      <td>101.955792</td>\n",
              "      <td>0.881015</td>\n",
              "      <td>0.068437</td>\n",
              "      <td>0.000000</td>\n",
              "      <td>0</td>\n",
              "    </tr>\n",
              "    <tr>\n",
              "      <th>4</th>\n",
              "      <td>Image5</td>\n",
              "      <td>21.000793</td>\n",
              "      <td>2235.316978</td>\n",
              "      <td>47.279139</td>\n",
              "      <td>0.684724</td>\n",
              "      <td>1.936029</td>\n",
              "      <td>4.722343</td>\n",
              "      <td>312.439226</td>\n",
              "      <td>0.804184</td>\n",
              "      <td>0.646711</td>\n",
              "      <td>0.880301</td>\n",
              "      <td>3.006660</td>\n",
              "      <td>0.938572</td>\n",
              "      <td>7.458341e-155</td>\n",
              "      <td>97.639870</td>\n",
              "      <td>0.766308</td>\n",
              "      <td>0.184878</td>\n",
              "      <td>0.000000</td>\n",
              "      <td>0</td>\n",
              "    </tr>\n",
              "    <tr>\n",
              "      <th>...</th>\n",
              "      <td>...</td>\n",
              "      <td>...</td>\n",
              "      <td>...</td>\n",
              "      <td>...</td>\n",
              "      <td>...</td>\n",
              "      <td>...</td>\n",
              "      <td>...</td>\n",
              "      <td>...</td>\n",
              "      <td>...</td>\n",
              "      <td>...</td>\n",
              "      <td>...</td>\n",
              "      <td>...</td>\n",
              "      <td>...</td>\n",
              "      <td>...</td>\n",
              "      <td>...</td>\n",
              "      <td>...</td>\n",
              "      <td>...</td>\n",
              "      <td>...</td>\n",
              "      <td>...</td>\n",
              "    </tr>\n",
              "    <tr>\n",
              "      <th>1639</th>\n",
              "      <td>Image1640</td>\n",
              "      <td>0.199158</td>\n",
              "      <td>26.491880</td>\n",
              "      <td>5.147026</td>\n",
              "      <td>0.996341</td>\n",
              "      <td>25.826301</td>\n",
              "      <td>668.181974</td>\n",
              "      <td>14.797350</td>\n",
              "      <td>0.997873</td>\n",
              "      <td>0.995751</td>\n",
              "      <td>0.998476</td>\n",
              "      <td>0.113842</td>\n",
              "      <td>0.755553</td>\n",
              "      <td>7.458341e-155</td>\n",
              "      <td>75.822768</td>\n",
              "      <td>0.995798</td>\n",
              "      <td>0.001701</td>\n",
              "      <td>0.000000</td>\n",
              "      <td>0</td>\n",
              "    </tr>\n",
              "    <tr>\n",
              "      <th>1640</th>\n",
              "      <td>Image1641</td>\n",
              "      <td>6.885025</td>\n",
              "      <td>802.478515</td>\n",
              "      <td>28.328052</td>\n",
              "      <td>0.878419</td>\n",
              "      <td>3.939967</td>\n",
              "      <td>16.456794</td>\n",
              "      <td>266.135425</td>\n",
              "      <td>0.927687</td>\n",
              "      <td>0.860602</td>\n",
              "      <td>0.951086</td>\n",
              "      <td>2.303173</td>\n",
              "      <td>0.854682</td>\n",
              "      <td>7.458341e-155</td>\n",
              "      <td>60.126401</td>\n",
              "      <td>0.886831</td>\n",
              "      <td>0.063160</td>\n",
              "      <td>0.000000</td>\n",
              "      <td>0</td>\n",
              "    </tr>\n",
              "    <tr>\n",
              "      <th>1641</th>\n",
              "      <td>Image1642</td>\n",
              "      <td>1.828186</td>\n",
              "      <td>230.107684</td>\n",
              "      <td>15.169301</td>\n",
              "      <td>0.966424</td>\n",
              "      <td>8.218790</td>\n",
              "      <td>68.539071</td>\n",
              "      <td>105.172699</td>\n",
              "      <td>0.980371</td>\n",
              "      <td>0.961128</td>\n",
              "      <td>0.985590</td>\n",
              "      <td>0.863250</td>\n",
              "      <td>0.799919</td>\n",
              "      <td>7.458341e-155</td>\n",
              "      <td>66.013000</td>\n",
              "      <td>0.964771</td>\n",
              "      <td>0.016285</td>\n",
              "      <td>0.000000</td>\n",
              "      <td>0</td>\n",
              "    </tr>\n",
              "    <tr>\n",
              "      <th>1642</th>\n",
              "      <td>Image1643</td>\n",
              "      <td>0.061630</td>\n",
              "      <td>8.029570</td>\n",
              "      <td>2.833650</td>\n",
              "      <td>0.998740</td>\n",
              "      <td>45.985085</td>\n",
              "      <td>2116.600001</td>\n",
              "      <td>6.431276</td>\n",
              "      <td>0.999268</td>\n",
              "      <td>0.998536</td>\n",
              "      <td>0.999401</td>\n",
              "      <td>0.050628</td>\n",
              "      <td>0.649484</td>\n",
              "      <td>7.458341e-155</td>\n",
              "      <td>80.821412</td>\n",
              "      <td>0.998316</td>\n",
              "      <td>0.000538</td>\n",
              "      <td>0.000000</td>\n",
              "      <td>0</td>\n",
              "    </tr>\n",
              "    <tr>\n",
              "      <th>1643</th>\n",
              "      <td>Image1644</td>\n",
              "      <td>0.718506</td>\n",
              "      <td>91.460572</td>\n",
              "      <td>9.563502</td>\n",
              "      <td>0.986739</td>\n",
              "      <td>13.268497</td>\n",
              "      <td>177.139371</td>\n",
              "      <td>42.023257</td>\n",
              "      <td>0.992277</td>\n",
              "      <td>0.984614</td>\n",
              "      <td>0.994537</td>\n",
              "      <td>0.341771</td>\n",
              "      <td>0.798902</td>\n",
              "      <td>7.458341e-155</td>\n",
              "      <td>70.076550</td>\n",
              "      <td>0.985988</td>\n",
              "      <td>0.006389</td>\n",
              "      <td>0.000000</td>\n",
              "      <td>0</td>\n",
              "    </tr>\n",
              "  </tbody>\n",
              "</table>\n",
              "<p>1644 rows × 19 columns</p>\n",
              "</div>"
            ],
            "text/plain": [
              "          Image       Mean     Variance  ...       MSE        DC  Target\n",
              "0        Image1  23.448517  2538.985627  ...  0.171163  0.303989       1\n",
              "1        Image2   4.398331   834.853030  ...  0.009913  0.839019       1\n",
              "2        Image3   3.244263   642.059166  ...  0.006372  0.849775       1\n",
              "3        Image4   8.511353  1126.214187  ...  0.068437  0.000000       0\n",
              "4        Image5  21.000793  2235.316978  ...  0.184878  0.000000       0\n",
              "...         ...        ...          ...  ...       ...       ...     ...\n",
              "1639  Image1640   0.199158    26.491880  ...  0.001701  0.000000       0\n",
              "1640  Image1641   6.885025   802.478515  ...  0.063160  0.000000       0\n",
              "1641  Image1642   1.828186   230.107684  ...  0.016285  0.000000       0\n",
              "1642  Image1643   0.061630     8.029570  ...  0.000538  0.000000       0\n",
              "1643  Image1644   0.718506    91.460572  ...  0.006389  0.000000       0\n",
              "\n",
              "[1644 rows x 19 columns]"
            ]
          },
          "metadata": {},
          "execution_count": 37
        }
      ]
    },
    {
      "cell_type": "markdown",
      "metadata": {
        "id": "45t1-z5Fh1V_"
      },
      "source": [
        "#**Part 1,2**#"
      ]
    },
    {
      "cell_type": "code",
      "metadata": {
        "id": "WkZft3SES3KB"
      },
      "source": [
        "# Input data files are available in the read-only \"../input/\" directory\n",
        "# For example, running this (by clicking run or pressing Shift+Enter) will list all files under the input directory\n",
        "\n",
        "import os\n",
        "for dirname, _, filenames in os.walk('/kaggle/input'):\n",
        "    for filename in filenames:\n",
        "        print(os.path.join(dirname, filename))"
      ],
      "execution_count": null,
      "outputs": []
    },
    {
      "cell_type": "code",
      "metadata": {
        "id": "F-G1-FjO5Q9V"
      },
      "source": [
        "df.set_index(['Image'], inplace=True) # set the image column as an index variable"
      ],
      "execution_count": null,
      "outputs": []
    },
    {
      "cell_type": "markdown",
      "metadata": {
        "id": "_N28MPjgT6Qj"
      },
      "source": [
        "**Missing values**"
      ]
    },
    {
      "cell_type": "code",
      "metadata": {
        "colab": {
          "base_uri": "https://localhost:8080/"
        },
        "id": "HLqPvQMy5q-B",
        "outputId": "871d6da5-be7d-4eeb-dc7d-a20503553478"
      },
      "source": [
        "df.isnull().sum().sum()"
      ],
      "execution_count": null,
      "outputs": [
        {
          "output_type": "execute_result",
          "data": {
            "text/plain": [
              "1205"
            ]
          },
          "metadata": {},
          "execution_count": 32
        }
      ]
    },
    {
      "cell_type": "code",
      "metadata": {
        "colab": {
          "base_uri": "https://localhost:8080/"
        },
        "id": "tc2iOfbk5zC1",
        "outputId": "8ac3f03b-55ca-4d0e-b2ab-258b64237c30"
      },
      "source": [
        "df.info()"
      ],
      "execution_count": null,
      "outputs": [
        {
          "output_type": "stream",
          "name": "stdout",
          "text": [
            "<class 'pandas.core.frame.DataFrame'>\n",
            "Index: 1644 entries, Image1 to Image1644\n",
            "Data columns (total 18 columns):\n",
            " #   Column              Non-Null Count  Dtype  \n",
            "---  ------              --------------  -----  \n",
            " 0   Mean                1644 non-null   float64\n",
            " 1   Variance            1644 non-null   float64\n",
            " 2   Standard Deviation  1644 non-null   float64\n",
            " 3   Entropy             1644 non-null   float64\n",
            " 4   Skewness            1275 non-null   float64\n",
            " 5   Kurtosis            1275 non-null   float64\n",
            " 6   Contrast            1644 non-null   float64\n",
            " 7   Energy              1644 non-null   float64\n",
            " 8   ASM                 1644 non-null   float64\n",
            " 9   Homogeneity         1644 non-null   float64\n",
            " 10  Dissimilarity       1644 non-null   float64\n",
            " 11  Correlation         1644 non-null   float64\n",
            " 12  Coarseness          1644 non-null   float64\n",
            " 13  PSNR                1644 non-null   float64\n",
            " 14  SSIM                1275 non-null   float64\n",
            " 15  MSE                 1644 non-null   float64\n",
            " 16  DC                  1546 non-null   float64\n",
            " 17  Target              1644 non-null   int64  \n",
            "dtypes: float64(17), int64(1)\n",
            "memory usage: 244.0+ KB\n"
          ]
        }
      ]
    },
    {
      "cell_type": "code",
      "metadata": {
        "colab": {
          "base_uri": "https://localhost:8080/"
        },
        "id": "A02KULjH52u3",
        "outputId": "fa3b0288-539c-465b-8dac-9c81248b781c"
      },
      "source": [
        "df['Kurtosis'].value_counts() # see the value types(we can all of them are numeric)"
      ],
      "execution_count": null,
      "outputs": [
        {
          "output_type": "execute_result",
          "data": {
            "text/plain": [
              "76.057606      1\n",
              "108.743853     1\n",
              "47.238022      1\n",
              "4.254855       1\n",
              "89.961281      1\n",
              "              ..\n",
              "57.469334      1\n",
              "74.146226      1\n",
              "61.756034      1\n",
              "2339.084836    1\n",
              "70.047617      1\n",
              "Name: Kurtosis, Length: 1275, dtype: int64"
            ]
          },
          "metadata": {},
          "execution_count": 14
        }
      ]
    },
    {
      "cell_type": "code",
      "metadata": {
        "id": "EfIXc04E6oZw"
      },
      "source": [
        "df[\"Kurtosis\"].fillna(method=\"backfill\", inplace = True) # first column with null values, and filling it will backfill method\n"
      ],
      "execution_count": null,
      "outputs": []
    },
    {
      "cell_type": "code",
      "metadata": {
        "colab": {
          "base_uri": "https://localhost:8080/"
        },
        "id": "J5cr6KSK7FVo",
        "outputId": "9ad1fe75-9e73-4706-a372-fb240b2b3a77"
      },
      "source": [
        "df.info() # check again to make sure it was filled with or not"
      ],
      "execution_count": null,
      "outputs": [
        {
          "output_type": "stream",
          "name": "stdout",
          "text": [
            "<class 'pandas.core.frame.DataFrame'>\n",
            "Index: 1644 entries, Image1 to Image1644\n",
            "Data columns (total 18 columns):\n",
            " #   Column              Non-Null Count  Dtype  \n",
            "---  ------              --------------  -----  \n",
            " 0   Mean                1644 non-null   float64\n",
            " 1   Variance            1644 non-null   float64\n",
            " 2   Standard Deviation  1644 non-null   float64\n",
            " 3   Entropy             1644 non-null   float64\n",
            " 4   Skewness            1275 non-null   float64\n",
            " 5   Kurtosis            1644 non-null   float64\n",
            " 6   Contrast            1644 non-null   float64\n",
            " 7   Energy              1644 non-null   float64\n",
            " 8   ASM                 1644 non-null   float64\n",
            " 9   Homogeneity         1644 non-null   float64\n",
            " 10  Dissimilarity       1644 non-null   float64\n",
            " 11  Correlation         1644 non-null   float64\n",
            " 12  Coarseness          1644 non-null   float64\n",
            " 13  PSNR                1644 non-null   float64\n",
            " 14  SSIM                1275 non-null   float64\n",
            " 15  MSE                 1644 non-null   float64\n",
            " 16  DC                  1546 non-null   float64\n",
            " 17  Target              1644 non-null   int64  \n",
            "dtypes: float64(17), int64(1)\n",
            "memory usage: 324.0+ KB\n"
          ]
        }
      ]
    },
    {
      "cell_type": "code",
      "metadata": {
        "id": "UaxmDOJd7JYY"
      },
      "source": [
        "df[\"Skewness\"].fillna(method=\"backfill\", inplace = True) # second column"
      ],
      "execution_count": null,
      "outputs": []
    },
    {
      "cell_type": "code",
      "metadata": {
        "id": "hSHmfKhd7Tle"
      },
      "source": [
        "df[\"SSIM\"].fillna(method=\"backfill\", inplace = True) # third column"
      ],
      "execution_count": null,
      "outputs": []
    },
    {
      "cell_type": "code",
      "metadata": {
        "id": "js8fwA4_7ZOX"
      },
      "source": [
        "df[\"DC\"].fillna(method=\"backfill\", inplace = True) # last column"
      ],
      "execution_count": null,
      "outputs": []
    },
    {
      "cell_type": "code",
      "metadata": {
        "colab": {
          "base_uri": "https://localhost:8080/"
        },
        "id": "4aneVesr7eT3",
        "outputId": "71ea0981-4c00-4821-e0f7-bc7f20b64cc8"
      },
      "source": [
        "df.info() # we filled all null values with backfill method "
      ],
      "execution_count": null,
      "outputs": [
        {
          "output_type": "stream",
          "name": "stdout",
          "text": [
            "<class 'pandas.core.frame.DataFrame'>\n",
            "Index: 1644 entries, Image1 to Image1644\n",
            "Data columns (total 18 columns):\n",
            " #   Column              Non-Null Count  Dtype  \n",
            "---  ------              --------------  -----  \n",
            " 0   Mean                1644 non-null   float64\n",
            " 1   Variance            1644 non-null   float64\n",
            " 2   Standard Deviation  1644 non-null   float64\n",
            " 3   Entropy             1644 non-null   float64\n",
            " 4   Skewness            1644 non-null   float64\n",
            " 5   Kurtosis            1644 non-null   float64\n",
            " 6   Contrast            1644 non-null   float64\n",
            " 7   Energy              1644 non-null   float64\n",
            " 8   ASM                 1644 non-null   float64\n",
            " 9   Homogeneity         1644 non-null   float64\n",
            " 10  Dissimilarity       1644 non-null   float64\n",
            " 11  Correlation         1644 non-null   float64\n",
            " 12  Coarseness          1644 non-null   float64\n",
            " 13  PSNR                1644 non-null   float64\n",
            " 14  SSIM                1644 non-null   float64\n",
            " 15  MSE                 1644 non-null   float64\n",
            " 16  DC                  1644 non-null   float64\n",
            " 17  Target              1644 non-null   int64  \n",
            "dtypes: float64(17), int64(1)\n",
            "memory usage: 324.0+ KB\n"
          ]
        }
      ]
    },
    {
      "cell_type": "markdown",
      "metadata": {
        "id": "rD9FgESFUBm6"
      },
      "source": [
        "**Duplicates**"
      ]
    },
    {
      "cell_type": "code",
      "metadata": {
        "colab": {
          "base_uri": "https://localhost:8080/",
          "height": 657
        },
        "id": "pUCF9xmw9oNH",
        "outputId": "30a9ae3c-e876-4b76-f323-25f38b3cc559"
      },
      "source": [
        "df.drop_duplicates()"
      ],
      "execution_count": null,
      "outputs": [
        {
          "output_type": "execute_result",
          "data": {
            "text/html": [
              "<div>\n",
              "<style scoped>\n",
              "    .dataframe tbody tr th:only-of-type {\n",
              "        vertical-align: middle;\n",
              "    }\n",
              "\n",
              "    .dataframe tbody tr th {\n",
              "        vertical-align: top;\n",
              "    }\n",
              "\n",
              "    .dataframe thead th {\n",
              "        text-align: right;\n",
              "    }\n",
              "</style>\n",
              "<table border=\"1\" class=\"dataframe\">\n",
              "  <thead>\n",
              "    <tr style=\"text-align: right;\">\n",
              "      <th></th>\n",
              "      <th>Mean</th>\n",
              "      <th>Variance</th>\n",
              "      <th>Standard Deviation</th>\n",
              "      <th>Entropy</th>\n",
              "      <th>Skewness</th>\n",
              "      <th>Kurtosis</th>\n",
              "      <th>Contrast</th>\n",
              "      <th>Energy</th>\n",
              "      <th>ASM</th>\n",
              "      <th>Homogeneity</th>\n",
              "      <th>Dissimilarity</th>\n",
              "      <th>Correlation</th>\n",
              "      <th>Coarseness</th>\n",
              "      <th>PSNR</th>\n",
              "      <th>SSIM</th>\n",
              "      <th>MSE</th>\n",
              "      <th>DC</th>\n",
              "      <th>Target</th>\n",
              "    </tr>\n",
              "    <tr>\n",
              "      <th>Image</th>\n",
              "      <th></th>\n",
              "      <th></th>\n",
              "      <th></th>\n",
              "      <th></th>\n",
              "      <th></th>\n",
              "      <th></th>\n",
              "      <th></th>\n",
              "      <th></th>\n",
              "      <th></th>\n",
              "      <th></th>\n",
              "      <th></th>\n",
              "      <th></th>\n",
              "      <th></th>\n",
              "      <th></th>\n",
              "      <th></th>\n",
              "      <th></th>\n",
              "      <th></th>\n",
              "      <th></th>\n",
              "    </tr>\n",
              "  </thead>\n",
              "  <tbody>\n",
              "    <tr>\n",
              "      <th>Image1</th>\n",
              "      <td>23.448517</td>\n",
              "      <td>2538.985627</td>\n",
              "      <td>50.388348</td>\n",
              "      <td>0.651174</td>\n",
              "      <td>1.984202</td>\n",
              "      <td>5.421042</td>\n",
              "      <td>181.467713</td>\n",
              "      <td>0.781557</td>\n",
              "      <td>0.610831</td>\n",
              "      <td>0.847033</td>\n",
              "      <td>2.765411</td>\n",
              "      <td>0.968576</td>\n",
              "      <td>7.458341e-155</td>\n",
              "      <td>97.974630</td>\n",
              "      <td>0.777011</td>\n",
              "      <td>0.171163</td>\n",
              "      <td>0.303989</td>\n",
              "      <td>1</td>\n",
              "    </tr>\n",
              "    <tr>\n",
              "      <th>Image2</th>\n",
              "      <td>4.398331</td>\n",
              "      <td>834.853030</td>\n",
              "      <td>28.893823</td>\n",
              "      <td>0.953532</td>\n",
              "      <td>6.495203</td>\n",
              "      <td>43.349355</td>\n",
              "      <td>76.745886</td>\n",
              "      <td>0.972770</td>\n",
              "      <td>0.946281</td>\n",
              "      <td>0.980762</td>\n",
              "      <td>0.548605</td>\n",
              "      <td>0.959751</td>\n",
              "      <td>7.458341e-155</td>\n",
              "      <td>110.346597</td>\n",
              "      <td>0.977953</td>\n",
              "      <td>0.009913</td>\n",
              "      <td>0.839019</td>\n",
              "      <td>1</td>\n",
              "    </tr>\n",
              "    <tr>\n",
              "      <th>Image3</th>\n",
              "      <td>3.244263</td>\n",
              "      <td>642.059166</td>\n",
              "      <td>25.338886</td>\n",
              "      <td>0.966065</td>\n",
              "      <td>7.772860</td>\n",
              "      <td>61.756034</td>\n",
              "      <td>81.752406</td>\n",
              "      <td>0.980161</td>\n",
              "      <td>0.960715</td>\n",
              "      <td>0.985066</td>\n",
              "      <td>0.540411</td>\n",
              "      <td>0.944259</td>\n",
              "      <td>7.458341e-155</td>\n",
              "      <td>112.266298</td>\n",
              "      <td>0.985362</td>\n",
              "      <td>0.006372</td>\n",
              "      <td>0.849775</td>\n",
              "      <td>1</td>\n",
              "    </tr>\n",
              "    <tr>\n",
              "      <th>Image4</th>\n",
              "      <td>8.511353</td>\n",
              "      <td>1126.214187</td>\n",
              "      <td>33.559115</td>\n",
              "      <td>0.868765</td>\n",
              "      <td>3.763142</td>\n",
              "      <td>15.107579</td>\n",
              "      <td>362.291213</td>\n",
              "      <td>0.921786</td>\n",
              "      <td>0.849690</td>\n",
              "      <td>0.949295</td>\n",
              "      <td>2.765725</td>\n",
              "      <td>0.859027</td>\n",
              "      <td>7.458341e-155</td>\n",
              "      <td>101.955792</td>\n",
              "      <td>0.881015</td>\n",
              "      <td>0.068437</td>\n",
              "      <td>0.000000</td>\n",
              "      <td>0</td>\n",
              "    </tr>\n",
              "    <tr>\n",
              "      <th>Image5</th>\n",
              "      <td>21.000793</td>\n",
              "      <td>2235.316978</td>\n",
              "      <td>47.279139</td>\n",
              "      <td>0.684724</td>\n",
              "      <td>1.936029</td>\n",
              "      <td>4.722343</td>\n",
              "      <td>312.439226</td>\n",
              "      <td>0.804184</td>\n",
              "      <td>0.646711</td>\n",
              "      <td>0.880301</td>\n",
              "      <td>3.006660</td>\n",
              "      <td>0.938572</td>\n",
              "      <td>7.458341e-155</td>\n",
              "      <td>97.639870</td>\n",
              "      <td>0.766308</td>\n",
              "      <td>0.184878</td>\n",
              "      <td>0.000000</td>\n",
              "      <td>0</td>\n",
              "    </tr>\n",
              "    <tr>\n",
              "      <th>...</th>\n",
              "      <td>...</td>\n",
              "      <td>...</td>\n",
              "      <td>...</td>\n",
              "      <td>...</td>\n",
              "      <td>...</td>\n",
              "      <td>...</td>\n",
              "      <td>...</td>\n",
              "      <td>...</td>\n",
              "      <td>...</td>\n",
              "      <td>...</td>\n",
              "      <td>...</td>\n",
              "      <td>...</td>\n",
              "      <td>...</td>\n",
              "      <td>...</td>\n",
              "      <td>...</td>\n",
              "      <td>...</td>\n",
              "      <td>...</td>\n",
              "      <td>...</td>\n",
              "    </tr>\n",
              "    <tr>\n",
              "      <th>Image1640</th>\n",
              "      <td>0.199158</td>\n",
              "      <td>26.491880</td>\n",
              "      <td>5.147026</td>\n",
              "      <td>0.996341</td>\n",
              "      <td>25.826301</td>\n",
              "      <td>668.181974</td>\n",
              "      <td>14.797350</td>\n",
              "      <td>0.997873</td>\n",
              "      <td>0.995751</td>\n",
              "      <td>0.998476</td>\n",
              "      <td>0.113842</td>\n",
              "      <td>0.755553</td>\n",
              "      <td>7.458341e-155</td>\n",
              "      <td>75.822768</td>\n",
              "      <td>0.995798</td>\n",
              "      <td>0.001701</td>\n",
              "      <td>0.000000</td>\n",
              "      <td>0</td>\n",
              "    </tr>\n",
              "    <tr>\n",
              "      <th>Image1641</th>\n",
              "      <td>6.885025</td>\n",
              "      <td>802.478515</td>\n",
              "      <td>28.328052</td>\n",
              "      <td>0.878419</td>\n",
              "      <td>3.939967</td>\n",
              "      <td>16.456794</td>\n",
              "      <td>266.135425</td>\n",
              "      <td>0.927687</td>\n",
              "      <td>0.860602</td>\n",
              "      <td>0.951086</td>\n",
              "      <td>2.303173</td>\n",
              "      <td>0.854682</td>\n",
              "      <td>7.458341e-155</td>\n",
              "      <td>60.126401</td>\n",
              "      <td>0.886831</td>\n",
              "      <td>0.063160</td>\n",
              "      <td>0.000000</td>\n",
              "      <td>0</td>\n",
              "    </tr>\n",
              "    <tr>\n",
              "      <th>Image1642</th>\n",
              "      <td>1.828186</td>\n",
              "      <td>230.107684</td>\n",
              "      <td>15.169301</td>\n",
              "      <td>0.966424</td>\n",
              "      <td>8.218790</td>\n",
              "      <td>68.539071</td>\n",
              "      <td>105.172699</td>\n",
              "      <td>0.980371</td>\n",
              "      <td>0.961128</td>\n",
              "      <td>0.985590</td>\n",
              "      <td>0.863250</td>\n",
              "      <td>0.799919</td>\n",
              "      <td>7.458341e-155</td>\n",
              "      <td>66.013000</td>\n",
              "      <td>0.964771</td>\n",
              "      <td>0.016285</td>\n",
              "      <td>0.000000</td>\n",
              "      <td>0</td>\n",
              "    </tr>\n",
              "    <tr>\n",
              "      <th>Image1643</th>\n",
              "      <td>0.061630</td>\n",
              "      <td>8.029570</td>\n",
              "      <td>2.833650</td>\n",
              "      <td>0.998740</td>\n",
              "      <td>45.985085</td>\n",
              "      <td>2116.600001</td>\n",
              "      <td>6.431276</td>\n",
              "      <td>0.999268</td>\n",
              "      <td>0.998536</td>\n",
              "      <td>0.999401</td>\n",
              "      <td>0.050628</td>\n",
              "      <td>0.649484</td>\n",
              "      <td>7.458341e-155</td>\n",
              "      <td>80.821412</td>\n",
              "      <td>0.998316</td>\n",
              "      <td>0.000538</td>\n",
              "      <td>0.000000</td>\n",
              "      <td>0</td>\n",
              "    </tr>\n",
              "    <tr>\n",
              "      <th>Image1644</th>\n",
              "      <td>0.718506</td>\n",
              "      <td>91.460572</td>\n",
              "      <td>9.563502</td>\n",
              "      <td>0.986739</td>\n",
              "      <td>13.268497</td>\n",
              "      <td>177.139371</td>\n",
              "      <td>42.023257</td>\n",
              "      <td>0.992277</td>\n",
              "      <td>0.984614</td>\n",
              "      <td>0.994537</td>\n",
              "      <td>0.341771</td>\n",
              "      <td>0.798902</td>\n",
              "      <td>7.458341e-155</td>\n",
              "      <td>70.076550</td>\n",
              "      <td>0.985988</td>\n",
              "      <td>0.006389</td>\n",
              "      <td>0.000000</td>\n",
              "      <td>0</td>\n",
              "    </tr>\n",
              "  </tbody>\n",
              "</table>\n",
              "<p>1627 rows × 18 columns</p>\n",
              "</div>"
            ],
            "text/plain": [
              "                Mean     Variance  ...        DC  Target\n",
              "Image                              ...                  \n",
              "Image1     23.448517  2538.985627  ...  0.303989       1\n",
              "Image2      4.398331   834.853030  ...  0.839019       1\n",
              "Image3      3.244263   642.059166  ...  0.849775       1\n",
              "Image4      8.511353  1126.214187  ...  0.000000       0\n",
              "Image5     21.000793  2235.316978  ...  0.000000       0\n",
              "...              ...          ...  ...       ...     ...\n",
              "Image1640   0.199158    26.491880  ...  0.000000       0\n",
              "Image1641   6.885025   802.478515  ...  0.000000       0\n",
              "Image1642   1.828186   230.107684  ...  0.000000       0\n",
              "Image1643   0.061630     8.029570  ...  0.000000       0\n",
              "Image1644   0.718506    91.460572  ...  0.000000       0\n",
              "\n",
              "[1627 rows x 18 columns]"
            ]
          },
          "metadata": {},
          "execution_count": 22
        }
      ]
    },
    {
      "cell_type": "code",
      "metadata": {
        "colab": {
          "base_uri": "https://localhost:8080/"
        },
        "id": "b5L77TRH-qJ1",
        "outputId": "f7b2623c-518b-4ad8-eb56-a466eeda9bec"
      },
      "source": [
        "df.isnull().sum().sum()"
      ],
      "execution_count": null,
      "outputs": [
        {
          "output_type": "execute_result",
          "data": {
            "text/plain": [
              "0"
            ]
          },
          "metadata": {},
          "execution_count": 25
        }
      ]
    },
    {
      "cell_type": "markdown",
      "metadata": {
        "id": "LcWRpwYCW8LM"
      },
      "source": [
        "**CATEGORICAL VARIABLE**"
      ]
    },
    {
      "cell_type": "code",
      "metadata": {
        "colab": {
          "base_uri": "https://localhost:8080/"
        },
        "id": "MkmMH2lC9scp",
        "outputId": "32f63428-58d1-4e0b-fbc4-9ce6da677cfa"
      },
      "source": [
        "df['Target'].value_counts() # target column which can tell the image has a tumor or not"
      ],
      "execution_count": null,
      "outputs": [
        {
          "output_type": "execute_result",
          "data": {
            "text/plain": [
              "1    1449\n",
              "0     195\n",
              "Name: Target, dtype: int64"
            ]
          },
          "metadata": {},
          "execution_count": 23
        }
      ]
    },
    {
      "cell_type": "code",
      "metadata": {
        "id": "u7Q7dMfXVJfs"
      },
      "source": [
        "len_ = len(df)"
      ],
      "execution_count": null,
      "outputs": []
    },
    {
      "cell_type": "code",
      "metadata": {
        "colab": {
          "base_uri": "https://localhost:8080/"
        },
        "id": "D9IpbdqUVLkb",
        "outputId": "3be6770c-fd29-4fee-8944-adae61906c1f"
      },
      "source": [
        "#number of non positive tumors \n",
        "(df['Target']==0).sum()"
      ],
      "execution_count": null,
      "outputs": [
        {
          "output_type": "execute_result",
          "data": {
            "text/plain": [
              "195"
            ]
          },
          "metadata": {},
          "execution_count": 48
        }
      ]
    },
    {
      "cell_type": "code",
      "metadata": {
        "id": "zqLYPqvIVUwj"
      },
      "source": [
        "# created a filter of number of non positive tumors\n",
        "pos_tum = df['Target'] == 0"
      ],
      "execution_count": null,
      "outputs": []
    },
    {
      "cell_type": "code",
      "metadata": {
        "colab": {
          "base_uri": "https://localhost:8080/",
          "height": 279
        },
        "id": "MkKZhpZkVhve",
        "outputId": "c5bb044f-7272-4ffe-c4c0-2b532d10e2d3"
      },
      "source": [
        "plt.bar([0, 1], [(df['Target']==0).sum(), len_-(df['Target']==0).sum()])\n",
        "plt.xticks([0, 1])\n",
        "plt.ylabel('frequency of all cases')\n",
        "plt.xlabel('positive for tumor or not')\n",
        "plt.show()"
      ],
      "execution_count": null,
      "outputs": [
        {
          "output_type": "display_data",
          "data": {
            "image/png": "[encoded data removed]",
            "text/plain": [
              "<Figure size 432x288 with 1 Axes>"
            ]
          },
          "metadata": {
            "needs_background": "light"
          }
        }
      ]
    },
    {
      "cell_type": "markdown",
      "metadata": {
        "id": "j9nleFABWcrL"
      },
      "source": [
        "From here we can see that positive for tumor cases are more frequent than the non positive for tumor cases( Positive cases are 1465 and negative cases are 195)"
      ]
    },
    {
      "cell_type": "markdown",
      "metadata": {
        "id": "4i1QoiBLXGHe"
      },
      "source": [
        "**NUMERICAL VARIABLE**"
      ]
    },
    {
      "cell_type": "code",
      "metadata": {
        "colab": {
          "base_uri": "https://localhost:8080/",
          "height": 281
        },
        "id": "rxzfEYlEXKfZ",
        "outputId": "91e9112b-d1d0-465d-dd46-541ab3fe8097"
      },
      "source": [
        "plt.hist(df.loc[~pos_tum, 'Mean'], bins=np.arange(18, 60, 4));\n",
        "plt.title('Mean distribution with histogram');"
      ],
      "execution_count": null,
      "outputs": [
        {
          "output_type": "display_data",
          "data": {
            "image/png": "[encoded data removed]",
            "text/plain": [
              "<Figure size 432x288 with 1 Axes>"
            ]
          },
          "metadata": {
            "needs_background": "light"
          }
        }
      ]
    },
    {
      "cell_type": "code",
      "metadata": {
        "colab": {
          "base_uri": "https://localhost:8080/",
          "height": 281
        },
        "id": "JpOsW7GsXu0e",
        "outputId": "56a3b689-2617-4d8d-f0f4-9a7efdb2cb28"
      },
      "source": [
        "plt.hist(df.loc[~pos_tum, 'Variance'], bins=np.arange(18, 60, 4));\n",
        "plt.title('Variance distribution with histogram');"
      ],
      "execution_count": null,
      "outputs": [
        {
          "output_type": "display_data",
          "data": {
            "image/png": "[encoded data removed]",
            "text/plain": [
              "<Figure size 432x288 with 1 Axes>"
            ]
          },
          "metadata": {
            "needs_background": "light"
          }
        }
      ]
    },
    {
      "cell_type": "code",
      "metadata": {
        "colab": {
          "base_uri": "https://localhost:8080/",
          "height": 281
        },
        "id": "w24EARsaX3DL",
        "outputId": "9899e7e9-acdf-4b16-e14d-7226450fb717"
      },
      "source": [
        "plt.hist(df.loc[~pos_tum, 'Standard Deviation'], bins=np.arange(18, 60, 4));\n",
        "plt.title('Standard Deviation distribution with histogram');"
      ],
      "execution_count": null,
      "outputs": [
        {
          "output_type": "display_data",
          "data": {
            "image/png": "[encoded data removed]",
            "text/plain": [
              "<Figure size 432x288 with 1 Axes>"
            ]
          },
          "metadata": {
            "needs_background": "light"
          }
        }
      ]
    },
    {
      "cell_type": "code",
      "metadata": {
        "colab": {
          "base_uri": "https://localhost:8080/",
          "height": 281
        },
        "id": "HTDwQ6EeYlbn",
        "outputId": "f3cbf3eb-81cb-4c09-aeb3-2513dd14d504"
      },
      "source": [
        "plt.hist(df.loc[~pos_tum, 'Skewness'], bins=np.arange(18, 60, 4));\n",
        "plt.title('Skewness distribution with histogram');"
      ],
      "execution_count": null,
      "outputs": [
        {
          "output_type": "display_data",
          "data": {
            "image/png": "[encoded data removed]",
            "text/plain": [
              "<Figure size 432x288 with 1 Axes>"
            ]
          },
          "metadata": {
            "needs_background": "light"
          }
        }
      ]
    },
    {
      "cell_type": "code",
      "metadata": {
        "colab": {
          "base_uri": "https://localhost:8080/",
          "height": 281
        },
        "id": "-U8BDfDnYuPG",
        "outputId": "30d5a272-ab1b-4aa8-a318-ab1dc6eea2b5"
      },
      "source": [
        "plt.hist(df.loc[~pos_tum, 'Kurtosis'], bins=np.arange(18, 60, 4));\n",
        "plt.title('Kurtosis distribution with histogram');"
      ],
      "execution_count": null,
      "outputs": [
        {
          "output_type": "display_data",
          "data": {
            "image/png": "[encoded data removed]",
            "text/plain": [
              "<Figure size 432x288 with 1 Axes>"
            ]
          },
          "metadata": {
            "needs_background": "light"
          }
        }
      ]
    },
    {
      "cell_type": "code",
      "metadata": {
        "colab": {
          "base_uri": "https://localhost:8080/",
          "height": 281
        },
        "id": "_ryk5JOzZLUa",
        "outputId": "2d624693-4525-44b6-c22b-2c4e3e20c795"
      },
      "source": [
        "plt.hist(df.loc[~pos_tum, 'Contrast'], bins=np.arange(18, 60, 4));\n",
        "plt.title('Contrast distribution with histogram');"
      ],
      "execution_count": null,
      "outputs": [
        {
          "output_type": "display_data",
          "data": {
            "image/png": "[encoded data removed]",
            "text/plain": [
              "<Figure size 432x288 with 1 Axes>"
            ]
          },
          "metadata": {
            "needs_background": "light"
          }
        }
      ]
    },
    {
      "cell_type": "markdown",
      "metadata": {
        "id": "m0iY9VmvajcA"
      },
      "source": [
        "**DATA EXPOLATORY**"
      ]
    },
    {
      "cell_type": "code",
      "metadata": {
        "colab": {
          "base_uri": "https://localhost:8080/",
          "height": 419
        },
        "id": "zOhvyUw_ash_",
        "outputId": "b7b436be-b2c0-433e-c8e7-7a1783ecb87e"
      },
      "source": [
        "# Mean vs diagnosis\n",
        "df[[\"Mean\",\"Target\"]].groupby([\"Mean\"],as_index=False).mean().sort_values(by=\"Target\",ascending=False)"
      ],
      "execution_count": null,
      "outputs": [
        {
          "output_type": "execute_result",
          "data": {
            "text/html": [
              "<div>\n",
              "<style scoped>\n",
              "    .dataframe tbody tr th:only-of-type {\n",
              "        vertical-align: middle;\n",
              "    }\n",
              "\n",
              "    .dataframe tbody tr th {\n",
              "        vertical-align: top;\n",
              "    }\n",
              "\n",
              "    .dataframe thead th {\n",
              "        text-align: right;\n",
              "    }\n",
              "</style>\n",
              "<table border=\"1\" class=\"dataframe\">\n",
              "  <thead>\n",
              "    <tr style=\"text-align: right;\">\n",
              "      <th></th>\n",
              "      <th>Mean</th>\n",
              "      <th>Target</th>\n",
              "    </tr>\n",
              "  </thead>\n",
              "  <tbody>\n",
              "    <tr>\n",
              "      <th>636</th>\n",
              "      <td>1.826401</td>\n",
              "      <td>1.0</td>\n",
              "    </tr>\n",
              "    <tr>\n",
              "      <th>817</th>\n",
              "      <td>3.178207</td>\n",
              "      <td>1.0</td>\n",
              "    </tr>\n",
              "    <tr>\n",
              "      <th>824</th>\n",
              "      <td>3.244263</td>\n",
              "      <td>1.0</td>\n",
              "    </tr>\n",
              "    <tr>\n",
              "      <th>823</th>\n",
              "      <td>3.230042</td>\n",
              "      <td>1.0</td>\n",
              "    </tr>\n",
              "    <tr>\n",
              "      <th>822</th>\n",
              "      <td>3.214905</td>\n",
              "      <td>1.0</td>\n",
              "    </tr>\n",
              "    <tr>\n",
              "      <th>...</th>\n",
              "      <td>...</td>\n",
              "      <td>...</td>\n",
              "    </tr>\n",
              "    <tr>\n",
              "      <th>1206</th>\n",
              "      <td>18.029953</td>\n",
              "      <td>0.0</td>\n",
              "    </tr>\n",
              "    <tr>\n",
              "      <th>1205</th>\n",
              "      <td>17.811386</td>\n",
              "      <td>0.0</td>\n",
              "    </tr>\n",
              "    <tr>\n",
              "      <th>1204</th>\n",
              "      <td>17.728073</td>\n",
              "      <td>0.0</td>\n",
              "    </tr>\n",
              "    <tr>\n",
              "      <th>1203</th>\n",
              "      <td>17.519821</td>\n",
              "      <td>0.0</td>\n",
              "    </tr>\n",
              "    <tr>\n",
              "      <th>906</th>\n",
              "      <td>4.174835</td>\n",
              "      <td>0.0</td>\n",
              "    </tr>\n",
              "  </tbody>\n",
              "</table>\n",
              "<p>1273 rows × 2 columns</p>\n",
              "</div>"
            ],
            "text/plain": [
              "           Mean  Target\n",
              "636    1.826401     1.0\n",
              "817    3.178207     1.0\n",
              "824    3.244263     1.0\n",
              "823    3.230042     1.0\n",
              "822    3.214905     1.0\n",
              "...         ...     ...\n",
              "1206  18.029953     0.0\n",
              "1205  17.811386     0.0\n",
              "1204  17.728073     0.0\n",
              "1203  17.519821     0.0\n",
              "906    4.174835     0.0\n",
              "\n",
              "[1273 rows x 2 columns]"
            ]
          },
          "metadata": {},
          "execution_count": 80
        }
      ]
    },
    {
      "cell_type": "code",
      "metadata": {
        "colab": {
          "base_uri": "https://localhost:8080/",
          "height": 419
        },
        "id": "cS0A9xS-a5K7",
        "outputId": "1ca1c669-1093-4296-bd66-5f9bcc380f07"
      },
      "source": [
        "# Variance vs diagnosis\n",
        "df[[\"Variance\",\"Target\"]].groupby([\"Variance\"],as_index=False).mean().sort_values(by=\"Target\",ascending=False)"
      ],
      "execution_count": null,
      "outputs": [
        {
          "output_type": "execute_result",
          "data": {
            "text/html": [
              "<div>\n",
              "<style scoped>\n",
              "    .dataframe tbody tr th:only-of-type {\n",
              "        vertical-align: middle;\n",
              "    }\n",
              "\n",
              "    .dataframe tbody tr th {\n",
              "        vertical-align: top;\n",
              "    }\n",
              "\n",
              "    .dataframe thead th {\n",
              "        text-align: right;\n",
              "    }\n",
              "</style>\n",
              "<table border=\"1\" class=\"dataframe\">\n",
              "  <thead>\n",
              "    <tr style=\"text-align: right;\">\n",
              "      <th></th>\n",
              "      <th>Variance</th>\n",
              "      <th>Target</th>\n",
              "    </tr>\n",
              "  </thead>\n",
              "  <tbody>\n",
              "    <tr>\n",
              "      <th>637</th>\n",
              "      <td>280.429184</td>\n",
              "      <td>1.0</td>\n",
              "    </tr>\n",
              "    <tr>\n",
              "      <th>819</th>\n",
              "      <td>481.497432</td>\n",
              "      <td>1.0</td>\n",
              "    </tr>\n",
              "    <tr>\n",
              "      <th>827</th>\n",
              "      <td>493.035673</td>\n",
              "      <td>1.0</td>\n",
              "    </tr>\n",
              "    <tr>\n",
              "      <th>826</th>\n",
              "      <td>489.995278</td>\n",
              "      <td>1.0</td>\n",
              "    </tr>\n",
              "    <tr>\n",
              "      <th>825</th>\n",
              "      <td>489.382789</td>\n",
              "      <td>1.0</td>\n",
              "    </tr>\n",
              "    <tr>\n",
              "      <th>...</th>\n",
              "      <td>...</td>\n",
              "      <td>...</td>\n",
              "    </tr>\n",
              "    <tr>\n",
              "      <th>1079</th>\n",
              "      <td>998.972243</td>\n",
              "      <td>0.0</td>\n",
              "    </tr>\n",
              "    <tr>\n",
              "      <th>167</th>\n",
              "      <td>22.333591</td>\n",
              "      <td>0.0</td>\n",
              "    </tr>\n",
              "    <tr>\n",
              "      <th>1082</th>\n",
              "      <td>1006.486825</td>\n",
              "      <td>0.0</td>\n",
              "    </tr>\n",
              "    <tr>\n",
              "      <th>1205</th>\n",
              "      <td>1634.918516</td>\n",
              "      <td>0.0</td>\n",
              "    </tr>\n",
              "    <tr>\n",
              "      <th>614</th>\n",
              "      <td>263.629562</td>\n",
              "      <td>0.0</td>\n",
              "    </tr>\n",
              "  </tbody>\n",
              "</table>\n",
              "<p>1275 rows × 2 columns</p>\n",
              "</div>"
            ],
            "text/plain": [
              "         Variance  Target\n",
              "637    280.429184     1.0\n",
              "819    481.497432     1.0\n",
              "827    493.035673     1.0\n",
              "826    489.995278     1.0\n",
              "825    489.382789     1.0\n",
              "...           ...     ...\n",
              "1079   998.972243     0.0\n",
              "167     22.333591     0.0\n",
              "1082  1006.486825     0.0\n",
              "1205  1634.918516     0.0\n",
              "614    263.629562     0.0\n",
              "\n",
              "[1275 rows x 2 columns]"
            ]
          },
          "metadata": {},
          "execution_count": 81
        }
      ]
    },
    {
      "cell_type": "code",
      "metadata": {
        "colab": {
          "base_uri": "https://localhost:8080/",
          "height": 503
        },
        "id": "zqpmiyad-KHB",
        "outputId": "0ec9fbc4-adcb-474f-ba34-5898f5645ace"
      },
      "source": [
        "# Increase the size of the heatmap.\n",
        "plt.figure(figsize=(16, 6))\n",
        "# Store heatmap object in a variable to easily access it when you want to include more features (such as title).\n",
        "# Set the range of values to be displayed on the colormap from -1 to 1, and set the annotation to True to display the correlation values on the heatmap.\n",
        "heatmap = sns.heatmap(df.corr(), vmin=-1, vmax=1, annot=True)\n",
        "# Give a title to the heatmap. Pad defines the distance of the title from the top of the heatmap.\n",
        "heatmap.set_title('Correlation Heatmap', fontdict={'fontsize':12}, pad=12);"
      ],
      "execution_count": null,
      "outputs": [
        {
          "output_type": "display_data",
          "data": {
            "image/png": "[encoded data removed]",
            "text/plain": [
              "<Figure size 1152x432 with 2 Axes>"
            ]
          },
          "metadata": {
            "needs_background": "light"
          }
        }
      ]
    },
    {
      "cell_type": "markdown",
      "metadata": {
        "id": "W1Fm37Hi-_t6"
      },
      "source": [
        "**The most correlated ones with target variable are DC, SSIM, Standard Deviation**\n",
        "\n",
        "**The least correlated ones are Mean, Dissimilarity, Correlation, PCNR, MSE**"
      ]
    },
    {
      "cell_type": "code",
      "metadata": {
        "colab": {
          "base_uri": "https://localhost:8080/",
          "height": 283
        },
        "id": "8FYRD53xQZBV",
        "outputId": "47844cc8-5498-4206-a58a-a4d0bbf5124d"
      },
      "source": [
        "plt.hist(df.loc[pos_tum, 'Standard Deviation'], label='POSITIVE',\n",
        "         bins=np.arange(18, 60, 3),alpha=0.3, density=True)\n",
        "plt.hist(df.loc[~pos_tum, 'Standard Deviation'], label='NEGATIVE',\n",
        "         bins=np.arange(18, 60, 3), alpha=0.3, density=True)\n",
        "plt.xlabel('Standard Deviation')\n",
        "plt.ylabel('Rate number')\n",
        "plt.legend()\n",
        "plt.show()"
      ],
      "execution_count": null,
      "outputs": [
        {
          "output_type": "display_data",
          "data": {
            "image/png": "[encoded data removed]",
            "text/plain": [
              "<Figure size 432x288 with 1 Axes>"
            ]
          },
          "metadata": {
            "needs_background": "light"
          }
        }
      ]
    },
    {
      "cell_type": "code",
      "metadata": {
        "id": "gkVa28_acQh0"
      },
      "source": [
        "res_pos = np.unique(df.loc[pos_tum, 'Mean'], return_counts=True)\n",
        "res_neg = np.unique(df.loc[~pos_tum, 'Mean'], return_counts=True)"
      ],
      "execution_count": null,
      "outputs": []
    },
    {
      "cell_type": "code",
      "metadata": {
        "colab": {
          "base_uri": "https://localhost:8080/",
          "height": 279
        },
        "id": "_WLAGTR0cq7L",
        "outputId": "8ddcd24e-7967-4cdc-b405-b0740c4d0bc3"
      },
      "source": [
        "max_DC = 4\n",
        "\n",
        "plt.plot(res_pos[0][:max_DC], res_pos[1][:max_DC]/res_pos[1][:max_DC].sum(), label='Positive')\n",
        "plt.plot(res_neg[0][:max_DC], res_neg[1][:max_DC]/res_neg[1][:max_DC].sum(), label='Negative')\n",
        "plt.legend()\n",
        "plt.xlabel('Mean')\n",
        "plt.xticks(res_neg[0][:max_DC:2])\n",
        "plt.show()"
      ],
      "execution_count": null,
      "outputs": [
        {
          "output_type": "display_data",
          "data": {
            "image/png": "[encoded data removed]",
            "text/plain": [
              "<Figure size 432x288 with 1 Axes>"
            ]
          },
          "metadata": {
            "needs_background": "light"
          }
        }
      ]
    },
    {
      "cell_type": "markdown",
      "metadata": {
        "id": "1kcgXLFvgkc0"
      },
      "source": [
        "**OUTLIER DETECTION**"
      ]
    },
    {
      "cell_type": "code",
      "metadata": {
        "id": "XnWnl_c2foOU"
      },
      "source": [
        "def detect_outliers(dfl, features):\n",
        "    outlier_indices=[]\n",
        "    \n",
        "    for c in features:\n",
        "        #1st quartile\n",
        "        Q1 = np.percentile(dfl[c],25)\n",
        "        #3rd quartile\n",
        "        Q3 = np.percentile(dfl[c],75)\n",
        "        #IQR\n",
        "        IQR = Q3 - Q1\n",
        "        #Outlier step\n",
        "        outlier_step = IQR * 1.5\n",
        "        #detect outlier and their indices\n",
        "        outlier_list_col = dfl[(dfl[c] < Q1 - outlier_step) | (dfl[c] > Q3 + outlier_step)].index\n",
        "        # store indices\n",
        "        outlier_indices.extend(outlier_list_col)\n",
        "        \n",
        "    outlier_indices = Counter(outlier_indices) \n",
        "    multiple_outliers = list(i for i, v in outlier_indices.items() if v > 2)\n",
        "    return multiple_outliers"
      ],
      "execution_count": null,
      "outputs": []
    },
    {
      "cell_type": "code",
      "metadata": {
        "colab": {
          "base_uri": "https://localhost:8080/",
          "height": 657
        },
        "id": "NbGXpUJjgCMu",
        "outputId": "cfef397c-eff1-4e33-cff0-da7ddd2c272a"
      },
      "source": [
        "df.loc[detect_outliers(df,[\"Mean\", \"Variance\", \"Standard Deviation\", \"Entropy\", \"Skewness\", \"Kurtosis\", \"Contrast\", \"Energy\", \"ASM\", \"Homogeneity\", \"Dissimilarity\", \"Correlation\", \"Coarseness\",\"PSNR\",\"SSIM\",\"MSE\",\"DC\"])]"
      ],
      "execution_count": null,
      "outputs": [
        {
          "output_type": "execute_result",
          "data": {
            "text/html": [
              "<div>\n",
              "<style scoped>\n",
              "    .dataframe tbody tr th:only-of-type {\n",
              "        vertical-align: middle;\n",
              "    }\n",
              "\n",
              "    .dataframe tbody tr th {\n",
              "        vertical-align: top;\n",
              "    }\n",
              "\n",
              "    .dataframe thead th {\n",
              "        text-align: right;\n",
              "    }\n",
              "</style>\n",
              "<table border=\"1\" class=\"dataframe\">\n",
              "  <thead>\n",
              "    <tr style=\"text-align: right;\">\n",
              "      <th></th>\n",
              "      <th>Mean</th>\n",
              "      <th>Variance</th>\n",
              "      <th>Standard Deviation</th>\n",
              "      <th>Entropy</th>\n",
              "      <th>Skewness</th>\n",
              "      <th>Kurtosis</th>\n",
              "      <th>Contrast</th>\n",
              "      <th>Energy</th>\n",
              "      <th>ASM</th>\n",
              "      <th>Homogeneity</th>\n",
              "      <th>Dissimilarity</th>\n",
              "      <th>Correlation</th>\n",
              "      <th>Coarseness</th>\n",
              "      <th>PSNR</th>\n",
              "      <th>SSIM</th>\n",
              "      <th>MSE</th>\n",
              "      <th>DC</th>\n",
              "      <th>Target</th>\n",
              "    </tr>\n",
              "    <tr>\n",
              "      <th>Image</th>\n",
              "      <th></th>\n",
              "      <th></th>\n",
              "      <th></th>\n",
              "      <th></th>\n",
              "      <th></th>\n",
              "      <th></th>\n",
              "      <th></th>\n",
              "      <th></th>\n",
              "      <th></th>\n",
              "      <th></th>\n",
              "      <th></th>\n",
              "      <th></th>\n",
              "      <th></th>\n",
              "      <th></th>\n",
              "      <th></th>\n",
              "      <th></th>\n",
              "      <th></th>\n",
              "      <th></th>\n",
              "    </tr>\n",
              "  </thead>\n",
              "  <tbody>\n",
              "    <tr>\n",
              "      <th>Image1</th>\n",
              "      <td>23.448517</td>\n",
              "      <td>2538.985627</td>\n",
              "      <td>50.388348</td>\n",
              "      <td>0.651174</td>\n",
              "      <td>1.984202</td>\n",
              "      <td>5.421042</td>\n",
              "      <td>181.467713</td>\n",
              "      <td>0.781557</td>\n",
              "      <td>0.610831</td>\n",
              "      <td>0.847033</td>\n",
              "      <td>2.765411</td>\n",
              "      <td>0.968576</td>\n",
              "      <td>7.458341e-155</td>\n",
              "      <td>97.974630</td>\n",
              "      <td>0.777011</td>\n",
              "      <td>0.171163</td>\n",
              "      <td>0.303989</td>\n",
              "      <td>1</td>\n",
              "    </tr>\n",
              "    <tr>\n",
              "      <th>Image5</th>\n",
              "      <td>21.000793</td>\n",
              "      <td>2235.316978</td>\n",
              "      <td>47.279139</td>\n",
              "      <td>0.684724</td>\n",
              "      <td>1.936029</td>\n",
              "      <td>4.722343</td>\n",
              "      <td>312.439226</td>\n",
              "      <td>0.804184</td>\n",
              "      <td>0.646711</td>\n",
              "      <td>0.880301</td>\n",
              "      <td>3.006660</td>\n",
              "      <td>0.938572</td>\n",
              "      <td>7.458341e-155</td>\n",
              "      <td>97.639870</td>\n",
              "      <td>0.766308</td>\n",
              "      <td>0.184878</td>\n",
              "      <td>0.000000</td>\n",
              "      <td>0</td>\n",
              "    </tr>\n",
              "    <tr>\n",
              "      <th>Image7</th>\n",
              "      <td>11.350555</td>\n",
              "      <td>998.972243</td>\n",
              "      <td>31.606522</td>\n",
              "      <td>0.761106</td>\n",
              "      <td>2.533920</td>\n",
              "      <td>7.394586</td>\n",
              "      <td>303.947978</td>\n",
              "      <td>0.854277</td>\n",
              "      <td>0.729789</td>\n",
              "      <td>0.902355</td>\n",
              "      <td>3.440551</td>\n",
              "      <td>0.866480</td>\n",
              "      <td>7.458341e-155</td>\n",
              "      <td>99.206579</td>\n",
              "      <td>0.794881</td>\n",
              "      <td>0.128889</td>\n",
              "      <td>0.000000</td>\n",
              "      <td>0</td>\n",
              "    </tr>\n",
              "    <tr>\n",
              "      <th>Image16</th>\n",
              "      <td>17.811386</td>\n",
              "      <td>1219.680747</td>\n",
              "      <td>34.923928</td>\n",
              "      <td>0.610209</td>\n",
              "      <td>1.690158</td>\n",
              "      <td>4.152791</td>\n",
              "      <td>107.296792</td>\n",
              "      <td>0.753242</td>\n",
              "      <td>0.567373</td>\n",
              "      <td>0.836566</td>\n",
              "      <td>2.359170</td>\n",
              "      <td>0.961286</td>\n",
              "      <td>7.458341e-155</td>\n",
              "      <td>96.578527</td>\n",
              "      <td>0.719920</td>\n",
              "      <td>0.236059</td>\n",
              "      <td>0.000000</td>\n",
              "      <td>0</td>\n",
              "    </tr>\n",
              "    <tr>\n",
              "      <th>Image25</th>\n",
              "      <td>11.623871</td>\n",
              "      <td>599.609692</td>\n",
              "      <td>24.486929</td>\n",
              "      <td>0.657436</td>\n",
              "      <td>1.774659</td>\n",
              "      <td>4.142207</td>\n",
              "      <td>53.437692</td>\n",
              "      <td>0.785695</td>\n",
              "      <td>0.617317</td>\n",
              "      <td>0.892227</td>\n",
              "      <td>1.185146</td>\n",
              "      <td>0.960809</td>\n",
              "      <td>7.458341e-155</td>\n",
              "      <td>54.986498</td>\n",
              "      <td>0.758534</td>\n",
              "      <td>0.206267</td>\n",
              "      <td>0.000000</td>\n",
              "      <td>0</td>\n",
              "    </tr>\n",
              "    <tr>\n",
              "      <th>...</th>\n",
              "      <td>...</td>\n",
              "      <td>...</td>\n",
              "      <td>...</td>\n",
              "      <td>...</td>\n",
              "      <td>...</td>\n",
              "      <td>...</td>\n",
              "      <td>...</td>\n",
              "      <td>...</td>\n",
              "      <td>...</td>\n",
              "      <td>...</td>\n",
              "      <td>...</td>\n",
              "      <td>...</td>\n",
              "      <td>...</td>\n",
              "      <td>...</td>\n",
              "      <td>...</td>\n",
              "      <td>...</td>\n",
              "      <td>...</td>\n",
              "      <td>...</td>\n",
              "    </tr>\n",
              "    <tr>\n",
              "      <th>Image1641</th>\n",
              "      <td>6.885025</td>\n",
              "      <td>802.478515</td>\n",
              "      <td>28.328052</td>\n",
              "      <td>0.878419</td>\n",
              "      <td>3.939967</td>\n",
              "      <td>16.456794</td>\n",
              "      <td>266.135425</td>\n",
              "      <td>0.927687</td>\n",
              "      <td>0.860602</td>\n",
              "      <td>0.951086</td>\n",
              "      <td>2.303173</td>\n",
              "      <td>0.854682</td>\n",
              "      <td>7.458341e-155</td>\n",
              "      <td>60.126401</td>\n",
              "      <td>0.886831</td>\n",
              "      <td>0.063160</td>\n",
              "      <td>0.000000</td>\n",
              "      <td>0</td>\n",
              "    </tr>\n",
              "    <tr>\n",
              "      <th>Image1146</th>\n",
              "      <td>7.951401</td>\n",
              "      <td>1108.889502</td>\n",
              "      <td>33.299993</td>\n",
              "      <td>0.881140</td>\n",
              "      <td>4.027700</td>\n",
              "      <td>17.205369</td>\n",
              "      <td>377.300314</td>\n",
              "      <td>0.929350</td>\n",
              "      <td>0.863692</td>\n",
              "      <td>0.946501</td>\n",
              "      <td>2.813877</td>\n",
              "      <td>0.850917</td>\n",
              "      <td>7.458341e-155</td>\n",
              "      <td>60.848111</td>\n",
              "      <td>0.895284</td>\n",
              "      <td>0.053490</td>\n",
              "      <td>0.231479</td>\n",
              "      <td>1</td>\n",
              "    </tr>\n",
              "    <tr>\n",
              "      <th>Image1413</th>\n",
              "      <td>7.214188</td>\n",
              "      <td>884.559681</td>\n",
              "      <td>29.741548</td>\n",
              "      <td>0.880720</td>\n",
              "      <td>3.955053</td>\n",
              "      <td>16.606880</td>\n",
              "      <td>239.604079</td>\n",
              "      <td>0.929085</td>\n",
              "      <td>0.863200</td>\n",
              "      <td>0.953878</td>\n",
              "      <td>2.037378</td>\n",
              "      <td>0.881310</td>\n",
              "      <td>7.458341e-155</td>\n",
              "      <td>61.555332</td>\n",
              "      <td>0.910005</td>\n",
              "      <td>0.045451</td>\n",
              "      <td>0.508818</td>\n",
              "      <td>1</td>\n",
              "    </tr>\n",
              "    <tr>\n",
              "      <th>Image1530</th>\n",
              "      <td>4.960739</td>\n",
              "      <td>528.425041</td>\n",
              "      <td>22.987497</td>\n",
              "      <td>0.898871</td>\n",
              "      <td>4.515258</td>\n",
              "      <td>21.511220</td>\n",
              "      <td>200.430788</td>\n",
              "      <td>0.940097</td>\n",
              "      <td>0.883782</td>\n",
              "      <td>0.959008</td>\n",
              "      <td>2.013459</td>\n",
              "      <td>0.833845</td>\n",
              "      <td>7.458341e-155</td>\n",
              "      <td>103.253185</td>\n",
              "      <td>0.904402</td>\n",
              "      <td>0.050764</td>\n",
              "      <td>0.000000</td>\n",
              "      <td>0</td>\n",
              "    </tr>\n",
              "    <tr>\n",
              "      <th>Image1607</th>\n",
              "      <td>3.434189</td>\n",
              "      <td>371.619716</td>\n",
              "      <td>19.277441</td>\n",
              "      <td>0.926819</td>\n",
              "      <td>5.489984</td>\n",
              "      <td>31.096082</td>\n",
              "      <td>195.726185</td>\n",
              "      <td>0.956886</td>\n",
              "      <td>0.915630</td>\n",
              "      <td>0.970373</td>\n",
              "      <td>1.824372</td>\n",
              "      <td>0.769354</td>\n",
              "      <td>7.458341e-155</td>\n",
              "      <td>62.698749</td>\n",
              "      <td>0.922667</td>\n",
              "      <td>0.034931</td>\n",
              "      <td>0.000000</td>\n",
              "      <td>0</td>\n",
              "    </tr>\n",
              "  </tbody>\n",
              "</table>\n",
              "<p>200 rows × 18 columns</p>\n",
              "</div>"
            ],
            "text/plain": [
              "                Mean     Variance  ...        DC  Target\n",
              "Image                              ...                  \n",
              "Image1     23.448517  2538.985627  ...  0.303989       1\n",
              "Image5     21.000793  2235.316978  ...  0.000000       0\n",
              "Image7     11.350555   998.972243  ...  0.000000       0\n",
              "Image16    17.811386  1219.680747  ...  0.000000       0\n",
              "Image25    11.623871   599.609692  ...  0.000000       0\n",
              "...              ...          ...  ...       ...     ...\n",
              "Image1641   6.885025   802.478515  ...  0.000000       0\n",
              "Image1146   7.951401  1108.889502  ...  0.231479       1\n",
              "Image1413   7.214188   884.559681  ...  0.508818       1\n",
              "Image1530   4.960739   528.425041  ...  0.000000       0\n",
              "Image1607   3.434189   371.619716  ...  0.000000       0\n",
              "\n",
              "[200 rows x 18 columns]"
            ]
          },
          "metadata": {},
          "execution_count": 135
        }
      ]
    },
    {
      "cell_type": "code",
      "metadata": {
        "id": "fSgeEpr-g2sU"
      },
      "source": [
        "# drop Outliers\n",
        "df = df.drop(detect_outliers(df,[\"Mean\", \"Variance\", \"Standard Deviation\", \"Entropy\", \"Skewness\", \"Kurtosis\", \"Contrast\", \"Energy\", \"ASM\", \"Homogeneity\", \"Dissimilarity\", \"Correlation\", \"Coarseness\",\"PSNR\",\"SSIM\",\"MSE\",\"DC\"]),axis=0).reset_index(drop=True)"
      ],
      "execution_count": null,
      "outputs": []
    },
    {
      "cell_type": "code",
      "metadata": {
        "colab": {
          "base_uri": "https://localhost:8080/",
          "height": 326
        },
        "id": "oH__-ACng-qC",
        "outputId": "13cad7c7-102d-4b5b-85ca-c73acda596ee"
      },
      "source": [
        "df.head()"
      ],
      "execution_count": null,
      "outputs": [
        {
          "output_type": "execute_result",
          "data": {
            "text/html": [
              "<div>\n",
              "<style scoped>\n",
              "    .dataframe tbody tr th:only-of-type {\n",
              "        vertical-align: middle;\n",
              "    }\n",
              "\n",
              "    .dataframe tbody tr th {\n",
              "        vertical-align: top;\n",
              "    }\n",
              "\n",
              "    .dataframe thead th {\n",
              "        text-align: right;\n",
              "    }\n",
              "</style>\n",
              "<table border=\"1\" class=\"dataframe\">\n",
              "  <thead>\n",
              "    <tr style=\"text-align: right;\">\n",
              "      <th></th>\n",
              "      <th>Mean</th>\n",
              "      <th>Variance</th>\n",
              "      <th>Standard Deviation</th>\n",
              "      <th>Entropy</th>\n",
              "      <th>Skewness</th>\n",
              "      <th>Kurtosis</th>\n",
              "      <th>Contrast</th>\n",
              "      <th>Energy</th>\n",
              "      <th>ASM</th>\n",
              "      <th>Homogeneity</th>\n",
              "      <th>Dissimilarity</th>\n",
              "      <th>Correlation</th>\n",
              "      <th>Coarseness</th>\n",
              "      <th>PSNR</th>\n",
              "      <th>SSIM</th>\n",
              "      <th>MSE</th>\n",
              "      <th>DC</th>\n",
              "      <th>Target</th>\n",
              "    </tr>\n",
              "  </thead>\n",
              "  <tbody>\n",
              "    <tr>\n",
              "      <th>0</th>\n",
              "      <td>4.398331</td>\n",
              "      <td>834.853030</td>\n",
              "      <td>28.893823</td>\n",
              "      <td>0.953532</td>\n",
              "      <td>6.495203</td>\n",
              "      <td>43.349355</td>\n",
              "      <td>76.745886</td>\n",
              "      <td>0.972770</td>\n",
              "      <td>0.946281</td>\n",
              "      <td>0.980762</td>\n",
              "      <td>0.548605</td>\n",
              "      <td>0.959751</td>\n",
              "      <td>7.458341e-155</td>\n",
              "      <td>110.346597</td>\n",
              "      <td>0.977953</td>\n",
              "      <td>0.009913</td>\n",
              "      <td>0.839019</td>\n",
              "      <td>1</td>\n",
              "    </tr>\n",
              "    <tr>\n",
              "      <th>1</th>\n",
              "      <td>3.244263</td>\n",
              "      <td>642.059166</td>\n",
              "      <td>25.338886</td>\n",
              "      <td>0.966065</td>\n",
              "      <td>7.772860</td>\n",
              "      <td>61.756034</td>\n",
              "      <td>81.752406</td>\n",
              "      <td>0.980161</td>\n",
              "      <td>0.960715</td>\n",
              "      <td>0.985066</td>\n",
              "      <td>0.540411</td>\n",
              "      <td>0.944259</td>\n",
              "      <td>7.458341e-155</td>\n",
              "      <td>112.266298</td>\n",
              "      <td>0.985362</td>\n",
              "      <td>0.006372</td>\n",
              "      <td>0.849775</td>\n",
              "      <td>1</td>\n",
              "    </tr>\n",
              "    <tr>\n",
              "      <th>2</th>\n",
              "      <td>0.000000</td>\n",
              "      <td>0.000000</td>\n",
              "      <td>0.000000</td>\n",
              "      <td>1.000000</td>\n",
              "      <td>NaN</td>\n",
              "      <td>NaN</td>\n",
              "      <td>0.000000</td>\n",
              "      <td>1.000000</td>\n",
              "      <td>1.000000</td>\n",
              "      <td>1.000000</td>\n",
              "      <td>0.000000</td>\n",
              "      <td>1.000000</td>\n",
              "      <td>7.458341e-155</td>\n",
              "      <td>inf</td>\n",
              "      <td>NaN</td>\n",
              "      <td>0.000000</td>\n",
              "      <td>NaN</td>\n",
              "      <td>0</td>\n",
              "    </tr>\n",
              "    <tr>\n",
              "      <th>3</th>\n",
              "      <td>0.405136</td>\n",
              "      <td>68.378718</td>\n",
              "      <td>8.269143</td>\n",
              "      <td>0.994724</td>\n",
              "      <td>20.388025</td>\n",
              "      <td>416.843433</td>\n",
              "      <td>17.789156</td>\n",
              "      <td>0.996932</td>\n",
              "      <td>0.993873</td>\n",
              "      <td>0.997885</td>\n",
              "      <td>0.114400</td>\n",
              "      <td>0.886144</td>\n",
              "      <td>7.458341e-155</td>\n",
              "      <td>111.371193</td>\n",
              "      <td>0.985175</td>\n",
              "      <td>0.007830</td>\n",
              "      <td>0.410458</td>\n",
              "      <td>1</td>\n",
              "    </tr>\n",
              "    <tr>\n",
              "      <th>4</th>\n",
              "      <td>5.955872</td>\n",
              "      <td>937.438650</td>\n",
              "      <td>30.617620</td>\n",
              "      <td>0.926931</td>\n",
              "      <td>5.015434</td>\n",
              "      <td>26.150440</td>\n",
              "      <td>57.226813</td>\n",
              "      <td>0.956961</td>\n",
              "      <td>0.915774</td>\n",
              "      <td>0.974157</td>\n",
              "      <td>0.507706</td>\n",
              "      <td>0.973263</td>\n",
              "      <td>7.458341e-155</td>\n",
              "      <td>111.439129</td>\n",
              "      <td>0.981891</td>\n",
              "      <td>0.007708</td>\n",
              "      <td>0.914484</td>\n",
              "      <td>1</td>\n",
              "    </tr>\n",
              "  </tbody>\n",
              "</table>\n",
              "</div>"
            ],
            "text/plain": [
              "       Mean    Variance  Standard Deviation  ...       MSE        DC  Target\n",
              "0  4.398331  834.853030           28.893823  ...  0.009913  0.839019       1\n",
              "1  3.244263  642.059166           25.338886  ...  0.006372  0.849775       1\n",
              "2  0.000000    0.000000            0.000000  ...  0.000000       NaN       0\n",
              "3  0.405136   68.378718            8.269143  ...  0.007830  0.410458       1\n",
              "4  5.955872  937.438650           30.617620  ...  0.007708  0.914484       1\n",
              "\n",
              "[5 rows x 18 columns]"
            ]
          },
          "metadata": {},
          "execution_count": 137
        }
      ]
    },
    {
      "cell_type": "markdown",
      "metadata": {
        "id": "AK-XxRSyiL1E"
      },
      "source": [
        "#**PART 3**#"
      ]
    },
    {
      "cell_type": "code",
      "metadata": {
        "id": "zEZ5oZ8UiPS6"
      },
      "source": [
        ""
      ],
      "execution_count": null,
      "outputs": []
    }
  ]
}