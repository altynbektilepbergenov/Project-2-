{
  "nbformat": 4,
  "nbformat_minor": 0,
  "metadata": {
    "colab": {
      "name": "brain tumor altynbek.ipynb",
      "provenance": []
    },
    "kernelspec": {
      "name": "python3",
      "display_name": "Python 3"
    },
    "language_info": {
      "name": "python"
    },
    "accelerator": "GPU"
  },
  "cells": [
    {
      "cell_type": "code",
      "metadata": {
        "id": "VLaOJxzkcOJ7"
      },
      "source": [
        "from google.colab import drive\n",
        "drive.mount('/content/drive')"
      ],
      "execution_count": null,
      "outputs": []
    },
    {
      "cell_type": "code",
      "metadata": {
        "id": "zfQPNmU6cWzz"
      },
      "source": [
        "import pandas as pd\n",
        "import numpy as np\n",
        "import os\n",
        "\n",
        "import tensorflow as tf\n",
        "import cv2\n",
        "from tensorflow import keras\n",
        "from tensorflow.keras import layers, Input\n",
        "from keras.layers import InputLayer, MaxPooling2D, Flatten, Dense, Conv2D, Dropout\n",
        "from keras.losses import BinaryCrossentropy\n",
        "from tensorflow.keras.models import Sequential, Model\n",
        "from tensorflow.keras.preprocessing import image\n",
        "from tensorflow.keras.applications.resnet50 import preprocess_input, decode_predictions, ResNet50\n",
        "from tensorflow.keras.optimizers import Adam, SGD\n",
        "\n",
        "from sklearn.utils import shuffle\n",
        "from sklearn.model_selection import train_test_split\n",
        "from PIL.Image import open\n",
        "\n",
        "from  matplotlib import pyplot as plt\n",
        "import matplotlib.image as mpimg\n",
        "import random\n",
        "%matplotlib inline"
      ],
      "execution_count": null,
      "outputs": []
    },
    {
      "cell_type": "code",
      "metadata": {
        "id": "tBj1xgsfccAW"
      },
      "source": [
        "import pandas as pd\n",
        "import pandas as pd\n",
        "import numpy as np\n",
        "import matplotlib.pyplot as plt\n",
        "import seaborn as sns\n",
        "from sklearn.ensemble import GradientBoostingClassifier\n",
        "from sklearn.model_selection import train_test_split, GridSearchCV\n",
        "from sklearn.preprocessing import OneHotEncoder\n",
        "from sklearn.metrics import classification_report, plot_confusion_matrix\n",
        "import xgboost\n",
        "from sklearn.preprocessing import StandardScaler\n",
        "from sklearn.model_selection import train_test_split\n",
        "from sklearn.ensemble import GradientBoostingClassifier\n",
        "from xgboost import XGBClassifier\n",
        "from lightgbm import LGBMClassifier\n",
        "\n",
        "from collections import Counter"
      ],
      "execution_count": null,
      "outputs": []
    },
    {
      "cell_type": "code",
      "metadata": {
        "id": "0t-f6VSJ_qUr"
      },
      "source": [
        ""
      ],
      "execution_count": null,
      "outputs": []
    },
    {
      "cell_type": "code",
      "metadata": {
        "id": "7mcrCistcfUM",
        "colab": {
          "base_uri": "https://localhost:8080/",
          "height": 632
        },
        "outputId": "014e1b87-7c36-491f-f186-47b371b9da26"
      },
      "source": [
        "df=pd.read_csv('Brain Tumor.csv')\n",
        "df"
      ],
      "execution_count": null,
      "outputs": [
        {
          "output_type": "execute_result",
          "data": {
            "text/html": [
              "<div>\n",
              "<style scoped>\n",
              "    .dataframe tbody tr th:only-of-type {\n",
              "        vertical-align: middle;\n",
              "    }\n",
              "\n",
              "    .dataframe tbody tr th {\n",
              "        vertical-align: top;\n",
              "    }\n",
              "\n",
              "    .dataframe thead th {\n",
              "        text-align: right;\n",
              "    }\n",
              "</style>\n",
              "<table border=\"1\" class=\"dataframe\">\n",
              "  <thead>\n",
              "    <tr style=\"text-align: right;\">\n",
              "      <th></th>\n",
              "      <th>Image</th>\n",
              "      <th>Class</th>\n",
              "      <th>Mean</th>\n",
              "      <th>Variance</th>\n",
              "      <th>Standard Deviation</th>\n",
              "      <th>Entropy</th>\n",
              "      <th>Skewness</th>\n",
              "      <th>Kurtosis</th>\n",
              "      <th>Contrast</th>\n",
              "      <th>Energy</th>\n",
              "      <th>ASM</th>\n",
              "      <th>Homogeneity</th>\n",
              "      <th>Dissimilarity</th>\n",
              "      <th>Correlation</th>\n",
              "      <th>Coarseness</th>\n",
              "    </tr>\n",
              "  </thead>\n",
              "  <tbody>\n",
              "    <tr>\n",
              "      <th>0</th>\n",
              "      <td>Image1</td>\n",
              "      <td>0</td>\n",
              "      <td>6.535339</td>\n",
              "      <td>619.587845</td>\n",
              "      <td>24.891522</td>\n",
              "      <td>0.109059</td>\n",
              "      <td>4.276477</td>\n",
              "      <td>18.900575</td>\n",
              "      <td>98.613971</td>\n",
              "      <td>0.293314</td>\n",
              "      <td>0.086033</td>\n",
              "      <td>0.530941</td>\n",
              "      <td>4.473346</td>\n",
              "      <td>0.981939</td>\n",
              "      <td>7.458341e-155</td>\n",
              "    </tr>\n",
              "    <tr>\n",
              "      <th>1</th>\n",
              "      <td>Image2</td>\n",
              "      <td>0</td>\n",
              "      <td>8.749969</td>\n",
              "      <td>805.957634</td>\n",
              "      <td>28.389393</td>\n",
              "      <td>0.266538</td>\n",
              "      <td>3.718116</td>\n",
              "      <td>14.464618</td>\n",
              "      <td>63.858816</td>\n",
              "      <td>0.475051</td>\n",
              "      <td>0.225674</td>\n",
              "      <td>0.651352</td>\n",
              "      <td>3.220072</td>\n",
              "      <td>0.988834</td>\n",
              "      <td>7.458341e-155</td>\n",
              "    </tr>\n",
              "    <tr>\n",
              "      <th>2</th>\n",
              "      <td>Image3</td>\n",
              "      <td>1</td>\n",
              "      <td>7.341095</td>\n",
              "      <td>1143.808219</td>\n",
              "      <td>33.820234</td>\n",
              "      <td>0.001467</td>\n",
              "      <td>5.061750</td>\n",
              "      <td>26.479563</td>\n",
              "      <td>81.867206</td>\n",
              "      <td>0.031917</td>\n",
              "      <td>0.001019</td>\n",
              "      <td>0.268275</td>\n",
              "      <td>5.981800</td>\n",
              "      <td>0.978014</td>\n",
              "      <td>7.458341e-155</td>\n",
              "    </tr>\n",
              "    <tr>\n",
              "      <th>3</th>\n",
              "      <td>Image4</td>\n",
              "      <td>1</td>\n",
              "      <td>5.958145</td>\n",
              "      <td>959.711985</td>\n",
              "      <td>30.979219</td>\n",
              "      <td>0.001477</td>\n",
              "      <td>5.677977</td>\n",
              "      <td>33.428845</td>\n",
              "      <td>151.229741</td>\n",
              "      <td>0.032024</td>\n",
              "      <td>0.001026</td>\n",
              "      <td>0.243851</td>\n",
              "      <td>7.700919</td>\n",
              "      <td>0.964189</td>\n",
              "      <td>7.458341e-155</td>\n",
              "    </tr>\n",
              "    <tr>\n",
              "      <th>4</th>\n",
              "      <td>Image5</td>\n",
              "      <td>0</td>\n",
              "      <td>7.315231</td>\n",
              "      <td>729.540579</td>\n",
              "      <td>27.010009</td>\n",
              "      <td>0.146761</td>\n",
              "      <td>4.283221</td>\n",
              "      <td>19.079108</td>\n",
              "      <td>174.988756</td>\n",
              "      <td>0.343849</td>\n",
              "      <td>0.118232</td>\n",
              "      <td>0.501140</td>\n",
              "      <td>6.834689</td>\n",
              "      <td>0.972789</td>\n",
              "      <td>7.458341e-155</td>\n",
              "    </tr>\n",
              "    <tr>\n",
              "      <th>...</th>\n",
              "      <td>...</td>\n",
              "      <td>...</td>\n",
              "      <td>...</td>\n",
              "      <td>...</td>\n",
              "      <td>...</td>\n",
              "      <td>...</td>\n",
              "      <td>...</td>\n",
              "      <td>...</td>\n",
              "      <td>...</td>\n",
              "      <td>...</td>\n",
              "      <td>...</td>\n",
              "      <td>...</td>\n",
              "      <td>...</td>\n",
              "      <td>...</td>\n",
              "      <td>...</td>\n",
              "    </tr>\n",
              "    <tr>\n",
              "      <th>3757</th>\n",
              "      <td>Image3758</td>\n",
              "      <td>0</td>\n",
              "      <td>21.234512</td>\n",
              "      <td>1208.850174</td>\n",
              "      <td>34.768523</td>\n",
              "      <td>0.063774</td>\n",
              "      <td>2.082079</td>\n",
              "      <td>4.647310</td>\n",
              "      <td>158.437600</td>\n",
              "      <td>0.220666</td>\n",
              "      <td>0.048693</td>\n",
              "      <td>0.487131</td>\n",
              "      <td>5.211739</td>\n",
              "      <td>0.950972</td>\n",
              "      <td>7.458341e-155</td>\n",
              "    </tr>\n",
              "    <tr>\n",
              "      <th>3758</th>\n",
              "      <td>Image3759</td>\n",
              "      <td>0</td>\n",
              "      <td>20.435349</td>\n",
              "      <td>1227.151440</td>\n",
              "      <td>35.030721</td>\n",
              "      <td>0.066763</td>\n",
              "      <td>2.144625</td>\n",
              "      <td>4.882034</td>\n",
              "      <td>161.158675</td>\n",
              "      <td>0.225931</td>\n",
              "      <td>0.051045</td>\n",
              "      <td>0.502712</td>\n",
              "      <td>5.083126</td>\n",
              "      <td>0.952749</td>\n",
              "      <td>7.458341e-155</td>\n",
              "    </tr>\n",
              "    <tr>\n",
              "      <th>3759</th>\n",
              "      <td>Image3760</td>\n",
              "      <td>0</td>\n",
              "      <td>18.011520</td>\n",
              "      <td>1151.582765</td>\n",
              "      <td>33.934978</td>\n",
              "      <td>0.068396</td>\n",
              "      <td>2.308349</td>\n",
              "      <td>5.579498</td>\n",
              "      <td>167.130118</td>\n",
              "      <td>0.228930</td>\n",
              "      <td>0.052409</td>\n",
              "      <td>0.492269</td>\n",
              "      <td>5.103700</td>\n",
              "      <td>0.952181</td>\n",
              "      <td>7.458341e-155</td>\n",
              "    </tr>\n",
              "    <tr>\n",
              "      <th>3760</th>\n",
              "      <td>Image3761</td>\n",
              "      <td>0</td>\n",
              "      <td>13.330429</td>\n",
              "      <td>945.732779</td>\n",
              "      <td>30.752769</td>\n",
              "      <td>0.087872</td>\n",
              "      <td>2.732822</td>\n",
              "      <td>7.757570</td>\n",
              "      <td>223.812932</td>\n",
              "      <td>0.261527</td>\n",
              "      <td>0.068397</td>\n",
              "      <td>0.480064</td>\n",
              "      <td>6.439784</td>\n",
              "      <td>0.940898</td>\n",
              "      <td>7.458341e-155</td>\n",
              "    </tr>\n",
              "    <tr>\n",
              "      <th>3761</th>\n",
              "      <td>Image3762</td>\n",
              "      <td>0</td>\n",
              "      <td>6.110138</td>\n",
              "      <td>480.884025</td>\n",
              "      <td>21.929068</td>\n",
              "      <td>0.118171</td>\n",
              "      <td>4.110669</td>\n",
              "      <td>17.538826</td>\n",
              "      <td>239.251388</td>\n",
              "      <td>0.306224</td>\n",
              "      <td>0.093773</td>\n",
              "      <td>0.494333</td>\n",
              "      <td>6.787329</td>\n",
              "      <td>0.938731</td>\n",
              "      <td>7.458341e-155</td>\n",
              "    </tr>\n",
              "  </tbody>\n",
              "</table>\n",
              "<p>3762 rows × 15 columns</p>\n",
              "</div>"
            ],
            "text/plain": [
              "          Image  Class       Mean  ...  Dissimilarity  Correlation     Coarseness\n",
              "0        Image1      0   6.535339  ...       4.473346     0.981939  7.458341e-155\n",
              "1        Image2      0   8.749969  ...       3.220072     0.988834  7.458341e-155\n",
              "2        Image3      1   7.341095  ...       5.981800     0.978014  7.458341e-155\n",
              "3        Image4      1   5.958145  ...       7.700919     0.964189  7.458341e-155\n",
              "4        Image5      0   7.315231  ...       6.834689     0.972789  7.458341e-155\n",
              "...         ...    ...        ...  ...            ...          ...            ...\n",
              "3757  Image3758      0  21.234512  ...       5.211739     0.950972  7.458341e-155\n",
              "3758  Image3759      0  20.435349  ...       5.083126     0.952749  7.458341e-155\n",
              "3759  Image3760      0  18.011520  ...       5.103700     0.952181  7.458341e-155\n",
              "3760  Image3761      0  13.330429  ...       6.439784     0.940898  7.458341e-155\n",
              "3761  Image3762      0   6.110138  ...       6.787329     0.938731  7.458341e-155\n",
              "\n",
              "[3762 rows x 15 columns]"
            ]
          },
          "metadata": {},
          "execution_count": 5
        }
      ]
    },
    {
      "cell_type": "markdown",
      "metadata": {
        "id": "iVbtcVxogICM"
      },
      "source": [
        "#Variable Description\n",
        "\n",
        "**First Order Features**\n",
        "\n",
        "Mean\n",
        "\n",
        "Variance\n",
        "\n",
        "Standard Deviation\n",
        "\n",
        "Skewness\n",
        "\n",
        "Kurtosis\n",
        "\n",
        "**Second Order Features**\n",
        "\n",
        "Contrast\n",
        "\n",
        "Energy\n",
        "\n",
        "ASM (Angular second moment)\n",
        "\n",
        "Entropy\n",
        "\n",
        "Homogeneity\n",
        "\n",
        "Dissimilarity\n",
        "\n",
        "Correlation\n",
        "\n",
        "Coarseness"
      ]
    },
    {
      "cell_type": "markdown",
      "metadata": {
        "id": "x_9_vitxcrsm"
      },
      "source": [
        "#**Part 1,2**#"
      ]
    },
    {
      "cell_type": "code",
      "metadata": {
        "id": "lgnevcw6cnK9"
      },
      "source": [
        "df.set_index(['Image'], inplace=True) # set the image column as an index variable\n"
      ],
      "execution_count": null,
      "outputs": []
    },
    {
      "cell_type": "markdown",
      "metadata": {
        "id": "nMzzEhoNcy7z"
      },
      "source": [
        "**Missing values**"
      ]
    },
    {
      "cell_type": "code",
      "metadata": {
        "id": "_XWW4Djkcz13",
        "colab": {
          "base_uri": "https://localhost:8080/"
        },
        "outputId": "4478e3c4-404d-49c4-ded7-312568b7dc9b"
      },
      "source": [
        "df.isnull().sum().sum()"
      ],
      "execution_count": null,
      "outputs": [
        {
          "output_type": "execute_result",
          "data": {
            "text/plain": [
              "0"
            ]
          },
          "metadata": {},
          "execution_count": 7
        }
      ]
    },
    {
      "cell_type": "code",
      "metadata": {
        "id": "ZzftUQ_cc3sB",
        "colab": {
          "base_uri": "https://localhost:8080/"
        },
        "outputId": "45ba4b5e-28e0-419b-9552-744e7a6ac057"
      },
      "source": [
        "df.info()"
      ],
      "execution_count": null,
      "outputs": [
        {
          "output_type": "stream",
          "name": "stdout",
          "text": [
            "<class 'pandas.core.frame.DataFrame'>\n",
            "Index: 3762 entries, Image1 to Image3762\n",
            "Data columns (total 14 columns):\n",
            " #   Column              Non-Null Count  Dtype  \n",
            "---  ------              --------------  -----  \n",
            " 0   Class               3762 non-null   int64  \n",
            " 1   Mean                3762 non-null   float64\n",
            " 2   Variance            3762 non-null   float64\n",
            " 3   Standard Deviation  3762 non-null   float64\n",
            " 4   Entropy             3762 non-null   float64\n",
            " 5   Skewness            3762 non-null   float64\n",
            " 6   Kurtosis            3762 non-null   float64\n",
            " 7   Contrast            3762 non-null   float64\n",
            " 8   Energy              3762 non-null   float64\n",
            " 9   ASM                 3762 non-null   float64\n",
            " 10  Homogeneity         3762 non-null   float64\n",
            " 11  Dissimilarity       3762 non-null   float64\n",
            " 12  Correlation         3762 non-null   float64\n",
            " 13  Coarseness          3762 non-null   float64\n",
            "dtypes: float64(13), int64(1)\n",
            "memory usage: 440.9+ KB\n"
          ]
        }
      ]
    },
    {
      "cell_type": "markdown",
      "metadata": {
        "id": "oJ9yjfmkdSUc"
      },
      "source": [
        "**Infinite values**"
      ]
    },
    {
      "cell_type": "code",
      "metadata": {
        "id": "EtlGaIEEc7sv"
      },
      "source": [
        "ds = df.isin([np.inf]).sum().sum()"
      ],
      "execution_count": null,
      "outputs": []
    },
    {
      "cell_type": "code",
      "metadata": {
        "id": "RhxbCrT6dOX6",
        "colab": {
          "base_uri": "https://localhost:8080/"
        },
        "outputId": "9141c254-f6f2-4e18-d8a2-409e81af966d"
      },
      "source": [
        "print(ds)\n",
        "df.shape"
      ],
      "execution_count": null,
      "outputs": [
        {
          "output_type": "stream",
          "name": "stdout",
          "text": [
            "0\n"
          ]
        },
        {
          "output_type": "execute_result",
          "data": {
            "text/plain": [
              "(3762, 14)"
            ]
          },
          "metadata": {},
          "execution_count": 10
        }
      ]
    },
    {
      "cell_type": "markdown",
      "metadata": {
        "id": "i4IHHIdddWlN"
      },
      "source": [
        "**Duplicates**"
      ]
    },
    {
      "cell_type": "code",
      "metadata": {
        "id": "zp47QJgsdZpI",
        "colab": {
          "base_uri": "https://localhost:8080/",
          "height": 664
        },
        "outputId": "409cdd8c-f73c-43d6-b26d-b81882b7c3a0"
      },
      "source": [
        "df.drop_duplicates()"
      ],
      "execution_count": null,
      "outputs": [
        {
          "output_type": "execute_result",
          "data": {
            "text/html": [
              "<div>\n",
              "<style scoped>\n",
              "    .dataframe tbody tr th:only-of-type {\n",
              "        vertical-align: middle;\n",
              "    }\n",
              "\n",
              "    .dataframe tbody tr th {\n",
              "        vertical-align: top;\n",
              "    }\n",
              "\n",
              "    .dataframe thead th {\n",
              "        text-align: right;\n",
              "    }\n",
              "</style>\n",
              "<table border=\"1\" class=\"dataframe\">\n",
              "  <thead>\n",
              "    <tr style=\"text-align: right;\">\n",
              "      <th></th>\n",
              "      <th>Class</th>\n",
              "      <th>Mean</th>\n",
              "      <th>Variance</th>\n",
              "      <th>Standard Deviation</th>\n",
              "      <th>Entropy</th>\n",
              "      <th>Skewness</th>\n",
              "      <th>Kurtosis</th>\n",
              "      <th>Contrast</th>\n",
              "      <th>Energy</th>\n",
              "      <th>ASM</th>\n",
              "      <th>Homogeneity</th>\n",
              "      <th>Dissimilarity</th>\n",
              "      <th>Correlation</th>\n",
              "      <th>Coarseness</th>\n",
              "    </tr>\n",
              "    <tr>\n",
              "      <th>Image</th>\n",
              "      <th></th>\n",
              "      <th></th>\n",
              "      <th></th>\n",
              "      <th></th>\n",
              "      <th></th>\n",
              "      <th></th>\n",
              "      <th></th>\n",
              "      <th></th>\n",
              "      <th></th>\n",
              "      <th></th>\n",
              "      <th></th>\n",
              "      <th></th>\n",
              "      <th></th>\n",
              "      <th></th>\n",
              "    </tr>\n",
              "  </thead>\n",
              "  <tbody>\n",
              "    <tr>\n",
              "      <th>Image1</th>\n",
              "      <td>0</td>\n",
              "      <td>6.535339</td>\n",
              "      <td>619.587845</td>\n",
              "      <td>24.891522</td>\n",
              "      <td>0.109059</td>\n",
              "      <td>4.276477</td>\n",
              "      <td>18.900575</td>\n",
              "      <td>98.613971</td>\n",
              "      <td>0.293314</td>\n",
              "      <td>0.086033</td>\n",
              "      <td>0.530941</td>\n",
              "      <td>4.473346</td>\n",
              "      <td>0.981939</td>\n",
              "      <td>7.458341e-155</td>\n",
              "    </tr>\n",
              "    <tr>\n",
              "      <th>Image2</th>\n",
              "      <td>0</td>\n",
              "      <td>8.749969</td>\n",
              "      <td>805.957634</td>\n",
              "      <td>28.389393</td>\n",
              "      <td>0.266538</td>\n",
              "      <td>3.718116</td>\n",
              "      <td>14.464618</td>\n",
              "      <td>63.858816</td>\n",
              "      <td>0.475051</td>\n",
              "      <td>0.225674</td>\n",
              "      <td>0.651352</td>\n",
              "      <td>3.220072</td>\n",
              "      <td>0.988834</td>\n",
              "      <td>7.458341e-155</td>\n",
              "    </tr>\n",
              "    <tr>\n",
              "      <th>Image3</th>\n",
              "      <td>1</td>\n",
              "      <td>7.341095</td>\n",
              "      <td>1143.808219</td>\n",
              "      <td>33.820234</td>\n",
              "      <td>0.001467</td>\n",
              "      <td>5.061750</td>\n",
              "      <td>26.479563</td>\n",
              "      <td>81.867206</td>\n",
              "      <td>0.031917</td>\n",
              "      <td>0.001019</td>\n",
              "      <td>0.268275</td>\n",
              "      <td>5.981800</td>\n",
              "      <td>0.978014</td>\n",
              "      <td>7.458341e-155</td>\n",
              "    </tr>\n",
              "    <tr>\n",
              "      <th>Image4</th>\n",
              "      <td>1</td>\n",
              "      <td>5.958145</td>\n",
              "      <td>959.711985</td>\n",
              "      <td>30.979219</td>\n",
              "      <td>0.001477</td>\n",
              "      <td>5.677977</td>\n",
              "      <td>33.428845</td>\n",
              "      <td>151.229741</td>\n",
              "      <td>0.032024</td>\n",
              "      <td>0.001026</td>\n",
              "      <td>0.243851</td>\n",
              "      <td>7.700919</td>\n",
              "      <td>0.964189</td>\n",
              "      <td>7.458341e-155</td>\n",
              "    </tr>\n",
              "    <tr>\n",
              "      <th>Image5</th>\n",
              "      <td>0</td>\n",
              "      <td>7.315231</td>\n",
              "      <td>729.540579</td>\n",
              "      <td>27.010009</td>\n",
              "      <td>0.146761</td>\n",
              "      <td>4.283221</td>\n",
              "      <td>19.079108</td>\n",
              "      <td>174.988756</td>\n",
              "      <td>0.343849</td>\n",
              "      <td>0.118232</td>\n",
              "      <td>0.501140</td>\n",
              "      <td>6.834689</td>\n",
              "      <td>0.972789</td>\n",
              "      <td>7.458341e-155</td>\n",
              "    </tr>\n",
              "    <tr>\n",
              "      <th>...</th>\n",
              "      <td>...</td>\n",
              "      <td>...</td>\n",
              "      <td>...</td>\n",
              "      <td>...</td>\n",
              "      <td>...</td>\n",
              "      <td>...</td>\n",
              "      <td>...</td>\n",
              "      <td>...</td>\n",
              "      <td>...</td>\n",
              "      <td>...</td>\n",
              "      <td>...</td>\n",
              "      <td>...</td>\n",
              "      <td>...</td>\n",
              "      <td>...</td>\n",
              "    </tr>\n",
              "    <tr>\n",
              "      <th>Image3758</th>\n",
              "      <td>0</td>\n",
              "      <td>21.234512</td>\n",
              "      <td>1208.850174</td>\n",
              "      <td>34.768523</td>\n",
              "      <td>0.063774</td>\n",
              "      <td>2.082079</td>\n",
              "      <td>4.647310</td>\n",
              "      <td>158.437600</td>\n",
              "      <td>0.220666</td>\n",
              "      <td>0.048693</td>\n",
              "      <td>0.487131</td>\n",
              "      <td>5.211739</td>\n",
              "      <td>0.950972</td>\n",
              "      <td>7.458341e-155</td>\n",
              "    </tr>\n",
              "    <tr>\n",
              "      <th>Image3759</th>\n",
              "      <td>0</td>\n",
              "      <td>20.435349</td>\n",
              "      <td>1227.151440</td>\n",
              "      <td>35.030721</td>\n",
              "      <td>0.066763</td>\n",
              "      <td>2.144625</td>\n",
              "      <td>4.882034</td>\n",
              "      <td>161.158675</td>\n",
              "      <td>0.225931</td>\n",
              "      <td>0.051045</td>\n",
              "      <td>0.502712</td>\n",
              "      <td>5.083126</td>\n",
              "      <td>0.952749</td>\n",
              "      <td>7.458341e-155</td>\n",
              "    </tr>\n",
              "    <tr>\n",
              "      <th>Image3760</th>\n",
              "      <td>0</td>\n",
              "      <td>18.011520</td>\n",
              "      <td>1151.582765</td>\n",
              "      <td>33.934978</td>\n",
              "      <td>0.068396</td>\n",
              "      <td>2.308349</td>\n",
              "      <td>5.579498</td>\n",
              "      <td>167.130118</td>\n",
              "      <td>0.228930</td>\n",
              "      <td>0.052409</td>\n",
              "      <td>0.492269</td>\n",
              "      <td>5.103700</td>\n",
              "      <td>0.952181</td>\n",
              "      <td>7.458341e-155</td>\n",
              "    </tr>\n",
              "    <tr>\n",
              "      <th>Image3761</th>\n",
              "      <td>0</td>\n",
              "      <td>13.330429</td>\n",
              "      <td>945.732779</td>\n",
              "      <td>30.752769</td>\n",
              "      <td>0.087872</td>\n",
              "      <td>2.732822</td>\n",
              "      <td>7.757570</td>\n",
              "      <td>223.812932</td>\n",
              "      <td>0.261527</td>\n",
              "      <td>0.068397</td>\n",
              "      <td>0.480064</td>\n",
              "      <td>6.439784</td>\n",
              "      <td>0.940898</td>\n",
              "      <td>7.458341e-155</td>\n",
              "    </tr>\n",
              "    <tr>\n",
              "      <th>Image3762</th>\n",
              "      <td>0</td>\n",
              "      <td>6.110138</td>\n",
              "      <td>480.884025</td>\n",
              "      <td>21.929068</td>\n",
              "      <td>0.118171</td>\n",
              "      <td>4.110669</td>\n",
              "      <td>17.538826</td>\n",
              "      <td>239.251388</td>\n",
              "      <td>0.306224</td>\n",
              "      <td>0.093773</td>\n",
              "      <td>0.494333</td>\n",
              "      <td>6.787329</td>\n",
              "      <td>0.938731</td>\n",
              "      <td>7.458341e-155</td>\n",
              "    </tr>\n",
              "  </tbody>\n",
              "</table>\n",
              "<p>3699 rows × 14 columns</p>\n",
              "</div>"
            ],
            "text/plain": [
              "           Class       Mean  ...  Correlation     Coarseness\n",
              "Image                        ...                            \n",
              "Image1         0   6.535339  ...     0.981939  7.458341e-155\n",
              "Image2         0   8.749969  ...     0.988834  7.458341e-155\n",
              "Image3         1   7.341095  ...     0.978014  7.458341e-155\n",
              "Image4         1   5.958145  ...     0.964189  7.458341e-155\n",
              "Image5         0   7.315231  ...     0.972789  7.458341e-155\n",
              "...          ...        ...  ...          ...            ...\n",
              "Image3758      0  21.234512  ...     0.950972  7.458341e-155\n",
              "Image3759      0  20.435349  ...     0.952749  7.458341e-155\n",
              "Image3760      0  18.011520  ...     0.952181  7.458341e-155\n",
              "Image3761      0  13.330429  ...     0.940898  7.458341e-155\n",
              "Image3762      0   6.110138  ...     0.938731  7.458341e-155\n",
              "\n",
              "[3699 rows x 14 columns]"
            ]
          },
          "metadata": {},
          "execution_count": 11
        }
      ]
    },
    {
      "cell_type": "markdown",
      "metadata": {
        "id": "H2VrFSVQfkQb"
      },
      "source": [
        "**Outlier detection**"
      ]
    },
    {
      "cell_type": "code",
      "metadata": {
        "id": "I_0b2hZ2fhrG"
      },
      "source": [
        "def detect_outliers(dfl, features):\n",
        "    outlier_indices=[]\n",
        "    \n",
        "    for c in features:\n",
        "        #1st quartile\n",
        "        Q1 = np.percentile(dfl[c],25)\n",
        "        #3rd quartile\n",
        "        Q3 = np.percentile(dfl[c],75)\n",
        "        #IQR\n",
        "        IQR = Q3 - Q1\n",
        "        #Outlier step\n",
        "        outlier_step = IQR * 1.5\n",
        "        #detect outlier and their indices\n",
        "        outlier_list_col = dfl[(dfl[c] < Q1 - outlier_step) | (dfl[c] > Q3 + outlier_step)].index\n",
        "        # store indices\n",
        "        outlier_indices.extend(outlier_list_col)\n",
        "        \n",
        "    outlier_indices = Counter(outlier_indices) \n",
        "    multiple_outliers = list(i for i, v in outlier_indices.items() if v > 2)\n",
        "    return multiple_outliers"
      ],
      "execution_count": null,
      "outputs": []
    },
    {
      "cell_type": "code",
      "metadata": {
        "id": "tqNulR2GfncV",
        "colab": {
          "base_uri": "https://localhost:8080/",
          "height": 664
        },
        "outputId": "f9955dba-ca1f-4618-c258-55099ef56ef7"
      },
      "source": [
        "df.loc[detect_outliers(df,[\"Mean\", \"Variance\", \"Standard Deviation\", \"Entropy\", \"Skewness\", \"Kurtosis\", \"Contrast\", \"Energy\", \"ASM\", \"Homogeneity\", \"Dissimilarity\", \"Correlation\", \"Coarseness\"])]"
      ],
      "execution_count": null,
      "outputs": [
        {
          "output_type": "execute_result",
          "data": {
            "text/html": [
              "<div>\n",
              "<style scoped>\n",
              "    .dataframe tbody tr th:only-of-type {\n",
              "        vertical-align: middle;\n",
              "    }\n",
              "\n",
              "    .dataframe tbody tr th {\n",
              "        vertical-align: top;\n",
              "    }\n",
              "\n",
              "    .dataframe thead th {\n",
              "        text-align: right;\n",
              "    }\n",
              "</style>\n",
              "<table border=\"1\" class=\"dataframe\">\n",
              "  <thead>\n",
              "    <tr style=\"text-align: right;\">\n",
              "      <th></th>\n",
              "      <th>Class</th>\n",
              "      <th>Mean</th>\n",
              "      <th>Variance</th>\n",
              "      <th>Standard Deviation</th>\n",
              "      <th>Entropy</th>\n",
              "      <th>Skewness</th>\n",
              "      <th>Kurtosis</th>\n",
              "      <th>Contrast</th>\n",
              "      <th>Energy</th>\n",
              "      <th>ASM</th>\n",
              "      <th>Homogeneity</th>\n",
              "      <th>Dissimilarity</th>\n",
              "      <th>Correlation</th>\n",
              "      <th>Coarseness</th>\n",
              "    </tr>\n",
              "    <tr>\n",
              "      <th>Image</th>\n",
              "      <th></th>\n",
              "      <th></th>\n",
              "      <th></th>\n",
              "      <th></th>\n",
              "      <th></th>\n",
              "      <th></th>\n",
              "      <th></th>\n",
              "      <th></th>\n",
              "      <th></th>\n",
              "      <th></th>\n",
              "      <th></th>\n",
              "      <th></th>\n",
              "      <th></th>\n",
              "      <th></th>\n",
              "    </tr>\n",
              "  </thead>\n",
              "  <tbody>\n",
              "    <tr>\n",
              "      <th>Image70</th>\n",
              "      <td>0</td>\n",
              "      <td>32.974335</td>\n",
              "      <td>2630.774546</td>\n",
              "      <td>51.291077</td>\n",
              "      <td>0.058575</td>\n",
              "      <td>1.990064</td>\n",
              "      <td>4.263510</td>\n",
              "      <td>386.946380</td>\n",
              "      <td>0.211036</td>\n",
              "      <td>0.044536</td>\n",
              "      <td>0.500845</td>\n",
              "      <td>6.379274</td>\n",
              "      <td>0.944384</td>\n",
              "      <td>7.458341e-155</td>\n",
              "    </tr>\n",
              "    <tr>\n",
              "      <th>Image687</th>\n",
              "      <td>0</td>\n",
              "      <td>32.832153</td>\n",
              "      <td>2598.678936</td>\n",
              "      <td>50.977239</td>\n",
              "      <td>0.058397</td>\n",
              "      <td>1.986680</td>\n",
              "      <td>4.252588</td>\n",
              "      <td>352.123803</td>\n",
              "      <td>0.210743</td>\n",
              "      <td>0.044413</td>\n",
              "      <td>0.484549</td>\n",
              "      <td>6.569327</td>\n",
              "      <td>0.948522</td>\n",
              "      <td>7.458341e-155</td>\n",
              "    </tr>\n",
              "    <tr>\n",
              "      <th>Image688</th>\n",
              "      <td>0</td>\n",
              "      <td>30.854248</td>\n",
              "      <td>2470.834261</td>\n",
              "      <td>49.707487</td>\n",
              "      <td>0.055421</td>\n",
              "      <td>2.061911</td>\n",
              "      <td>4.543874</td>\n",
              "      <td>390.810324</td>\n",
              "      <td>0.204924</td>\n",
              "      <td>0.041994</td>\n",
              "      <td>0.492595</td>\n",
              "      <td>6.407239</td>\n",
              "      <td>0.939324</td>\n",
              "      <td>7.458341e-155</td>\n",
              "    </tr>\n",
              "    <tr>\n",
              "      <th>Image898</th>\n",
              "      <td>1</td>\n",
              "      <td>27.777878</td>\n",
              "      <td>2514.006331</td>\n",
              "      <td>50.139868</td>\n",
              "      <td>0.027225</td>\n",
              "      <td>2.278691</td>\n",
              "      <td>5.446137</td>\n",
              "      <td>178.210179</td>\n",
              "      <td>0.141348</td>\n",
              "      <td>0.019979</td>\n",
              "      <td>0.495875</td>\n",
              "      <td>4.166667</td>\n",
              "      <td>0.965503</td>\n",
              "      <td>7.458341e-155</td>\n",
              "    </tr>\n",
              "    <tr>\n",
              "      <th>Image1116</th>\n",
              "      <td>0</td>\n",
              "      <td>32.206467</td>\n",
              "      <td>2604.354097</td>\n",
              "      <td>51.032873</td>\n",
              "      <td>0.056008</td>\n",
              "      <td>2.019719</td>\n",
              "      <td>4.381090</td>\n",
              "      <td>423.663642</td>\n",
              "      <td>0.206095</td>\n",
              "      <td>0.042475</td>\n",
              "      <td>0.502325</td>\n",
              "      <td>6.503498</td>\n",
              "      <td>0.939392</td>\n",
              "      <td>7.458341e-155</td>\n",
              "    </tr>\n",
              "    <tr>\n",
              "      <th>...</th>\n",
              "      <td>...</td>\n",
              "      <td>...</td>\n",
              "      <td>...</td>\n",
              "      <td>...</td>\n",
              "      <td>...</td>\n",
              "      <td>...</td>\n",
              "      <td>...</td>\n",
              "      <td>...</td>\n",
              "      <td>...</td>\n",
              "      <td>...</td>\n",
              "      <td>...</td>\n",
              "      <td>...</td>\n",
              "      <td>...</td>\n",
              "      <td>...</td>\n",
              "    </tr>\n",
              "    <tr>\n",
              "      <th>Image2019</th>\n",
              "      <td>1</td>\n",
              "      <td>3.244949</td>\n",
              "      <td>373.645816</td>\n",
              "      <td>19.329920</td>\n",
              "      <td>0.007513</td>\n",
              "      <td>6.608718</td>\n",
              "      <td>45.579790</td>\n",
              "      <td>502.839177</td>\n",
              "      <td>0.073153</td>\n",
              "      <td>0.005351</td>\n",
              "      <td>0.330291</td>\n",
              "      <td>9.558205</td>\n",
              "      <td>0.892741</td>\n",
              "      <td>7.458341e-155</td>\n",
              "    </tr>\n",
              "    <tr>\n",
              "      <th>Image2428</th>\n",
              "      <td>1</td>\n",
              "      <td>7.558182</td>\n",
              "      <td>920.975312</td>\n",
              "      <td>30.347575</td>\n",
              "      <td>0.001708</td>\n",
              "      <td>4.521819</td>\n",
              "      <td>21.463864</td>\n",
              "      <td>361.850250</td>\n",
              "      <td>0.034499</td>\n",
              "      <td>0.001190</td>\n",
              "      <td>0.265279</td>\n",
              "      <td>9.771750</td>\n",
              "      <td>0.895138</td>\n",
              "      <td>7.458341e-155</td>\n",
              "    </tr>\n",
              "    <tr>\n",
              "      <th>Image3238</th>\n",
              "      <td>1</td>\n",
              "      <td>7.219604</td>\n",
              "      <td>900.344489</td>\n",
              "      <td>30.005741</td>\n",
              "      <td>0.010625</td>\n",
              "      <td>4.480255</td>\n",
              "      <td>20.410193</td>\n",
              "      <td>376.339211</td>\n",
              "      <td>0.087184</td>\n",
              "      <td>0.007601</td>\n",
              "      <td>0.382338</td>\n",
              "      <td>6.041842</td>\n",
              "      <td>0.901592</td>\n",
              "      <td>7.458341e-155</td>\n",
              "    </tr>\n",
              "    <tr>\n",
              "      <th>Image3360</th>\n",
              "      <td>1</td>\n",
              "      <td>8.734390</td>\n",
              "      <td>1022.432511</td>\n",
              "      <td>31.975499</td>\n",
              "      <td>0.001776</td>\n",
              "      <td>4.232220</td>\n",
              "      <td>18.921784</td>\n",
              "      <td>319.973663</td>\n",
              "      <td>0.035230</td>\n",
              "      <td>0.001241</td>\n",
              "      <td>0.252318</td>\n",
              "      <td>9.486008</td>\n",
              "      <td>0.920333</td>\n",
              "      <td>7.458341e-155</td>\n",
              "    </tr>\n",
              "    <tr>\n",
              "      <th>Image3548</th>\n",
              "      <td>1</td>\n",
              "      <td>4.715195</td>\n",
              "      <td>799.149845</td>\n",
              "      <td>28.269238</td>\n",
              "      <td>0.084591</td>\n",
              "      <td>6.497660</td>\n",
              "      <td>43.882659</td>\n",
              "      <td>846.312802</td>\n",
              "      <td>0.256496</td>\n",
              "      <td>0.065790</td>\n",
              "      <td>0.404810</td>\n",
              "      <td>12.248390</td>\n",
              "      <td>0.939207</td>\n",
              "      <td>7.458341e-155</td>\n",
              "    </tr>\n",
              "  </tbody>\n",
              "</table>\n",
              "<p>168 rows × 14 columns</p>\n",
              "</div>"
            ],
            "text/plain": [
              "           Class       Mean  ...  Correlation     Coarseness\n",
              "Image                        ...                            \n",
              "Image70        0  32.974335  ...     0.944384  7.458341e-155\n",
              "Image687       0  32.832153  ...     0.948522  7.458341e-155\n",
              "Image688       0  30.854248  ...     0.939324  7.458341e-155\n",
              "Image898       1  27.777878  ...     0.965503  7.458341e-155\n",
              "Image1116      0  32.206467  ...     0.939392  7.458341e-155\n",
              "...          ...        ...  ...          ...            ...\n",
              "Image2019      1   3.244949  ...     0.892741  7.458341e-155\n",
              "Image2428      1   7.558182  ...     0.895138  7.458341e-155\n",
              "Image3238      1   7.219604  ...     0.901592  7.458341e-155\n",
              "Image3360      1   8.734390  ...     0.920333  7.458341e-155\n",
              "Image3548      1   4.715195  ...     0.939207  7.458341e-155\n",
              "\n",
              "[168 rows x 14 columns]"
            ]
          },
          "metadata": {},
          "execution_count": 13
        }
      ]
    },
    {
      "cell_type": "code",
      "metadata": {
        "id": "vBwplvdOfvHy"
      },
      "source": [
        "# drop Outliers\n",
        "df = df.drop(detect_outliers(df,[\"Mean\", \"Variance\", \"Standard Deviation\", \"Entropy\", \"Skewness\", \"Kurtosis\", \"Contrast\", \"Energy\", \"ASM\", \"Homogeneity\", \"Dissimilarity\", \"Correlation\", \"Coarseness\"]),axis=0).reset_index(drop=True)"
      ],
      "execution_count": null,
      "outputs": []
    },
    {
      "cell_type": "markdown",
      "metadata": {
        "id": "IoD1dfsOf7f3"
      },
      "source": [
        "#Visualization"
      ]
    },
    {
      "cell_type": "code",
      "metadata": {
        "id": "YYLSHlRWdeZv",
        "colab": {
          "base_uri": "https://localhost:8080/"
        },
        "outputId": "72dbec5d-aa9a-4bc1-dfaa-997ff0080cc0"
      },
      "source": [
        "df['Class'].value_counts() # target column which can tell the image has a tumor or not"
      ],
      "execution_count": null,
      "outputs": [
        {
          "output_type": "execute_result",
          "data": {
            "text/plain": [
              "0    2060\n",
              "1    1534\n",
              "Name: Class, dtype: int64"
            ]
          },
          "metadata": {},
          "execution_count": 15
        }
      ]
    },
    {
      "cell_type": "code",
      "metadata": {
        "id": "vsaNMlvudqmW"
      },
      "source": [
        "len_ = len(df)"
      ],
      "execution_count": null,
      "outputs": []
    },
    {
      "cell_type": "code",
      "metadata": {
        "id": "5IQ6RM-xdsy7",
        "colab": {
          "base_uri": "https://localhost:8080/"
        },
        "outputId": "917032ef-6993-49c3-e77f-06009a79771a"
      },
      "source": [
        "#number of non positive tumors \n",
        "(df['Class']==0).sum()"
      ],
      "execution_count": null,
      "outputs": [
        {
          "output_type": "execute_result",
          "data": {
            "text/plain": [
              "2060"
            ]
          },
          "metadata": {},
          "execution_count": 17
        }
      ]
    },
    {
      "cell_type": "code",
      "metadata": {
        "id": "HLQF5lkcdxzq"
      },
      "source": [
        "# created a filter of number of non positive tumors\n",
        "pos_tum = df['Class'] == 0"
      ],
      "execution_count": null,
      "outputs": []
    },
    {
      "cell_type": "code",
      "metadata": {
        "id": "Fyiaz270d19j",
        "colab": {
          "base_uri": "https://localhost:8080/",
          "height": 279
        },
        "outputId": "b27bbe6f-000a-42b4-c8c7-6f192511d82e"
      },
      "source": [
        "plt.bar([0, 1], [(df['Class']==0).sum(), len_-(df['Class']==0).sum()])\n",
        "plt.xticks([0, 1])\n",
        "plt.ylabel('frequency of all cases')\n",
        "plt.xlabel('positive for tumor or not')\n",
        "plt.show()"
      ],
      "execution_count": null,
      "outputs": [
        {
          "output_type": "display_data",
          "data": {
            "image/png": "[encoded data removed]",
            "text/plain": [
              "<Figure size 432x288 with 1 Axes>"
            ]
          },
          "metadata": {
            "needs_background": "light"
          }
        }
      ]
    },
    {
      "cell_type": "code",
      "metadata": {
        "id": "k8HaXIRWd8KR",
        "colab": {
          "base_uri": "https://localhost:8080/",
          "height": 148
        },
        "outputId": "b091e5c8-51ae-4bb9-d98a-f6b83f6155ae"
      },
      "source": [
        "From here we can see that non positive for tumor cases are more frequent than the positive for tumor cases( Positive cases are 1683 and negative cases are 2079)"
      ],
      "execution_count": null,
      "outputs": [
        {
          "output_type": "error",
          "ename": "SyntaxError",
          "evalue": "ignored",
          "traceback": [
            "\u001b[0;36m  File \u001b[0;32m\"<ipython-input-20-ab269fe649a3>\"\u001b[0;36m, line \u001b[0;32m1\u001b[0m\n\u001b[0;31m    From here we can see that non positive for tumor cases are more frequent than the positive for tumor cases( Positive cases are 1683 and negative cases are 2079)\u001b[0m\n\u001b[0m            ^\u001b[0m\n\u001b[0;31mSyntaxError\u001b[0m\u001b[0;31m:\u001b[0m invalid syntax\n"
          ]
        }
      ]
    },
    {
      "cell_type": "code",
      "metadata": {
        "id": "wXHNM9ceeJrg",
        "colab": {
          "base_uri": "https://localhost:8080/",
          "height": 281
        },
        "outputId": "173373ad-177f-4210-8e91-5548c5e6098c"
      },
      "source": [
        "plt.hist(df.loc[~pos_tum, 'Mean'], bins=np.arange(18, 60, 4));\n",
        "plt.title('Mean distribution with histogram');"
      ],
      "execution_count": null,
      "outputs": [
        {
          "output_type": "display_data",
          "data": {
            "image/png": "[encoded data removed]",
            "text/plain": [
              "<Figure size 432x288 with 1 Axes>"
            ]
          },
          "metadata": {
            "needs_background": "light"
          }
        }
      ]
    },
    {
      "cell_type": "code",
      "metadata": {
        "id": "13RhpNBFeN6s",
        "colab": {
          "base_uri": "https://localhost:8080/",
          "height": 281
        },
        "outputId": "c300a054-f42e-49d2-9200-f6a51e3a48b2"
      },
      "source": [
        "plt.hist(df.loc[~pos_tum, 'Variance'], bins=np.arange(18, 60, 4));\n",
        "plt.title('Variance distribution with histogram');"
      ],
      "execution_count": null,
      "outputs": [
        {
          "output_type": "display_data",
          "data": {
            "image/png": "[encoded data removed]",
            "text/plain": [
              "<Figure size 432x288 with 1 Axes>"
            ]
          },
          "metadata": {
            "needs_background": "light"
          }
        }
      ]
    },
    {
      "cell_type": "code",
      "metadata": {
        "id": "M7GBOTFteuwY",
        "colab": {
          "base_uri": "https://localhost:8080/",
          "height": 281
        },
        "outputId": "583b7730-53e3-45a5-b063-fd07dde2be18"
      },
      "source": [
        "plt.hist(df.loc[~pos_tum, 'Skewness'], bins=np.arange(18, 60, 4));\n",
        "plt.title('Skewness distribution with histogram');"
      ],
      "execution_count": null,
      "outputs": [
        {
          "output_type": "display_data",
          "data": {
            "image/png": "[encoded data removed]",
            "text/plain": [
              "<Figure size 432x288 with 1 Axes>"
            ]
          },
          "metadata": {
            "needs_background": "light"
          }
        }
      ]
    },
    {
      "cell_type": "code",
      "metadata": {
        "id": "nc-UJmE_expj",
        "colab": {
          "base_uri": "https://localhost:8080/",
          "height": 281
        },
        "outputId": "ac442847-70d7-4358-eb0d-f886b437dcd6"
      },
      "source": [
        "plt.hist(df.loc[~pos_tum, 'Kurtosis'], bins=np.arange(18, 60, 4));\n",
        "plt.title('Kurtosis distribution with histogram');"
      ],
      "execution_count": null,
      "outputs": [
        {
          "output_type": "display_data",
          "data": {
            "image/png": "[encoded data removed]",
            "text/plain": [
              "<Figure size 432x288 with 1 Axes>"
            ]
          },
          "metadata": {
            "needs_background": "light"
          }
        }
      ]
    },
    {
      "cell_type": "code",
      "metadata": {
        "id": "Ing0S1qDe1m4",
        "colab": {
          "base_uri": "https://localhost:8080/",
          "height": 281
        },
        "outputId": "d73c7c01-b780-4507-ce8f-97811af50720"
      },
      "source": [
        "plt.hist(df.loc[~pos_tum, 'Contrast'], bins=np.arange(18, 60, 4));\n",
        "plt.title('Contrast distribution with histogram');"
      ],
      "execution_count": null,
      "outputs": [
        {
          "output_type": "display_data",
          "data": {
            "image/png": "[encoded data removed]",
            "text/plain": [
              "<Figure size 432x288 with 1 Axes>"
            ]
          },
          "metadata": {
            "needs_background": "light"
          }
        }
      ]
    },
    {
      "cell_type": "code",
      "metadata": {
        "id": "83t2zS1re71h",
        "colab": {
          "base_uri": "https://localhost:8080/",
          "height": 910
        },
        "outputId": "fefbdeb6-5cb2-4e5f-b9c9-068ea791e627"
      },
      "source": [
        "plt.figure(figsize=(12,15))\n",
        "plt.suptitle('Distributions of second order features for both classes', fontsize=14, y=0.91)\n",
        "plt.subplot(4,2,1)\n",
        "sns.histplot(data = df, x = 'Contrast', log_scale=True, hue = 'Class')\n",
        "plt.legend(['tumor','No Tumor'])\n",
        "plt.subplot(4,2,2)\n",
        "sns.histplot(data = df, x = 'Energy', hue = 'Class')\n",
        "plt.legend(['tumor','No Tumor'])\n",
        "plt.subplot(4,2,3)\n",
        "sns.histplot(data = df, x = 'ASM', hue = 'Class')\n",
        "plt.legend(['tumor','No Tumor'])\n",
        "plt.subplot(4,2,4)\n",
        "sns.histplot(data = df, x = 'Entropy', hue = 'Class')\n",
        "plt.legend(['tumor','No Tumor'])\n",
        "plt.subplot(4,2,5)\n",
        "sns.histplot(data = df, x = 'Homogeneity', hue = 'Class')\n",
        "plt.legend(['tumor','No Tumor'])\n",
        "plt.subplot(4,2,6)\n",
        "sns.histplot(data = df, x = 'Dissimilarity', hue = 'Class')\n",
        "plt.legend(['tumor','No Tumor'])\n",
        "plt.subplot(4,1,4)\n",
        "sns.histplot(data = df, x = 'Correlation', hue = 'Class')\n",
        "plt.legend(['tumor','No Tumor']);"
      ],
      "execution_count": null,
      "outputs": [
        {
          "output_type": "display_data",
          "data": {
            "image/png": "[encoded data removed]",
            "text/plain": [
              "<Figure size 864x1080 with 7 Axes>"
            ]
          },
          "metadata": {
            "needs_background": "light"
          }
        }
      ]
    },
    {
      "cell_type": "code",
      "metadata": {
        "id": "1PnhbOM9eUKW",
        "colab": {
          "base_uri": "https://localhost:8080/",
          "height": 791
        },
        "outputId": "eff5cee7-535e-460d-d64a-eddc65741672"
      },
      "source": [
        "plt.subplots(figsize=(12, 12))\n",
        "sns.heatmap(df.corr(),linewidths=.01,cmap=\"coolwarm\",annot=True)\n",
        "plt.show()"
      ],
      "execution_count": null,
      "outputs": [
        {
          "output_type": "display_data",
          "data": {
            "image/png": "[encoded data removed]",
            "text/plain": [
              "<Figure size 864x864 with 2 Axes>"
            ]
          },
          "metadata": {
            "needs_background": "light"
          }
        }
      ]
    },
    {
      "cell_type": "code",
      "metadata": {
        "id": "HBGYMCAEhW1C",
        "colab": {
          "base_uri": "https://localhost:8080/",
          "height": 682
        },
        "outputId": "a2dea142-fbc6-44ae-8e38-4e5388dd8d2e"
      },
      "source": [
        "plt.figure(figsize=(10,10))\n",
        "sns.heatmap(df.iloc[:,1:df.shape[1]-1].corr(), annot=True);"
      ],
      "execution_count": null,
      "outputs": [
        {
          "output_type": "display_data",
          "data": {
            "image/png": "[encoded data removed]",
            "text/plain": [
              "<Figure size 720x720 with 2 Axes>"
            ]
          },
          "metadata": {
            "needs_background": "light"
          }
        }
      ]
    },
    {
      "cell_type": "markdown",
      "metadata": {
        "id": "jR2qe2gohhaJ"
      },
      "source": [
        "**The most correlated ones with target variable are Skewness, Variance, Standard Deviation**\n",
        "\n",
        "**The least correlated ones are Mean, ASM, Energy, Homogeneity, Enthropy**"
      ]
    },
    {
      "cell_type": "code",
      "metadata": {
        "id": "9Iuoa_0jh0nF",
        "colab": {
          "base_uri": "https://localhost:8080/",
          "height": 279
        },
        "outputId": "822eb86f-652a-4cde-9176-ca16d7bedb14"
      },
      "source": [
        "plt.hist(df.loc[pos_tum, 'Standard Deviation'], label='POSITIVE',\n",
        "         bins=np.arange(18, 60, 3),alpha=0.3, density=True)\n",
        "plt.hist(df.loc[~pos_tum, 'Standard Deviation'], label='NEGATIVE',\n",
        "         bins=np.arange(18, 60, 3), alpha=0.3, density=True)\n",
        "plt.xlabel('Standard Deviation')\n",
        "plt.ylabel('Rate number')\n",
        "plt.legend()\n",
        "plt.show()"
      ],
      "execution_count": null,
      "outputs": [
        {
          "output_type": "display_data",
          "data": {
            "image/png": "[encoded data removed]",
            "text/plain": [
              "<Figure size 432x288 with 1 Axes>"
            ]
          },
          "metadata": {
            "needs_background": "light"
          }
        }
      ]
    },
    {
      "cell_type": "markdown",
      "metadata": {
        "id": "Cm2esMB2kTXz"
      },
      "source": [
        "#Balancing the data"
      ]
    },
    {
      "cell_type": "code",
      "metadata": {
        "id": "kZlg0CsVBpat"
      },
      "source": [
        "\n",
        "X = df.drop(columns = 'Class')"
      ],
      "execution_count": null,
      "outputs": []
    },
    {
      "cell_type": "code",
      "metadata": {
        "colab": {
          "base_uri": "https://localhost:8080/",
          "height": 632
        },
        "id": "qNTIvpRwBsmj",
        "outputId": "de4be53a-9b8f-44ec-9c16-31b9c11036b5"
      },
      "source": [
        "X"
      ],
      "execution_count": null,
      "outputs": [
        {
          "output_type": "execute_result",
          "data": {
            "text/html": [
              "<div>\n",
              "<style scoped>\n",
              "    .dataframe tbody tr th:only-of-type {\n",
              "        vertical-align: middle;\n",
              "    }\n",
              "\n",
              "    .dataframe tbody tr th {\n",
              "        vertical-align: top;\n",
              "    }\n",
              "\n",
              "    .dataframe thead th {\n",
              "        text-align: right;\n",
              "    }\n",
              "</style>\n",
              "<table border=\"1\" class=\"dataframe\">\n",
              "  <thead>\n",
              "    <tr style=\"text-align: right;\">\n",
              "      <th></th>\n",
              "      <th>Mean</th>\n",
              "      <th>Variance</th>\n",
              "      <th>Standard Deviation</th>\n",
              "      <th>Entropy</th>\n",
              "      <th>Skewness</th>\n",
              "      <th>Kurtosis</th>\n",
              "      <th>Contrast</th>\n",
              "      <th>Energy</th>\n",
              "      <th>ASM</th>\n",
              "      <th>Homogeneity</th>\n",
              "      <th>Dissimilarity</th>\n",
              "      <th>Correlation</th>\n",
              "      <th>Coarseness</th>\n",
              "    </tr>\n",
              "  </thead>\n",
              "  <tbody>\n",
              "    <tr>\n",
              "      <th>0</th>\n",
              "      <td>6.535339</td>\n",
              "      <td>619.587845</td>\n",
              "      <td>24.891522</td>\n",
              "      <td>0.109059</td>\n",
              "      <td>4.276477</td>\n",
              "      <td>18.900575</td>\n",
              "      <td>98.613971</td>\n",
              "      <td>0.293314</td>\n",
              "      <td>0.086033</td>\n",
              "      <td>0.530941</td>\n",
              "      <td>4.473346</td>\n",
              "      <td>0.981939</td>\n",
              "      <td>7.458341e-155</td>\n",
              "    </tr>\n",
              "    <tr>\n",
              "      <th>1</th>\n",
              "      <td>8.749969</td>\n",
              "      <td>805.957634</td>\n",
              "      <td>28.389393</td>\n",
              "      <td>0.266538</td>\n",
              "      <td>3.718116</td>\n",
              "      <td>14.464618</td>\n",
              "      <td>63.858816</td>\n",
              "      <td>0.475051</td>\n",
              "      <td>0.225674</td>\n",
              "      <td>0.651352</td>\n",
              "      <td>3.220072</td>\n",
              "      <td>0.988834</td>\n",
              "      <td>7.458341e-155</td>\n",
              "    </tr>\n",
              "    <tr>\n",
              "      <th>2</th>\n",
              "      <td>7.341095</td>\n",
              "      <td>1143.808219</td>\n",
              "      <td>33.820234</td>\n",
              "      <td>0.001467</td>\n",
              "      <td>5.061750</td>\n",
              "      <td>26.479563</td>\n",
              "      <td>81.867206</td>\n",
              "      <td>0.031917</td>\n",
              "      <td>0.001019</td>\n",
              "      <td>0.268275</td>\n",
              "      <td>5.981800</td>\n",
              "      <td>0.978014</td>\n",
              "      <td>7.458341e-155</td>\n",
              "    </tr>\n",
              "    <tr>\n",
              "      <th>3</th>\n",
              "      <td>5.958145</td>\n",
              "      <td>959.711985</td>\n",
              "      <td>30.979219</td>\n",
              "      <td>0.001477</td>\n",
              "      <td>5.677977</td>\n",
              "      <td>33.428845</td>\n",
              "      <td>151.229741</td>\n",
              "      <td>0.032024</td>\n",
              "      <td>0.001026</td>\n",
              "      <td>0.243851</td>\n",
              "      <td>7.700919</td>\n",
              "      <td>0.964189</td>\n",
              "      <td>7.458341e-155</td>\n",
              "    </tr>\n",
              "    <tr>\n",
              "      <th>4</th>\n",
              "      <td>7.315231</td>\n",
              "      <td>729.540579</td>\n",
              "      <td>27.010009</td>\n",
              "      <td>0.146761</td>\n",
              "      <td>4.283221</td>\n",
              "      <td>19.079108</td>\n",
              "      <td>174.988756</td>\n",
              "      <td>0.343849</td>\n",
              "      <td>0.118232</td>\n",
              "      <td>0.501140</td>\n",
              "      <td>6.834689</td>\n",
              "      <td>0.972789</td>\n",
              "      <td>7.458341e-155</td>\n",
              "    </tr>\n",
              "    <tr>\n",
              "      <th>...</th>\n",
              "      <td>...</td>\n",
              "      <td>...</td>\n",
              "      <td>...</td>\n",
              "      <td>...</td>\n",
              "      <td>...</td>\n",
              "      <td>...</td>\n",
              "      <td>...</td>\n",
              "      <td>...</td>\n",
              "      <td>...</td>\n",
              "      <td>...</td>\n",
              "      <td>...</td>\n",
              "      <td>...</td>\n",
              "      <td>...</td>\n",
              "    </tr>\n",
              "    <tr>\n",
              "      <th>3589</th>\n",
              "      <td>21.234512</td>\n",
              "      <td>1208.850174</td>\n",
              "      <td>34.768523</td>\n",
              "      <td>0.063774</td>\n",
              "      <td>2.082079</td>\n",
              "      <td>4.647310</td>\n",
              "      <td>158.437600</td>\n",
              "      <td>0.220666</td>\n",
              "      <td>0.048693</td>\n",
              "      <td>0.487131</td>\n",
              "      <td>5.211739</td>\n",
              "      <td>0.950972</td>\n",
              "      <td>7.458341e-155</td>\n",
              "    </tr>\n",
              "    <tr>\n",
              "      <th>3590</th>\n",
              "      <td>20.435349</td>\n",
              "      <td>1227.151440</td>\n",
              "      <td>35.030721</td>\n",
              "      <td>0.066763</td>\n",
              "      <td>2.144625</td>\n",
              "      <td>4.882034</td>\n",
              "      <td>161.158675</td>\n",
              "      <td>0.225931</td>\n",
              "      <td>0.051045</td>\n",
              "      <td>0.502712</td>\n",
              "      <td>5.083126</td>\n",
              "      <td>0.952749</td>\n",
              "      <td>7.458341e-155</td>\n",
              "    </tr>\n",
              "    <tr>\n",
              "      <th>3591</th>\n",
              "      <td>18.011520</td>\n",
              "      <td>1151.582765</td>\n",
              "      <td>33.934978</td>\n",
              "      <td>0.068396</td>\n",
              "      <td>2.308349</td>\n",
              "      <td>5.579498</td>\n",
              "      <td>167.130118</td>\n",
              "      <td>0.228930</td>\n",
              "      <td>0.052409</td>\n",
              "      <td>0.492269</td>\n",
              "      <td>5.103700</td>\n",
              "      <td>0.952181</td>\n",
              "      <td>7.458341e-155</td>\n",
              "    </tr>\n",
              "    <tr>\n",
              "      <th>3592</th>\n",
              "      <td>13.330429</td>\n",
              "      <td>945.732779</td>\n",
              "      <td>30.752769</td>\n",
              "      <td>0.087872</td>\n",
              "      <td>2.732822</td>\n",
              "      <td>7.757570</td>\n",
              "      <td>223.812932</td>\n",
              "      <td>0.261527</td>\n",
              "      <td>0.068397</td>\n",
              "      <td>0.480064</td>\n",
              "      <td>6.439784</td>\n",
              "      <td>0.940898</td>\n",
              "      <td>7.458341e-155</td>\n",
              "    </tr>\n",
              "    <tr>\n",
              "      <th>3593</th>\n",
              "      <td>6.110138</td>\n",
              "      <td>480.884025</td>\n",
              "      <td>21.929068</td>\n",
              "      <td>0.118171</td>\n",
              "      <td>4.110669</td>\n",
              "      <td>17.538826</td>\n",
              "      <td>239.251388</td>\n",
              "      <td>0.306224</td>\n",
              "      <td>0.093773</td>\n",
              "      <td>0.494333</td>\n",
              "      <td>6.787329</td>\n",
              "      <td>0.938731</td>\n",
              "      <td>7.458341e-155</td>\n",
              "    </tr>\n",
              "  </tbody>\n",
              "</table>\n",
              "<p>3594 rows × 13 columns</p>\n",
              "</div>"
            ],
            "text/plain": [
              "           Mean     Variance  ...  Correlation     Coarseness\n",
              "0      6.535339   619.587845  ...     0.981939  7.458341e-155\n",
              "1      8.749969   805.957634  ...     0.988834  7.458341e-155\n",
              "2      7.341095  1143.808219  ...     0.978014  7.458341e-155\n",
              "3      5.958145   959.711985  ...     0.964189  7.458341e-155\n",
              "4      7.315231   729.540579  ...     0.972789  7.458341e-155\n",
              "...         ...          ...  ...          ...            ...\n",
              "3589  21.234512  1208.850174  ...     0.950972  7.458341e-155\n",
              "3590  20.435349  1227.151440  ...     0.952749  7.458341e-155\n",
              "3591  18.011520  1151.582765  ...     0.952181  7.458341e-155\n",
              "3592  13.330429   945.732779  ...     0.940898  7.458341e-155\n",
              "3593   6.110138   480.884025  ...     0.938731  7.458341e-155\n",
              "\n",
              "[3594 rows x 13 columns]"
            ]
          },
          "metadata": {},
          "execution_count": 71
        }
      ]
    },
    {
      "cell_type": "code",
      "metadata": {
        "id": "4mLtWqL0jcMJ"
      },
      "source": [
        "# Arrange data into features matrix & target vector\n",
        "X = df.drop(columns = 'Class')\n",
        "y = df['Class']\n",
        "\n",
        "\n",
        "#Stratify to make sure we have the same class balance in train and test sets.\n",
        "X_train, X_test, idx_tr, idx_te, y_train, y_test = train_test_split(\n",
        "    X, X.index, y, random_state=42, stratify=y)"
      ],
      "execution_count": null,
      "outputs": []
    },
    {
      "cell_type": "code",
      "metadata": {
        "id": "vBU2uvtNDHZ2"
      },
      "source": [
        "\n",
        "\n",
        "import matplotlib.pyplot as plt\n",
        "import matplotlib.image as mpimg\n"
      ],
      "execution_count": null,
      "outputs": []
    },
    {
      "cell_type": "code",
      "metadata": {
        "id": "cA0ctci_j0V5",
        "colab": {
          "base_uri": "https://localhost:8080/"
        },
        "outputId": "74aed676-0037-4272-a49d-b31e5e0c1e78"
      },
      "source": [
        "#recombine X_train and y_train for oversampling\n",
        "train_df = X_train.copy()\n",
        "train_df['Class'] = y_train\n",
        "\n",
        "\n",
        "#Find the difference in the classes\n",
        "malignant = y_train == 1\n",
        "benign = y_train == 0\n",
        "num_needed_samples = abs(malignant.sum() - benign.sum())\n",
        "num_needed_samples"
      ],
      "execution_count": null,
      "outputs": [
        {
          "output_type": "execute_result",
          "data": {
            "text/plain": [
              "395"
            ]
          },
          "metadata": {},
          "execution_count": 86
        }
      ]
    },
    {
      "cell_type": "code",
      "metadata": {
        "id": "-P04ILd-j5yG",
        "colab": {
          "base_uri": "https://localhost:8080/"
        },
        "outputId": "a9b52209-4905-4666-a9eb-86953f0f1a88"
      },
      "source": [
        "new_samples = train_df[train_df['Class'] == 1].sample(num_needed_samples, replace=True)\n",
        "new_samples.shape"
      ],
      "execution_count": null,
      "outputs": [
        {
          "output_type": "execute_result",
          "data": {
            "text/plain": [
              "(395, 14)"
            ]
          },
          "metadata": {},
          "execution_count": 87
        }
      ]
    },
    {
      "cell_type": "code",
      "metadata": {
        "id": "vvgTzoPbVBhR",
        "colab": {
          "base_uri": "https://localhost:8080/"
        },
        "outputId": "cd4c1480-e5cc-4973-cd05-d83ecc2f9d00"
      },
      "source": [
        "X_test.shape"
      ],
      "execution_count": null,
      "outputs": [
        {
          "output_type": "execute_result",
          "data": {
            "text/plain": [
              "(899, 13)"
            ]
          },
          "metadata": {},
          "execution_count": 88
        }
      ]
    },
    {
      "cell_type": "code",
      "metadata": {
        "id": "ne_DBq6Wj_qX",
        "colab": {
          "base_uri": "https://localhost:8080/"
        },
        "outputId": "96142ddb-1fc9-45d7-8b24-1254fdc84471"
      },
      "source": [
        "train_df = pd.concat([train_df, new_samples])\n",
        "train_df['Class'].value_counts()"
      ],
      "execution_count": null,
      "outputs": [
        {
          "output_type": "execute_result",
          "data": {
            "text/plain": [
              "1    1545\n",
              "0    1545\n",
              "Name: Class, dtype: int64"
            ]
          },
          "metadata": {},
          "execution_count": 89
        }
      ]
    },
    {
      "cell_type": "code",
      "metadata": {
        "id": "fa6CO7W2kDi3"
      },
      "source": [
        "#Now we will resplit our X and y.\n",
        "X_train_balanced = train_df.drop(columns='Class')\n",
        "y_train_balanced = train_df['Class']"
      ],
      "execution_count": null,
      "outputs": []
    },
    {
      "cell_type": "code",
      "metadata": {
        "id": "qBKg97F3kXY6"
      },
      "source": [
        "# Import the TTS from sklearn\n",
        "from sklearn.model_selection import train_test_split\n",
        "# Train test split \n",
        "X_train, X_test, idx_tr, idx_te, y_train, y_test = train_test_split(\n",
        "    X, X.index, y, random_state=42, stratify=y)"
      ],
      "execution_count": null,
      "outputs": []
    },
    {
      "cell_type": "code",
      "metadata": {
        "id": "09_qXMBVWC8w",
        "colab": {
          "base_uri": "https://localhost:8080/"
        },
        "outputId": "eecfba01-f5b9-4e9e-e044-8000593b04a0"
      },
      "source": [
        "X_test.shape"
      ],
      "execution_count": null,
      "outputs": [
        {
          "output_type": "execute_result",
          "data": {
            "text/plain": [
              "(899, 13)"
            ]
          },
          "metadata": {},
          "execution_count": 92
        }
      ]
    },
    {
      "cell_type": "markdown",
      "metadata": {
        "id": "KtioCcl5kxtU"
      },
      "source": [
        "**Logistic Regression**"
      ]
    },
    {
      "cell_type": "code",
      "metadata": {
        "id": "9-nrOywsk7tc"
      },
      "source": [
        "from sklearn.pipeline import make_pipeline\n",
        "from sklearn.preprocessing import StandardScaler\n",
        "from sklearn.model_selection import train_test_split\n",
        "\n",
        "from sklearn.neighbors import KNeighborsClassifier\n",
        "import numpy as np\n",
        "from sklearn.linear_model import LinearRegression\n",
        "from sklearn.linear_model import LogisticRegression"
      ],
      "execution_count": null,
      "outputs": []
    },
    {
      "cell_type": "code",
      "metadata": {
        "id": "HsI3BC1XkyPA",
        "colab": {
          "base_uri": "https://localhost:8080/"
        },
        "outputId": "f29d7200-0ac6-4fad-ee0a-d99bb4fa7dce"
      },
      "source": [
        "# Make an instance of the model\n",
        "logreg = LogisticRegression(C = 10, max_iter=1000)\n",
        "\n",
        "# Scaling logistic regression\n",
        "scaler = StandardScaler()\n",
        "# Fit on training set only.\n",
        "scaler.fit(X_train_balanced)\n",
        "# Apply transform to both the training set and the test set.\n",
        "X_train = scaler.transform(X_train_balanced)\n",
        "X_test = scaler.transform(X_test)\n",
        "# Training the model on the data, storing the information learned from the data\n",
        "# Model is learning the relationship between X and y \n",
        "logreg.fit(X_train_balanced,y_train_balanced)\n"
      ],
      "execution_count": null,
      "outputs": [
        {
          "output_type": "execute_result",
          "data": {
            "text/plain": [
              "LogisticRegression(C=10, max_iter=1000)"
            ]
          },
          "metadata": {},
          "execution_count": 97
        }
      ]
    },
    {
      "cell_type": "code",
      "metadata": {
        "id": "ley6SVwmDq8-"
      },
      "source": [
        ""
      ],
      "execution_count": null,
      "outputs": []
    },
    {
      "cell_type": "code",
      "metadata": {
        "colab": {
          "base_uri": "https://localhost:8080/",
          "height": 427
        },
        "id": "HvQ4Zg4wDQ9k",
        "outputId": "c3979db3-98c1-46e9-9b89-0796fcf78501"
      },
      "source": [
        "\n",
        "\n",
        "plot_res(logreg)"
      ],
      "execution_count": null,
      "outputs": [
        {
          "output_type": "stream",
          "name": "stderr",
          "text": [
            "/usr/local/lib/python3.7/dist-packages/sklearn/base.py:446: UserWarning: X does not have valid feature names, but LogisticRegression was fitted with feature names\n",
            "  \"X does not have valid feature names, but\"\n"
          ]
        },
        {
          "output_type": "stream",
          "name": "stdout",
          "text": [
            "true label:  1\n",
            "pred label:  1\n",
            "true label:  0\n",
            "pred label:  0\n",
            "true label:  1\n",
            "pred label:  1\n"
          ]
        },
        {
          "output_type": "display_data",
          "data": {
            "image/png": "[encoded data removed]",
            "text/plain": [
              "<Figure size 432x288 with 1 Axes>"
            ]
          },
          "metadata": {
            "needs_background": "light"
          }
        }
      ]
    },
    {
      "cell_type": "code",
      "metadata": {
        "colab": {
          "base_uri": "https://localhost:8080/"
        },
        "id": "FCrzHoiQAypT",
        "outputId": "d0f4ef6b-cc77-4990-d335-24b1c3be2603"
      },
      "source": [
        "\n",
        "X_train.shape"
      ],
      "execution_count": null,
      "outputs": [
        {
          "output_type": "execute_result",
          "data": {
            "text/plain": [
              "(3090, 13)"
            ]
          },
          "metadata": {},
          "execution_count": 63
        }
      ]
    },
    {
      "cell_type": "code",
      "metadata": {
        "id": "RZ_TFfOMlZDV",
        "colab": {
          "base_uri": "https://localhost:8080/"
        },
        "outputId": "91dd650b-9e25-450c-93a7-4a14d55118ed"
      },
      "source": [
        "X_test = scaler.transform(X_test)\n",
        "y_pred = logreg.predict(X_test)"
      ],
      "execution_count": null,
      "outputs": [
        {
          "output_type": "stream",
          "name": "stderr",
          "text": [
            "/usr/local/lib/python3.7/dist-packages/sklearn/base.py:446: UserWarning: X does not have valid feature names, but StandardScaler was fitted with feature names\n",
            "  \"X does not have valid feature names, but\"\n",
            "/usr/local/lib/python3.7/dist-packages/sklearn/base.py:446: UserWarning: X does not have valid feature names, but LogisticRegression was fitted with feature names\n",
            "  \"X does not have valid feature names, but\"\n"
          ]
        }
      ]
    },
    {
      "cell_type": "code",
      "metadata": {
        "id": "FC_-lyielqou",
        "colab": {
          "base_uri": "https://localhost:8080/"
        },
        "outputId": "4433b63d-3962-4b33-e982-a6c35a9a84d5"
      },
      "source": [
        "logreg.score(X_train_balanced, y_train_balanced)\n"
      ],
      "execution_count": null,
      "outputs": [
        {
          "output_type": "execute_result",
          "data": {
            "text/plain": [
              "0.9825242718446602"
            ]
          },
          "metadata": {},
          "execution_count": 65
        }
      ]
    },
    {
      "cell_type": "code",
      "metadata": {
        "id": "2qMrZrezlvsG",
        "colab": {
          "base_uri": "https://localhost:8080/"
        },
        "outputId": "c59f6a21-e7fd-492d-b73f-1e4a75dddeb0"
      },
      "source": [
        "logreg.score(X_test, y_test)"
      ],
      "execution_count": null,
      "outputs": [
        {
          "output_type": "stream",
          "name": "stderr",
          "text": [
            "/usr/local/lib/python3.7/dist-packages/sklearn/base.py:446: UserWarning: X does not have valid feature names, but LogisticRegression was fitted with feature names\n",
            "  \"X does not have valid feature names, but\"\n"
          ]
        },
        {
          "output_type": "execute_result",
          "data": {
            "text/plain": [
              "0.44271412680756395"
            ]
          },
          "metadata": {},
          "execution_count": 66
        }
      ]
    },
    {
      "cell_type": "code",
      "metadata": {
        "colab": {
          "base_uri": "https://localhost:8080/",
          "height": 632
        },
        "id": "ruJO_fuUBJLv",
        "outputId": "6caa1317-5951-46c3-d082-6a740e193d56"
      },
      "source": [
        "df\n"
      ],
      "execution_count": null,
      "outputs": [
        {
          "output_type": "execute_result",
          "data": {
            "text/html": [
              "<div>\n",
              "<style scoped>\n",
              "    .dataframe tbody tr th:only-of-type {\n",
              "        vertical-align: middle;\n",
              "    }\n",
              "\n",
              "    .dataframe tbody tr th {\n",
              "        vertical-align: top;\n",
              "    }\n",
              "\n",
              "    .dataframe thead th {\n",
              "        text-align: right;\n",
              "    }\n",
              "</style>\n",
              "<table border=\"1\" class=\"dataframe\">\n",
              "  <thead>\n",
              "    <tr style=\"text-align: right;\">\n",
              "      <th></th>\n",
              "      <th>Class</th>\n",
              "      <th>Mean</th>\n",
              "      <th>Variance</th>\n",
              "      <th>Standard Deviation</th>\n",
              "      <th>Entropy</th>\n",
              "      <th>Skewness</th>\n",
              "      <th>Kurtosis</th>\n",
              "      <th>Contrast</th>\n",
              "      <th>Energy</th>\n",
              "      <th>ASM</th>\n",
              "      <th>Homogeneity</th>\n",
              "      <th>Dissimilarity</th>\n",
              "      <th>Correlation</th>\n",
              "      <th>Coarseness</th>\n",
              "    </tr>\n",
              "  </thead>\n",
              "  <tbody>\n",
              "    <tr>\n",
              "      <th>0</th>\n",
              "      <td>0</td>\n",
              "      <td>6.535339</td>\n",
              "      <td>619.587845</td>\n",
              "      <td>24.891522</td>\n",
              "      <td>0.109059</td>\n",
              "      <td>4.276477</td>\n",
              "      <td>18.900575</td>\n",
              "      <td>98.613971</td>\n",
              "      <td>0.293314</td>\n",
              "      <td>0.086033</td>\n",
              "      <td>0.530941</td>\n",
              "      <td>4.473346</td>\n",
              "      <td>0.981939</td>\n",
              "      <td>7.458341e-155</td>\n",
              "    </tr>\n",
              "    <tr>\n",
              "      <th>1</th>\n",
              "      <td>0</td>\n",
              "      <td>8.749969</td>\n",
              "      <td>805.957634</td>\n",
              "      <td>28.389393</td>\n",
              "      <td>0.266538</td>\n",
              "      <td>3.718116</td>\n",
              "      <td>14.464618</td>\n",
              "      <td>63.858816</td>\n",
              "      <td>0.475051</td>\n",
              "      <td>0.225674</td>\n",
              "      <td>0.651352</td>\n",
              "      <td>3.220072</td>\n",
              "      <td>0.988834</td>\n",
              "      <td>7.458341e-155</td>\n",
              "    </tr>\n",
              "    <tr>\n",
              "      <th>2</th>\n",
              "      <td>1</td>\n",
              "      <td>7.341095</td>\n",
              "      <td>1143.808219</td>\n",
              "      <td>33.820234</td>\n",
              "      <td>0.001467</td>\n",
              "      <td>5.061750</td>\n",
              "      <td>26.479563</td>\n",
              "      <td>81.867206</td>\n",
              "      <td>0.031917</td>\n",
              "      <td>0.001019</td>\n",
              "      <td>0.268275</td>\n",
              "      <td>5.981800</td>\n",
              "      <td>0.978014</td>\n",
              "      <td>7.458341e-155</td>\n",
              "    </tr>\n",
              "    <tr>\n",
              "      <th>3</th>\n",
              "      <td>1</td>\n",
              "      <td>5.958145</td>\n",
              "      <td>959.711985</td>\n",
              "      <td>30.979219</td>\n",
              "      <td>0.001477</td>\n",
              "      <td>5.677977</td>\n",
              "      <td>33.428845</td>\n",
              "      <td>151.229741</td>\n",
              "      <td>0.032024</td>\n",
              "      <td>0.001026</td>\n",
              "      <td>0.243851</td>\n",
              "      <td>7.700919</td>\n",
              "      <td>0.964189</td>\n",
              "      <td>7.458341e-155</td>\n",
              "    </tr>\n",
              "    <tr>\n",
              "      <th>4</th>\n",
              "      <td>0</td>\n",
              "      <td>7.315231</td>\n",
              "      <td>729.540579</td>\n",
              "      <td>27.010009</td>\n",
              "      <td>0.146761</td>\n",
              "      <td>4.283221</td>\n",
              "      <td>19.079108</td>\n",
              "      <td>174.988756</td>\n",
              "      <td>0.343849</td>\n",
              "      <td>0.118232</td>\n",
              "      <td>0.501140</td>\n",
              "      <td>6.834689</td>\n",
              "      <td>0.972789</td>\n",
              "      <td>7.458341e-155</td>\n",
              "    </tr>\n",
              "    <tr>\n",
              "      <th>...</th>\n",
              "      <td>...</td>\n",
              "      <td>...</td>\n",
              "      <td>...</td>\n",
              "      <td>...</td>\n",
              "      <td>...</td>\n",
              "      <td>...</td>\n",
              "      <td>...</td>\n",
              "      <td>...</td>\n",
              "      <td>...</td>\n",
              "      <td>...</td>\n",
              "      <td>...</td>\n",
              "      <td>...</td>\n",
              "      <td>...</td>\n",
              "      <td>...</td>\n",
              "    </tr>\n",
              "    <tr>\n",
              "      <th>3589</th>\n",
              "      <td>0</td>\n",
              "      <td>21.234512</td>\n",
              "      <td>1208.850174</td>\n",
              "      <td>34.768523</td>\n",
              "      <td>0.063774</td>\n",
              "      <td>2.082079</td>\n",
              "      <td>4.647310</td>\n",
              "      <td>158.437600</td>\n",
              "      <td>0.220666</td>\n",
              "      <td>0.048693</td>\n",
              "      <td>0.487131</td>\n",
              "      <td>5.211739</td>\n",
              "      <td>0.950972</td>\n",
              "      <td>7.458341e-155</td>\n",
              "    </tr>\n",
              "    <tr>\n",
              "      <th>3590</th>\n",
              "      <td>0</td>\n",
              "      <td>20.435349</td>\n",
              "      <td>1227.151440</td>\n",
              "      <td>35.030721</td>\n",
              "      <td>0.066763</td>\n",
              "      <td>2.144625</td>\n",
              "      <td>4.882034</td>\n",
              "      <td>161.158675</td>\n",
              "      <td>0.225931</td>\n",
              "      <td>0.051045</td>\n",
              "      <td>0.502712</td>\n",
              "      <td>5.083126</td>\n",
              "      <td>0.952749</td>\n",
              "      <td>7.458341e-155</td>\n",
              "    </tr>\n",
              "    <tr>\n",
              "      <th>3591</th>\n",
              "      <td>0</td>\n",
              "      <td>18.011520</td>\n",
              "      <td>1151.582765</td>\n",
              "      <td>33.934978</td>\n",
              "      <td>0.068396</td>\n",
              "      <td>2.308349</td>\n",
              "      <td>5.579498</td>\n",
              "      <td>167.130118</td>\n",
              "      <td>0.228930</td>\n",
              "      <td>0.052409</td>\n",
              "      <td>0.492269</td>\n",
              "      <td>5.103700</td>\n",
              "      <td>0.952181</td>\n",
              "      <td>7.458341e-155</td>\n",
              "    </tr>\n",
              "    <tr>\n",
              "      <th>3592</th>\n",
              "      <td>0</td>\n",
              "      <td>13.330429</td>\n",
              "      <td>945.732779</td>\n",
              "      <td>30.752769</td>\n",
              "      <td>0.087872</td>\n",
              "      <td>2.732822</td>\n",
              "      <td>7.757570</td>\n",
              "      <td>223.812932</td>\n",
              "      <td>0.261527</td>\n",
              "      <td>0.068397</td>\n",
              "      <td>0.480064</td>\n",
              "      <td>6.439784</td>\n",
              "      <td>0.940898</td>\n",
              "      <td>7.458341e-155</td>\n",
              "    </tr>\n",
              "    <tr>\n",
              "      <th>3593</th>\n",
              "      <td>0</td>\n",
              "      <td>6.110138</td>\n",
              "      <td>480.884025</td>\n",
              "      <td>21.929068</td>\n",
              "      <td>0.118171</td>\n",
              "      <td>4.110669</td>\n",
              "      <td>17.538826</td>\n",
              "      <td>239.251388</td>\n",
              "      <td>0.306224</td>\n",
              "      <td>0.093773</td>\n",
              "      <td>0.494333</td>\n",
              "      <td>6.787329</td>\n",
              "      <td>0.938731</td>\n",
              "      <td>7.458341e-155</td>\n",
              "    </tr>\n",
              "  </tbody>\n",
              "</table>\n",
              "<p>3594 rows × 14 columns</p>\n",
              "</div>"
            ],
            "text/plain": [
              "      Class       Mean     Variance  ...  Dissimilarity  Correlation     Coarseness\n",
              "0         0   6.535339   619.587845  ...       4.473346     0.981939  7.458341e-155\n",
              "1         0   8.749969   805.957634  ...       3.220072     0.988834  7.458341e-155\n",
              "2         1   7.341095  1143.808219  ...       5.981800     0.978014  7.458341e-155\n",
              "3         1   5.958145   959.711985  ...       7.700919     0.964189  7.458341e-155\n",
              "4         0   7.315231   729.540579  ...       6.834689     0.972789  7.458341e-155\n",
              "...     ...        ...          ...  ...            ...          ...            ...\n",
              "3589      0  21.234512  1208.850174  ...       5.211739     0.950972  7.458341e-155\n",
              "3590      0  20.435349  1227.151440  ...       5.083126     0.952749  7.458341e-155\n",
              "3591      0  18.011520  1151.582765  ...       5.103700     0.952181  7.458341e-155\n",
              "3592      0  13.330429   945.732779  ...       6.439784     0.940898  7.458341e-155\n",
              "3593      0   6.110138   480.884025  ...       6.787329     0.938731  7.458341e-155\n",
              "\n",
              "[3594 rows x 14 columns]"
            ]
          },
          "metadata": {},
          "execution_count": 68
        }
      ]
    },
    {
      "cell_type": "code",
      "metadata": {
        "id": "ccbx60g5l1SW",
        "colab": {
          "base_uri": "https://localhost:8080/"
        },
        "outputId": "55955b66-2c71-47f0-9564-1351d0e3f57c"
      },
      "source": [
        "# example of grid searching key hyperparametres for logistic regression\n",
        "from sklearn.datasets import make_blobs\n",
        "from sklearn.model_selection import RepeatedStratifiedKFold\n",
        "from sklearn.model_selection import GridSearchCV\n",
        "from sklearn.linear_model import LogisticRegression\n",
        "\n",
        "\n",
        "# define dataset\n",
        "X, y = make_blobs(n_samples=1000, centers=2, n_features=100, cluster_std=20)\n",
        "\n",
        "# define models and parameters\n",
        "model = LogisticRegression()\n",
        "solvers = ['newton-cg', 'lbfgs', 'liblinear']\n",
        "penalty = ['l2']\n",
        "c_values = [100, 10, 1.0, 0.1, 0.01]\n",
        "\n",
        "# define grid search\n",
        "grid = dict(solver=solvers,penalty=penalty,C=c_values)\n",
        "cv = RepeatedStratifiedKFold(n_splits=10, n_repeats=3, random_state=1)\n",
        "grid_search = GridSearchCV(estimator=model, param_grid=grid, n_jobs=-1, cv=cv, scoring='accuracy',error_score=0)\n",
        "grid_result = grid_search.fit(X, y)\n",
        "\n",
        "# summarize results\n",
        "print(\"Best: %f using %s\" % (grid_result.best_score_, grid_result.best_params_))\n",
        "means = grid_result.cv_results_['mean_test_score']\n",
        "stds = grid_result.cv_results_['std_test_score']\n",
        "params = grid_result.cv_results_['params']\n",
        "for mean, stdev, param in zip(means, stds, params):\n",
        "    print(\"%f (%f) with: %r\" % (mean, stdev, param))"
      ],
      "execution_count": null,
      "outputs": [
        {
          "output_type": "stream",
          "name": "stdout",
          "text": [
            "Best: 0.951000 using {'C': 0.01, 'penalty': 'l2', 'solver': 'liblinear'}\n",
            "0.949000 (0.025212) with: {'C': 100, 'penalty': 'l2', 'solver': 'newton-cg'}\n",
            "0.943000 (0.026602) with: {'C': 100, 'penalty': 'l2', 'solver': 'lbfgs'}\n",
            "0.945667 (0.024039) with: {'C': 100, 'penalty': 'l2', 'solver': 'liblinear'}\n",
            "0.949333 (0.025289) with: {'C': 10, 'penalty': 'l2', 'solver': 'newton-cg'}\n",
            "0.947000 (0.025839) with: {'C': 10, 'penalty': 'l2', 'solver': 'lbfgs'}\n",
            "0.946000 (0.024166) with: {'C': 10, 'penalty': 'l2', 'solver': 'liblinear'}\n",
            "0.950000 (0.023805) with: {'C': 1.0, 'penalty': 'l2', 'solver': 'newton-cg'}\n",
            "0.948000 (0.024549) with: {'C': 1.0, 'penalty': 'l2', 'solver': 'lbfgs'}\n",
            "0.947000 (0.023402) with: {'C': 1.0, 'penalty': 'l2', 'solver': 'liblinear'}\n",
            "0.950000 (0.023944) with: {'C': 0.1, 'penalty': 'l2', 'solver': 'newton-cg'}\n",
            "0.949667 (0.023732) with: {'C': 0.1, 'penalty': 'l2', 'solver': 'lbfgs'}\n",
            "0.947667 (0.022610) with: {'C': 0.1, 'penalty': 'l2', 'solver': 'liblinear'}\n",
            "0.950000 (0.021134) with: {'C': 0.01, 'penalty': 'l2', 'solver': 'newton-cg'}\n",
            "0.950000 (0.021134) with: {'C': 0.01, 'penalty': 'l2', 'solver': 'lbfgs'}\n",
            "0.951000 (0.020551) with: {'C': 0.01, 'penalty': 'l2', 'solver': 'liblinear'}\n"
          ]
        }
      ]
    },
    {
      "cell_type": "code",
      "metadata": {
        "id": "DOwUikOomFIv",
        "colab": {
          "base_uri": "https://localhost:8080/"
        },
        "outputId": "d3604a72-b9f0-44a9-c20d-c14c00315277"
      },
      "source": [
        "model = LogisticRegression(solver='liblinear', C=1000)\n",
        "model.fit(X_train_balanced, y_train_balanced)"
      ],
      "execution_count": null,
      "outputs": [
        {
          "output_type": "execute_result",
          "data": {
            "text/plain": [
              "LogisticRegression(C=1000, class_weight=None, dual=False, fit_intercept=True,\n",
              "                   intercept_scaling=1, l1_ratio=None, max_iter=100,\n",
              "                   multi_class='auto', n_jobs=None, penalty='l2',\n",
              "                   random_state=None, solver='liblinear', tol=0.0001, verbose=0,\n",
              "                   warm_start=False)"
            ]
          },
          "metadata": {},
          "execution_count": 49
        }
      ]
    },
    {
      "cell_type": "code",
      "metadata": {
        "id": "qz0d2HKbmNgg"
      },
      "source": [
        "X_test = scaler.transform(X_test)\n",
        "y_pred = model.predict(X_test)"
      ],
      "execution_count": null,
      "outputs": []
    },
    {
      "cell_type": "code",
      "metadata": {
        "id": "sDZb0nobmQ26",
        "colab": {
          "base_uri": "https://localhost:8080/"
        },
        "outputId": "086ac3c3-7b29-494c-da99-28320b42300b"
      },
      "source": [
        " model.score(X_train_balanced, y_train_balanced)\n",
        " "
      ],
      "execution_count": null,
      "outputs": [
        {
          "output_type": "execute_result",
          "data": {
            "text/plain": [
              "0.984789644012945"
            ]
          },
          "metadata": {},
          "execution_count": 51
        }
      ]
    },
    {
      "cell_type": "code",
      "metadata": {
        "id": "WnHgtD8amkAf",
        "colab": {
          "base_uri": "https://localhost:8080/"
        },
        "outputId": "a69833df-f360-4bdb-ece4-2e8df33b1aa2"
      },
      "source": [
        "model.score(X_test, y_test)"
      ],
      "execution_count": null,
      "outputs": [
        {
          "output_type": "execute_result",
          "data": {
            "text/plain": [
              "0.6718576195773082"
            ]
          },
          "metadata": {},
          "execution_count": 52
        }
      ]
    },
    {
      "cell_type": "markdown",
      "metadata": {
        "id": "JNumvibhoH_n"
      },
      "source": [
        "**KNN**"
      ]
    },
    {
      "cell_type": "code",
      "metadata": {
        "id": "V4hxAN0QoMLH"
      },
      "source": [
        "from sklearn.neighbors import KNeighborsClassifier"
      ],
      "execution_count": null,
      "outputs": []
    },
    {
      "cell_type": "code",
      "metadata": {
        "id": "HMvYnQSnoOll",
        "colab": {
          "base_uri": "https://localhost:8080/"
        },
        "outputId": "401f9759-9825-459a-9fa0-407028ccd1de"
      },
      "source": [
        "knn = KNeighborsClassifier(n_neighbors=1)\n",
        "print(knn)"
      ],
      "execution_count": null,
      "outputs": [
        {
          "output_type": "stream",
          "name": "stdout",
          "text": [
            "KNeighborsClassifier(algorithm='auto', leaf_size=30, metric='minkowski',\n",
            "                     metric_params=None, n_jobs=None, n_neighbors=1, p=2,\n",
            "                     weights='uniform')\n"
          ]
        }
      ]
    },
    {
      "cell_type": "code",
      "metadata": {
        "id": "U4zs_S7NoQf2",
        "colab": {
          "base_uri": "https://localhost:8080/"
        },
        "outputId": "9df3a109-1e0f-4f59-b1c3-dfc9c377d982"
      },
      "source": [
        "knn.fit(X_train_balanced, y_train_balanced)"
      ],
      "execution_count": null,
      "outputs": [
        {
          "output_type": "execute_result",
          "data": {
            "text/plain": [
              "KNeighborsClassifier(algorithm='auto', leaf_size=30, metric='minkowski',\n",
              "                     metric_params=None, n_jobs=None, n_neighbors=1, p=2,\n",
              "                     weights='uniform')"
            ]
          },
          "metadata": {},
          "execution_count": 55
        }
      ]
    },
    {
      "cell_type": "code",
      "metadata": {
        "id": "ZF7ZHz5yoUXu",
        "colab": {
          "base_uri": "https://localhost:8080/"
        },
        "outputId": "b3ca197e-c3b7-445e-db55-d9c67ab18bbe"
      },
      "source": [
        "predictions = knn.predict(X_test)\n",
        "predictions"
      ],
      "execution_count": null,
      "outputs": [
        {
          "output_type": "execute_result",
          "data": {
            "text/plain": [
              "array([0, 0, 0, 0, 0, 0, 0, 0, 0, 0, 0, 0, 0, 0, 0, 0, 0, 0, 0, 0, 0, 0,\n",
              "       0, 0, 0, 0, 0, 0, 0, 0, 0, 0, 0, 0, 0, 0, 0, 0, 0, 0, 0, 0, 0, 0,\n",
              "       0, 0, 0, 0, 0, 0, 0, 0, 0, 0, 0, 0, 0, 0, 0, 0, 0, 0, 0, 0, 0, 0,\n",
              "       0, 0, 0, 0, 0, 0, 0, 0, 0, 0, 0, 0, 0, 0, 0, 0, 0, 0, 0, 0, 0, 0,\n",
              "       0, 0, 0, 0, 0, 0, 0, 0, 0, 0, 0, 0, 0, 0, 0, 0, 0, 0, 0, 0, 0, 0,\n",
              "       0, 0, 0, 0, 0, 0, 0, 0, 0, 0, 0, 0, 0, 0, 0, 0, 0, 0, 0, 0, 0, 0,\n",
              "       0, 0, 0, 0, 0, 0, 0, 0, 0, 0, 0, 0, 0, 0, 0, 0, 0, 0, 0, 0, 0, 0,\n",
              "       0, 0, 0, 0, 0, 0, 0, 0, 0, 0, 0, 0, 0, 0, 0, 0, 0, 0, 0, 0, 0, 0,\n",
              "       0, 0, 0, 0, 0, 0, 0, 0, 0, 0, 0, 0, 0, 0, 0, 0, 0, 0, 0, 0, 0, 0,\n",
              "       0, 0, 0, 0, 0, 0, 0, 0, 0, 0, 0, 0, 0, 0, 0, 0, 0, 0, 0, 0, 0, 0,\n",
              "       0, 0, 0, 0, 0, 0, 0, 0, 0, 0, 0, 0, 0, 0, 0, 0, 0, 0, 0, 0, 0, 0,\n",
              "       0, 0, 0, 0, 0, 0, 0, 0, 0, 0, 0, 0, 0, 0, 0, 0, 0, 0, 0, 0, 0, 0,\n",
              "       0, 0, 0, 0, 0, 0, 0, 0, 0, 0, 0, 0, 0, 0, 0, 0, 0, 0, 0, 0, 0, 0,\n",
              "       0, 0, 0, 0, 0, 0, 0, 0, 0, 0, 0, 0, 0, 0, 0, 0, 0, 0, 0, 0, 0, 0,\n",
              "       0, 0, 0, 0, 0, 0, 0, 0, 0, 0, 0, 0, 0, 0, 0, 0, 0, 0, 0, 0, 0, 0,\n",
              "       0, 0, 0, 0, 0, 0, 0, 0, 0, 0, 0, 0, 0, 0, 0, 0, 0, 0, 0, 0, 0, 0,\n",
              "       0, 0, 0, 0, 0, 0, 0, 0, 0, 0, 0, 0, 0, 0, 0, 0, 0, 0, 0, 0, 0, 0,\n",
              "       0, 0, 0, 0, 0, 0, 0, 0, 0, 0, 0, 0, 0, 0, 0, 0, 0, 0, 0, 0, 0, 0,\n",
              "       0, 0, 0, 0, 0, 0, 0, 0, 0, 0, 0, 0, 0, 0, 0, 0, 0, 0, 0, 0, 0, 0,\n",
              "       0, 0, 0, 0, 0, 0, 0, 0, 0, 0, 0, 0, 0, 0, 0, 0, 0, 0, 0, 0, 0, 0,\n",
              "       0, 0, 0, 0, 0, 0, 0, 0, 0, 0, 0, 0, 0, 0, 0, 0, 0, 0, 0, 0, 0, 0,\n",
              "       0, 0, 0, 0, 0, 0, 0, 0, 0, 0, 0, 0, 0, 0, 0, 0, 0, 0, 0, 0, 0, 0,\n",
              "       0, 0, 0, 0, 0, 0, 0, 0, 0, 0, 0, 0, 0, 0, 0, 0, 0, 0, 0, 0, 0, 0,\n",
              "       0, 0, 0, 0, 0, 0, 0, 0, 0, 0, 0, 0, 0, 0, 0, 0, 0, 0, 0, 0, 0, 0,\n",
              "       0, 0, 0, 0, 0, 0, 0, 0, 0, 0, 0, 0, 0, 0, 0, 0, 0, 0, 0, 0, 0, 0,\n",
              "       0, 0, 0, 0, 0, 0, 0, 0, 0, 0, 0, 0, 0, 0, 0, 0, 0, 0, 0, 0, 0, 0,\n",
              "       0, 0, 0, 0, 0, 0, 0, 0, 0, 0, 0, 0, 0, 0, 0, 0, 0, 0, 0, 0, 0, 0,\n",
              "       0, 0, 0, 0, 0, 0, 0, 0, 0, 0, 0, 0, 0, 0, 0, 0, 0, 0, 0, 0, 0, 0,\n",
              "       0, 0, 0, 0, 0, 0, 0, 0, 0, 0, 0, 0, 0, 0, 0, 0, 0, 0, 0, 0, 0, 0,\n",
              "       0, 0, 0, 0, 0, 0, 0, 0, 0, 0, 0, 0, 0, 0, 0, 0, 0, 0, 0, 0, 0, 0,\n",
              "       0, 0, 0, 0, 0, 0, 0, 0, 0, 0, 0, 0, 0, 0, 0, 0, 0, 0, 0, 0, 0, 0,\n",
              "       0, 0, 0, 0, 0, 0, 0, 0, 0, 0, 0, 0, 0, 0, 0, 0, 0, 0, 0, 0, 0, 0,\n",
              "       0, 0, 0, 0, 0, 0, 0, 0, 0, 0, 0, 0, 0, 0, 0, 0, 0, 0, 0, 0, 0, 0,\n",
              "       0, 0, 0, 0, 0, 0, 0, 0, 0, 0, 0, 0, 0, 0, 0, 0, 0, 0, 0, 0, 0, 0,\n",
              "       0, 0, 0, 0, 0, 0, 0, 0, 0, 0, 0, 0, 0, 0, 0, 0, 0, 0, 0, 0, 0, 0,\n",
              "       0, 0, 0, 0, 0, 0, 0, 0, 0, 0, 0, 0, 0, 0, 0, 0, 0, 0, 0, 0, 0, 0,\n",
              "       0, 0, 0, 0, 0, 0, 0, 0, 0, 0, 0, 0, 0, 0, 0, 0, 0, 0, 0, 0, 0, 0,\n",
              "       0, 0, 0, 0, 0, 0, 0, 0, 0, 0, 0, 0, 0, 0, 0, 0, 0, 0, 0, 0, 0, 0,\n",
              "       0, 0, 0, 0, 0, 0, 0, 0, 0, 0, 0, 0, 0, 0, 0, 0, 0, 0, 0, 0, 0, 0,\n",
              "       0, 0, 0, 0, 0, 0, 0, 0, 0, 0, 0, 0, 0, 0, 0, 0, 0, 0, 0, 0, 0, 0,\n",
              "       0, 0, 0, 0, 0, 0, 0, 0, 0, 0, 0, 0, 0, 0, 0, 0, 0, 0, 0])"
            ]
          },
          "metadata": {},
          "execution_count": 56
        }
      ]
    },
    {
      "cell_type": "code",
      "metadata": {
        "id": "rwUoTS7Ps-BX",
        "colab": {
          "base_uri": "https://localhost:8080/"
        },
        "outputId": "0a32c989-970a-41c9-faf0-4958c49fc6a6"
      },
      "source": [
        "score = knn.score(X_train_balanced, y_train_balanced)\n",
        "score"
      ],
      "execution_count": null,
      "outputs": [
        {
          "output_type": "execute_result",
          "data": {
            "text/plain": [
              "1.0"
            ]
          },
          "metadata": {},
          "execution_count": 57
        }
      ]
    },
    {
      "cell_type": "code",
      "metadata": {
        "id": "a2P1_5EBoX8F",
        "colab": {
          "base_uri": "https://localhost:8080/"
        },
        "outputId": "9554a6db-3c89-43b7-db2f-8a77fe29fb92"
      },
      "source": [
        "# calculate classification accuracy\n",
        "score1 = knn.score(X_test, y_test)\n",
        "score1"
      ],
      "execution_count": null,
      "outputs": [
        {
          "output_type": "execute_result",
          "data": {
            "text/plain": [
              "0.5728587319243604"
            ]
          },
          "metadata": {},
          "execution_count": 58
        }
      ]
    },
    {
      "cell_type": "code",
      "metadata": {
        "id": "Xh5ep9_soct_",
        "colab": {
          "base_uri": "https://localhost:8080/"
        },
        "outputId": "84c0834d-abef-423f-fba6-1c43595a906f"
      },
      "source": [
        "# example of grid searching key hyperparametres for KNeighborsClassifier\n",
        "from sklearn.datasets import make_blobs\n",
        "from sklearn.model_selection import RepeatedStratifiedKFold\n",
        "from sklearn.model_selection import GridSearchCV\n",
        "from sklearn.neighbors import KNeighborsClassifier\n",
        "# define dataset\n",
        "X, y = make_blobs(n_samples=1000, centers=2, n_features=100, cluster_std=20)\n",
        "\n",
        "# define models and parameters\n",
        "model = KNeighborsClassifier()\n",
        "n_neighbors = range(1, 21, 2)\n",
        "weights = ['uniform', 'distance']\n",
        "metric = ['euclidean', 'manhattan', 'minkowski']\n",
        "\n",
        "# define grid search\n",
        "grid = dict(n_neighbors=n_neighbors,weights=weights,metric=metric)\n",
        "cv = RepeatedStratifiedKFold(n_splits=10, n_repeats=3, random_state=1)\n",
        "grid_search = GridSearchCV(estimator=model, param_grid=grid, n_jobs=-1, cv=cv, scoring='accuracy',error_score=0)\n",
        "grid_result = grid_search.fit(X, y)\n",
        "\n",
        "# summarize results\n",
        "print(\"Best: %f using %s\" % (grid_result.best_score_, grid_result.best_params_))\n",
        "means = grid_result.cv_results_['mean_test_score']\n",
        "stds = grid_result.cv_results_['std_test_score']\n",
        "params = grid_result.cv_results_['params']\n",
        "for mean, stdev, param in zip(means, stds, params):\n",
        "  \n",
        "    print(\"%f (%f) with: %r\" % (mean, stdev, param))"
      ],
      "execution_count": null,
      "outputs": [
        {
          "output_type": "stream",
          "name": "stdout",
          "text": [
            "Best: 0.970000 using {'metric': 'euclidean', 'n_neighbors': 15, 'weights': 'uniform'}\n",
            "0.882333 (0.035184) with: {'metric': 'euclidean', 'n_neighbors': 1, 'weights': 'uniform'}\n",
            "0.882333 (0.035184) with: {'metric': 'euclidean', 'n_neighbors': 1, 'weights': 'distance'}\n",
            "0.929667 (0.030275) with: {'metric': 'euclidean', 'n_neighbors': 3, 'weights': 'uniform'}\n",
            "0.929667 (0.030275) with: {'metric': 'euclidean', 'n_neighbors': 3, 'weights': 'distance'}\n",
            "0.944667 (0.025914) with: {'metric': 'euclidean', 'n_neighbors': 5, 'weights': 'uniform'}\n",
            "0.944667 (0.025914) with: {'metric': 'euclidean', 'n_neighbors': 5, 'weights': 'distance'}\n",
            "0.955667 (0.022462) with: {'metric': 'euclidean', 'n_neighbors': 7, 'weights': 'uniform'}\n",
            "0.955667 (0.022462) with: {'metric': 'euclidean', 'n_neighbors': 7, 'weights': 'distance'}\n",
            "0.963667 (0.024424) with: {'metric': 'euclidean', 'n_neighbors': 9, 'weights': 'uniform'}\n",
            "0.963667 (0.024424) with: {'metric': 'euclidean', 'n_neighbors': 9, 'weights': 'distance'}\n",
            "0.964667 (0.022910) with: {'metric': 'euclidean', 'n_neighbors': 11, 'weights': 'uniform'}\n",
            "0.964667 (0.022910) with: {'metric': 'euclidean', 'n_neighbors': 11, 'weights': 'distance'}\n",
            "0.968667 (0.021406) with: {'metric': 'euclidean', 'n_neighbors': 13, 'weights': 'uniform'}\n",
            "0.968667 (0.021406) with: {'metric': 'euclidean', 'n_neighbors': 13, 'weights': 'distance'}\n",
            "0.970000 (0.021134) with: {'metric': 'euclidean', 'n_neighbors': 15, 'weights': 'uniform'}\n",
            "0.970000 (0.021134) with: {'metric': 'euclidean', 'n_neighbors': 15, 'weights': 'distance'}\n",
            "0.967667 (0.022757) with: {'metric': 'euclidean', 'n_neighbors': 17, 'weights': 'uniform'}\n",
            "0.967667 (0.022757) with: {'metric': 'euclidean', 'n_neighbors': 17, 'weights': 'distance'}\n",
            "0.969333 (0.021746) with: {'metric': 'euclidean', 'n_neighbors': 19, 'weights': 'uniform'}\n",
            "0.969333 (0.021746) with: {'metric': 'euclidean', 'n_neighbors': 19, 'weights': 'distance'}\n",
            "0.868000 (0.037094) with: {'metric': 'manhattan', 'n_neighbors': 1, 'weights': 'uniform'}\n",
            "0.868000 (0.037094) with: {'metric': 'manhattan', 'n_neighbors': 1, 'weights': 'distance'}\n",
            "0.918333 (0.025701) with: {'metric': 'manhattan', 'n_neighbors': 3, 'weights': 'uniform'}\n",
            "0.918333 (0.025701) with: {'metric': 'manhattan', 'n_neighbors': 3, 'weights': 'distance'}\n",
            "0.932667 (0.026449) with: {'metric': 'manhattan', 'n_neighbors': 5, 'weights': 'uniform'}\n",
            "0.932667 (0.026449) with: {'metric': 'manhattan', 'n_neighbors': 5, 'weights': 'distance'}\n",
            "0.946667 (0.024267) with: {'metric': 'manhattan', 'n_neighbors': 7, 'weights': 'uniform'}\n",
            "0.946667 (0.024267) with: {'metric': 'manhattan', 'n_neighbors': 7, 'weights': 'distance'}\n",
            "0.954000 (0.022598) with: {'metric': 'manhattan', 'n_neighbors': 9, 'weights': 'uniform'}\n",
            "0.954000 (0.022598) with: {'metric': 'manhattan', 'n_neighbors': 9, 'weights': 'distance'}\n",
            "0.954667 (0.021561) with: {'metric': 'manhattan', 'n_neighbors': 11, 'weights': 'uniform'}\n",
            "0.954667 (0.021561) with: {'metric': 'manhattan', 'n_neighbors': 11, 'weights': 'distance'}\n",
            "0.958000 (0.025351) with: {'metric': 'manhattan', 'n_neighbors': 13, 'weights': 'uniform'}\n",
            "0.958000 (0.025351) with: {'metric': 'manhattan', 'n_neighbors': 13, 'weights': 'distance'}\n",
            "0.959000 (0.024678) with: {'metric': 'manhattan', 'n_neighbors': 15, 'weights': 'uniform'}\n",
            "0.959000 (0.024678) with: {'metric': 'manhattan', 'n_neighbors': 15, 'weights': 'distance'}\n",
            "0.961667 (0.021615) with: {'metric': 'manhattan', 'n_neighbors': 17, 'weights': 'uniform'}\n",
            "0.961667 (0.021615) with: {'metric': 'manhattan', 'n_neighbors': 17, 'weights': 'distance'}\n",
            "0.963667 (0.021367) with: {'metric': 'manhattan', 'n_neighbors': 19, 'weights': 'uniform'}\n",
            "0.963667 (0.021367) with: {'metric': 'manhattan', 'n_neighbors': 19, 'weights': 'distance'}\n",
            "0.882333 (0.035184) with: {'metric': 'minkowski', 'n_neighbors': 1, 'weights': 'uniform'}\n",
            "0.882333 (0.035184) with: {'metric': 'minkowski', 'n_neighbors': 1, 'weights': 'distance'}\n",
            "0.929667 (0.030275) with: {'metric': 'minkowski', 'n_neighbors': 3, 'weights': 'uniform'}\n",
            "0.929667 (0.030275) with: {'metric': 'minkowski', 'n_neighbors': 3, 'weights': 'distance'}\n",
            "0.944667 (0.025914) with: {'metric': 'minkowski', 'n_neighbors': 5, 'weights': 'uniform'}\n",
            "0.944667 (0.025914) with: {'metric': 'minkowski', 'n_neighbors': 5, 'weights': 'distance'}\n",
            "0.955667 (0.022462) with: {'metric': 'minkowski', 'n_neighbors': 7, 'weights': 'uniform'}\n",
            "0.955667 (0.022462) with: {'metric': 'minkowski', 'n_neighbors': 7, 'weights': 'distance'}\n",
            "0.963667 (0.024424) with: {'metric': 'minkowski', 'n_neighbors': 9, 'weights': 'uniform'}\n",
            "0.963667 (0.024424) with: {'metric': 'minkowski', 'n_neighbors': 9, 'weights': 'distance'}\n",
            "0.964667 (0.022910) with: {'metric': 'minkowski', 'n_neighbors': 11, 'weights': 'uniform'}\n",
            "0.964667 (0.022910) with: {'metric': 'minkowski', 'n_neighbors': 11, 'weights': 'distance'}\n",
            "0.968667 (0.021406) with: {'metric': 'minkowski', 'n_neighbors': 13, 'weights': 'uniform'}\n",
            "0.968667 (0.021406) with: {'metric': 'minkowski', 'n_neighbors': 13, 'weights': 'distance'}\n",
            "0.970000 (0.021134) with: {'metric': 'minkowski', 'n_neighbors': 15, 'weights': 'uniform'}\n",
            "0.970000 (0.021134) with: {'metric': 'minkowski', 'n_neighbors': 15, 'weights': 'distance'}\n",
            "0.967667 (0.022757) with: {'metric': 'minkowski', 'n_neighbors': 17, 'weights': 'uniform'}\n",
            "0.967667 (0.022757) with: {'metric': 'minkowski', 'n_neighbors': 17, 'weights': 'distance'}\n",
            "0.969333 (0.021746) with: {'metric': 'minkowski', 'n_neighbors': 19, 'weights': 'uniform'}\n",
            "0.969333 (0.021746) with: {'metric': 'minkowski', 'n_neighbors': 19, 'weights': 'distance'}\n"
          ]
        }
      ]
    },
    {
      "cell_type": "code",
      "metadata": {
        "id": "lx7hv5peozYQ",
        "colab": {
          "base_uri": "https://localhost:8080/"
        },
        "outputId": "2c4449a0-14aa-4c97-8211-3003dcdb129e"
      },
      "source": [
        "model1 = KNeighborsClassifier(algorithm='auto', leaf_size=30, metric='manhattan',\n",
        "                     metric_params=None, n_jobs=None, n_neighbors=19, p=2,\n",
        "                     weights='uniform')\n",
        "model1.fit(X_train_balanced, y_train_balanced)"
      ],
      "execution_count": null,
      "outputs": [
        {
          "output_type": "execute_result",
          "data": {
            "text/plain": [
              "KNeighborsClassifier(algorithm='auto', leaf_size=30, metric='manhattan',\n",
              "                     metric_params=None, n_jobs=None, n_neighbors=19, p=2,\n",
              "                     weights='uniform')"
            ]
          },
          "metadata": {},
          "execution_count": 60
        }
      ]
    },
    {
      "cell_type": "code",
      "metadata": {
        "id": "1yV33M_ZpJXF"
      },
      "source": [
        "X_test = scaler.transform(X_test)\n",
        "y_pred = model1.predict(X_test)"
      ],
      "execution_count": null,
      "outputs": []
    },
    {
      "cell_type": "code",
      "metadata": {
        "id": "5eW5DmKYUqGt",
        "colab": {
          "base_uri": "https://localhost:8080/"
        },
        "outputId": "ab506804-c698-43f2-b46e-0eb2757b8fe9"
      },
      "source": [
        "X_test.shape"
      ],
      "execution_count": null,
      "outputs": [
        {
          "output_type": "execute_result",
          "data": {
            "text/plain": [
              "(899, 13)"
            ]
          },
          "metadata": {},
          "execution_count": 62
        }
      ]
    },
    {
      "cell_type": "code",
      "metadata": {
        "id": "QWLcNLMEpL8j",
        "colab": {
          "base_uri": "https://localhost:8080/"
        },
        "outputId": "6c2df650-9811-4a4b-db61-ed94aa88bbe6"
      },
      "source": [
        " model1.score(X_train_balanced, y_train_balanced)"
      ],
      "execution_count": null,
      "outputs": [
        {
          "output_type": "execute_result",
          "data": {
            "text/plain": [
              "0.8566343042071197"
            ]
          },
          "metadata": {},
          "execution_count": 63
        }
      ]
    },
    {
      "cell_type": "code",
      "metadata": {
        "id": "nQl_w-zXszLm",
        "colab": {
          "base_uri": "https://localhost:8080/"
        },
        "outputId": "a0a51890-4028-428a-9e81-6cdf400e60c0"
      },
      "source": [
        "model1.score(X_test, y_test)"
      ],
      "execution_count": null,
      "outputs": [
        {
          "output_type": "execute_result",
          "data": {
            "text/plain": [
              "0.5728587319243604"
            ]
          },
          "metadata": {},
          "execution_count": 64
        }
      ]
    },
    {
      "cell_type": "markdown",
      "metadata": {
        "id": "IY0nzR6ntdXE"
      },
      "source": [
        "**Decision Tree Classifier**"
      ]
    },
    {
      "cell_type": "code",
      "metadata": {
        "id": "P6XeTi-ateHS",
        "colab": {
          "base_uri": "https://localhost:8080/"
        },
        "outputId": "572037eb-9422-4210-d19e-835e2698ebff"
      },
      "source": [
        "from sklearn.tree import DecisionTreeClassifier\n",
        "\n",
        "dec_tree = DecisionTreeClassifier(random_state = 42)\n",
        "dec_tree\n",
        "\n",
        "dec_tree.fit(X_train_balanced, y_train_balanced)\n",
        "\n",
        "dec_tree.predict(X_test)"
      ],
      "execution_count": null,
      "outputs": [
        {
          "output_type": "execute_result",
          "data": {
            "text/plain": [
              "array([1, 1, 1, 0, 1, 0, 1, 0, 1, 0, 1, 0, 1, 1, 0, 0, 0, 1, 1, 0, 1, 0,\n",
              "       0, 1, 0, 0, 0, 1, 1, 1, 1, 0, 0, 1, 1, 1, 0, 1, 1, 1, 0, 0, 0, 0,\n",
              "       0, 0, 0, 1, 0, 0, 0, 1, 0, 1, 0, 1, 0, 0, 0, 0, 1, 0, 1, 0, 1, 1,\n",
              "       1, 1, 0, 0, 1, 0, 0, 0, 0, 0, 0, 1, 1, 0, 1, 0, 1, 0, 1, 0, 1, 0,\n",
              "       1, 1, 0, 0, 0, 0, 1, 0, 0, 0, 1, 0, 0, 0, 1, 0, 1, 0, 0, 0, 1, 0,\n",
              "       0, 0, 0, 0, 1, 1, 0, 0, 1, 1, 0, 1, 1, 1, 1, 0, 0, 1, 0, 0, 0, 0,\n",
              "       0, 0, 0, 0, 1, 1, 1, 0, 1, 0, 1, 1, 0, 1, 0, 0, 1, 1, 1, 0, 1, 1,\n",
              "       0, 1, 1, 1, 1, 1, 0, 1, 1, 0, 1, 1, 0, 0, 0, 0, 0, 0, 0, 0, 0, 0,\n",
              "       1, 0, 0, 0, 0, 1, 0, 0, 0, 1, 0, 1, 0, 0, 1, 1, 0, 0, 0, 1, 1, 0,\n",
              "       1, 1, 1, 1, 0, 1, 0, 1, 0, 1, 0, 0, 1, 0, 0, 0, 0, 1, 0, 0, 0, 0,\n",
              "       0, 1, 0, 1, 0, 0, 0, 0, 0, 1, 0, 1, 1, 0, 0, 1, 1, 1, 0, 1, 0, 0,\n",
              "       1, 0, 0, 0, 1, 0, 0, 0, 1, 0, 0, 1, 1, 0, 1, 1, 1, 0, 1, 0, 0, 0,\n",
              "       0, 1, 0, 0, 1, 0, 1, 1, 1, 0, 0, 0, 1, 1, 1, 0, 0, 0, 1, 0, 0, 0,\n",
              "       0, 1, 1, 0, 0, 0, 0, 1, 0, 1, 1, 0, 0, 0, 1, 1, 0, 1, 1, 0, 1, 1,\n",
              "       0, 1, 0, 0, 0, 0, 1, 1, 0, 0, 0, 1, 0, 1, 0, 0, 1, 0, 1, 0, 0, 0,\n",
              "       0, 0, 0, 1, 0, 0, 1, 0, 0, 0, 0, 1, 1, 0, 0, 0, 1, 0, 1, 1, 1, 0,\n",
              "       1, 1, 1, 1, 0, 1, 1, 1, 1, 0, 0, 0, 1, 1, 1, 1, 1, 0, 1, 1, 1, 1,\n",
              "       0, 0, 1, 1, 0, 0, 0, 1, 0, 0, 1, 1, 1, 0, 0, 0, 0, 1, 1, 1, 1, 1,\n",
              "       1, 1, 0, 0, 0, 0, 0, 0, 1, 1, 0, 1, 1, 0, 0, 1, 0, 0, 0, 1, 1, 1,\n",
              "       1, 1, 1, 0, 1, 1, 1, 0, 0, 1, 1, 0, 1, 0, 1, 1, 1, 1, 1, 0, 1, 0,\n",
              "       1, 0, 1, 1, 1, 1, 0, 0, 0, 0, 0, 1, 1, 1, 1, 1, 1, 0, 0, 1, 1, 0,\n",
              "       0, 0, 1, 1, 1, 1, 0, 1, 1, 0, 0, 0, 0, 0, 0, 1, 0, 1, 1, 0, 0, 0,\n",
              "       0, 1, 1, 1, 1, 0, 1, 0, 0, 1, 0, 1, 1, 0, 0, 0, 1, 1, 1, 1, 1, 0,\n",
              "       0, 0, 0, 1, 0, 1, 1, 0, 0, 0, 1, 0, 1, 1, 1, 0, 0, 1, 0, 1, 0, 1,\n",
              "       0, 1, 0, 1, 0, 0, 0, 0, 0, 1, 0, 0, 1, 0, 1, 0, 1, 0, 0, 0, 0, 1,\n",
              "       0, 1, 1, 1, 1, 1, 1, 0, 0, 1, 1, 0, 0, 1, 0, 1, 0, 0, 0, 0, 0, 0,\n",
              "       0, 0, 0, 0, 0, 0, 0, 0, 1, 1, 1, 0, 0, 0, 0, 0, 0, 1, 0, 0, 1, 1,\n",
              "       1, 0, 1, 0, 1, 1, 0, 1, 1, 1, 1, 0, 0, 1, 1, 0, 0, 1, 1, 0, 0, 0,\n",
              "       0, 1, 0, 0, 1, 1, 0, 1, 1, 1, 1, 1, 1, 1, 1, 0, 1, 1, 0, 1, 0, 0,\n",
              "       1, 1, 0, 1, 0, 1, 0, 0, 0, 1, 0, 0, 0, 1, 1, 0, 1, 0, 0, 0, 0, 0,\n",
              "       1, 0, 1, 0, 0, 0, 0, 0, 0, 1, 1, 1, 1, 0, 0, 0, 1, 1, 1, 1, 1, 1,\n",
              "       0, 0, 1, 1, 0, 0, 0, 0, 1, 1, 0, 1, 0, 0, 0, 0, 0, 1, 0, 1, 0, 1,\n",
              "       0, 0, 0, 1, 0, 0, 1, 1, 1, 0, 0, 1, 1, 1, 0, 1, 0, 0, 0, 0, 0, 1,\n",
              "       1, 1, 1, 0, 0, 0, 0, 1, 0, 1, 1, 1, 0, 0, 1, 1, 1, 1, 0, 0, 0, 1,\n",
              "       0, 1, 1, 0, 1, 0, 0, 0, 0, 0, 0, 1, 0, 0, 1, 0, 0, 0, 0, 0, 1, 1,\n",
              "       1, 1, 0, 0, 0, 1, 0, 1, 1, 0, 1, 1, 1, 1, 1, 0, 0, 1, 0, 1, 1, 1,\n",
              "       1, 1, 0, 1, 1, 0, 0, 0, 1, 0, 0, 0, 0, 0, 0, 0, 1, 0, 0, 1, 1, 1,\n",
              "       1, 1, 1, 0, 0, 1, 1, 0, 1, 1, 0, 1, 0, 1, 1, 0, 1, 0, 1, 0, 0, 0,\n",
              "       1, 0, 0, 1, 1, 1, 1, 1, 1, 1, 0, 0, 0, 0, 1, 1, 1, 0, 1, 0, 0, 1,\n",
              "       0, 0, 1, 0, 0, 1, 1, 0, 1, 0, 0, 0, 1, 0, 0, 0, 1, 1, 1, 1, 1, 1,\n",
              "       1, 0, 1, 0, 0, 0, 1, 1, 0, 0, 0, 0, 0, 1, 1, 1, 1, 0, 1])"
            ]
          },
          "metadata": {},
          "execution_count": 65
        }
      ]
    },
    {
      "cell_type": "code",
      "metadata": {
        "id": "7bipYgukUZ36",
        "colab": {
          "base_uri": "https://localhost:8080/"
        },
        "outputId": "3f7a7a05-dfe5-4cdd-d0ed-82d033c5a2fd"
      },
      "source": [
        "X_test.shape"
      ],
      "execution_count": null,
      "outputs": [
        {
          "output_type": "execute_result",
          "data": {
            "text/plain": [
              "(899, 13)"
            ]
          },
          "metadata": {},
          "execution_count": 66
        }
      ]
    },
    {
      "cell_type": "code",
      "metadata": {
        "id": "mXW8RK53toca",
        "colab": {
          "base_uri": "https://localhost:8080/"
        },
        "outputId": "0dee80bd-5b31-4fb1-ff11-382a989d0126"
      },
      "source": [
        "# calculate classification accuracy\n",
        "train_score = dec_tree.score(X_train_balanced, y_train_balanced)\n",
        "test_score = dec_tree.score(X_test, y_test)\n",
        "print(train_score)\n",
        "print(test_score)"
      ],
      "execution_count": null,
      "outputs": [
        {
          "output_type": "stream",
          "name": "stdout",
          "text": [
            "1.0\n",
            "0.9443826473859844\n"
          ]
        }
      ]
    },
    {
      "cell_type": "code",
      "metadata": {
        "id": "tHaa5wOatsJo"
      },
      "source": [
        "param_dict={'criterion':['gini','enthropy'],'max_depth':range(1,10),'min_samples_split':range(1,10),'min_samples_leaf':range(1,5)}"
      ],
      "execution_count": null,
      "outputs": []
    },
    {
      "cell_type": "code",
      "metadata": {
        "id": "AIZ2MjvNtxat",
        "colab": {
          "base_uri": "https://localhost:8080/"
        },
        "outputId": "65eecd2f-0b2e-4578-babd-7915bfe2593e"
      },
      "source": [
        "grid=GridSearchCV(dec_tree, param_grid=param_dict, cv=10, verbose=1, n_jobs=-1)\n",
        "grid.fit(X_train_balanced,y_train_balanced)"
      ],
      "execution_count": null,
      "outputs": [
        {
          "output_type": "stream",
          "name": "stdout",
          "text": [
            "Fitting 10 folds for each of 648 candidates, totalling 6480 fits\n"
          ]
        },
        {
          "output_type": "stream",
          "name": "stderr",
          "text": [
            "[Parallel(n_jobs=-1)]: Using backend LokyBackend with 2 concurrent workers.\n",
            "[Parallel(n_jobs=-1)]: Done 420 tasks      | elapsed:    3.4s\n",
            "[Parallel(n_jobs=-1)]: Done 2820 tasks      | elapsed:   35.5s\n",
            "[Parallel(n_jobs=-1)]: Done 6480 out of 6480 | elapsed:   52.2s finished\n"
          ]
        },
        {
          "output_type": "execute_result",
          "data": {
            "text/plain": [
              "GridSearchCV(cv=10, error_score=nan,\n",
              "             estimator=DecisionTreeClassifier(ccp_alpha=0.0, class_weight=None,\n",
              "                                              criterion='gini', max_depth=None,\n",
              "                                              max_features=None,\n",
              "                                              max_leaf_nodes=None,\n",
              "                                              min_impurity_decrease=0.0,\n",
              "                                              min_impurity_split=None,\n",
              "                                              min_samples_leaf=1,\n",
              "                                              min_samples_split=2,\n",
              "                                              min_weight_fraction_leaf=0.0,\n",
              "                                              presort='deprecated',\n",
              "                                              random_state=42,\n",
              "                                              splitter='best'),\n",
              "             iid='deprecated', n_jobs=-1,\n",
              "             param_grid={'criterion': ['gini', 'enthropy'],\n",
              "                         'max_depth': range(1, 10),\n",
              "                         'min_samples_leaf': range(1, 5),\n",
              "                         'min_samples_split': range(1, 10)},\n",
              "             pre_dispatch='2*n_jobs', refit=True, return_train_score=False,\n",
              "             scoring=None, verbose=1)"
            ]
          },
          "metadata": {},
          "execution_count": 69
        }
      ]
    },
    {
      "cell_type": "code",
      "metadata": {
        "id": "YAKL0VOMuA0I",
        "colab": {
          "base_uri": "https://localhost:8080/"
        },
        "outputId": "a48b3004-d4d1-4bdc-d6e1-c87bb1f7d8ff"
      },
      "source": [
        "grid.best_params_"
      ],
      "execution_count": null,
      "outputs": [
        {
          "output_type": "execute_result",
          "data": {
            "text/plain": [
              "{'criterion': 'gini',\n",
              " 'max_depth': 7,\n",
              " 'min_samples_leaf': 1,\n",
              " 'min_samples_split': 2}"
            ]
          },
          "metadata": {},
          "execution_count": 70
        }
      ]
    },
    {
      "cell_type": "code",
      "metadata": {
        "id": "4w5epi8iuFKe",
        "colab": {
          "base_uri": "https://localhost:8080/"
        },
        "outputId": "5e8a24e6-fc21-4b3a-ac12-83306f5086d7"
      },
      "source": [
        "grid.best_estimator_"
      ],
      "execution_count": null,
      "outputs": [
        {
          "output_type": "execute_result",
          "data": {
            "text/plain": [
              "DecisionTreeClassifier(ccp_alpha=0.0, class_weight=None, criterion='gini',\n",
              "                       max_depth=7, max_features=None, max_leaf_nodes=None,\n",
              "                       min_impurity_decrease=0.0, min_impurity_split=None,\n",
              "                       min_samples_leaf=1, min_samples_split=2,\n",
              "                       min_weight_fraction_leaf=0.0, presort='deprecated',\n",
              "                       random_state=42, splitter='best')"
            ]
          },
          "metadata": {},
          "execution_count": 71
        }
      ]
    },
    {
      "cell_type": "code",
      "metadata": {
        "id": "-V8EKE4vuf6Y"
      },
      "source": [
        "test_score =grid.score(X_test, y_test)"
      ],
      "execution_count": null,
      "outputs": []
    },
    {
      "cell_type": "code",
      "metadata": {
        "id": "G369YkLAvFQQ",
        "colab": {
          "base_uri": "https://localhost:8080/"
        },
        "outputId": "49d29f19-8d32-4b6d-9708-042bdc3e952d"
      },
      "source": [
        "print(test_score)"
      ],
      "execution_count": null,
      "outputs": [
        {
          "output_type": "stream",
          "name": "stdout",
          "text": [
            "0.9443826473859844\n"
          ]
        }
      ]
    },
    {
      "cell_type": "code",
      "metadata": {
        "id": "nXsu_j6guHqX",
        "colab": {
          "base_uri": "https://localhost:8080/"
        },
        "outputId": "f6f9db40-5a01-4b2d-a282-a452ab8d7816"
      },
      "source": [
        "grid.best_score_"
      ],
      "execution_count": null,
      "outputs": [
        {
          "output_type": "execute_result",
          "data": {
            "text/plain": [
              "0.9860841423948219"
            ]
          },
          "metadata": {},
          "execution_count": 74
        }
      ]
    },
    {
      "cell_type": "markdown",
      "metadata": {
        "id": "NODe5NthvW6w"
      },
      "source": [
        "#Boosting"
      ]
    },
    {
      "cell_type": "code",
      "metadata": {
        "id": "Y1cDHPFLvXgD"
      },
      "source": [
        "from lightgbm import LGBMClassifier\n",
        "from xgboost import XGBClassifier\n",
        "from sklearn.ensemble import GradientBoostingClassifier"
      ],
      "execution_count": null,
      "outputs": []
    },
    {
      "cell_type": "markdown",
      "metadata": {
        "id": "PKoSZw6Evd8f"
      },
      "source": [
        "**eXtreme Gradient Boosting**"
      ]
    },
    {
      "cell_type": "code",
      "metadata": {
        "id": "GFT7AerJvblN",
        "colab": {
          "base_uri": "https://localhost:8080/"
        },
        "outputId": "d2fe1e97-9bee-4fc0-d25a-fa2455b8c215"
      },
      "source": [
        "xgb = XGBClassifier()\n",
        "xgb.fit(X_train_balanced, y_train_balanced)"
      ],
      "execution_count": null,
      "outputs": [
        {
          "output_type": "execute_result",
          "data": {
            "text/plain": [
              "XGBClassifier(base_score=0.5, booster='gbtree', colsample_bylevel=1,\n",
              "              colsample_bynode=1, colsample_bytree=1, gamma=0,\n",
              "              learning_rate=0.1, max_delta_step=0, max_depth=3,\n",
              "              min_child_weight=1, missing=None, n_estimators=100, n_jobs=1,\n",
              "              nthread=None, objective='binary:logistic', random_state=0,\n",
              "              reg_alpha=0, reg_lambda=1, scale_pos_weight=1, seed=None,\n",
              "              silent=None, subsample=1, verbosity=1)"
            ]
          },
          "metadata": {},
          "execution_count": 96
        }
      ]
    },
    {
      "cell_type": "code",
      "metadata": {
        "id": "gBbct3gbT1bI",
        "colab": {
          "base_uri": "https://localhost:8080/"
        },
        "outputId": "b4753e07-64d0-41c6-8f45-e61816f13a0b"
      },
      "source": [
        "X_test.shape"
      ],
      "execution_count": null,
      "outputs": [
        {
          "output_type": "execute_result",
          "data": {
            "text/plain": [
              "(899, 13)"
            ]
          },
          "metadata": {},
          "execution_count": 97
        }
      ]
    },
    {
      "cell_type": "code",
      "metadata": {
        "id": "BE39_7fGvhVA"
      },
      "source": [
        "\n",
        "pred=xgb.predict(X_test, validate_features=False)"
      ],
      "execution_count": null,
      "outputs": []
    },
    {
      "cell_type": "code",
      "metadata": {
        "colab": {
          "base_uri": "https://localhost:8080/"
        },
        "id": "Spy5ZzTEkycw",
        "outputId": "e4bb429b-24f7-44c6-9a40-767032ed04cf"
      },
      "source": [
        "# calculate classification accuracy\n",
        "train_score = xgb.score(X_train_balanced, y_train_balanced)\n",
        "\n",
        "print(train_score)\n",
        "print(test_score)"
      ],
      "execution_count": null,
      "outputs": [
        {
          "output_type": "stream",
          "name": "stdout",
          "text": [
            "0.9957928802588997\n",
            "0.9443826473859844\n"
          ]
        }
      ]
    },
    {
      "cell_type": "markdown",
      "metadata": {
        "id": "NIj27X8-x4xt"
      },
      "source": [
        "## LightGBM"
      ]
    },
    {
      "cell_type": "code",
      "metadata": {
        "id": "HbKPnsJSx4Lm",
        "colab": {
          "base_uri": "https://localhost:8080/"
        },
        "outputId": "f63a6e9f-c172-41ae-a665-de7dc3579957"
      },
      "source": [
        "lgbm=LGBMClassifier()\n",
        "lgbm.fit(X_train_balanced,y_train_balanced)"
      ],
      "execution_count": null,
      "outputs": [
        {
          "output_type": "execute_result",
          "data": {
            "text/plain": [
              "LGBMClassifier(boosting_type='gbdt', class_weight=None, colsample_bytree=1.0,\n",
              "               importance_type='split', learning_rate=0.1, max_depth=-1,\n",
              "               min_child_samples=20, min_child_weight=0.001, min_split_gain=0.0,\n",
              "               n_estimators=100, n_jobs=-1, num_leaves=31, objective=None,\n",
              "               random_state=None, reg_alpha=0.0, reg_lambda=0.0, silent=True,\n",
              "               subsample=1.0, subsample_for_bin=200000, subsample_freq=0)"
            ]
          },
          "metadata": {},
          "execution_count": 101
        }
      ]
    },
    {
      "cell_type": "code",
      "metadata": {
        "id": "Kqlm3S_Jx8b2",
        "colab": {
          "base_uri": "https://localhost:8080/"
        },
        "outputId": "35b057ad-9b16-46a9-d121-8a027161bedc"
      },
      "source": [
        "print('Training accuracy:', lgbm.score(X_train_balanced, y_train_balanced))\n",
        "print('Testing accuracy:', lgbm.score(X_test, y_test))"
      ],
      "execution_count": null,
      "outputs": [
        {
          "output_type": "stream",
          "name": "stdout",
          "text": [
            "Training accuracy: 1.0\n",
            "Testing accuracy: 0.9443826473859844\n"
          ]
        }
      ]
    },
    {
      "cell_type": "code",
      "metadata": {
        "id": "L3CUnt4zyJpM"
      },
      "source": [
        "from sklearn.metrics import accuracy_score, roc_auc_score, plot_confusion_matrix, plot_roc_curve, confusion_matrix, precision_score, recall_score"
      ],
      "execution_count": null,
      "outputs": []
    },
    {
      "cell_type": "code",
      "metadata": {
        "id": "21q8SVcWx_1n"
      },
      "source": [
        "from sklearn.compose import make_column_transformer\n",
        "from sklearn.compose import make_column_selector\n",
        "ohe = OneHotEncoder()\n",
        "scaler = StandardScaler()\n",
        "\n",
        "#column_selectors to tell the column transformers which columns to apply which preprocessing to\n",
        "category_selector = make_column_selector(dtype_include='object')\n",
        "number_selector = make_column_selector(dtype_include='number')\n",
        "\n",
        "#list of (transformer, columns) tuples\n",
        "transformers = [(ohe, category_selector), (scaler, number_selector)]\n",
        "\n",
        "#column transformer\n",
        "column_transformer = make_column_transformer((ohe, category_selector), (scaler, number_selector))\n",
        "\n",
        "#create a preprocessing pipeline to add to a later estimator pipeline\n",
        "preprocessing_pipeline = make_pipeline(column_transformer)"
      ],
      "execution_count": null,
      "outputs": []
    },
    {
      "cell_type": "code",
      "metadata": {
        "id": "kkCQ9lzAyw7W"
      },
      "source": [
        "def make_confmat(y_true, y_pred, labels=None, savepath=None, cmap='Greens',\n",
        "                 normalize='true'):\n",
        "  conf_mat = confusion_matrix(y_true, y_pred, normalize=normalize)\n",
        "  figure = sns.heatmap(conf_mat, xticklabels=labels, yticklabels=labels, \n",
        "                       annot=True, cmap=cmap)\n",
        "  if savepath:\n",
        "    plt.savefig(savepath)\n",
        "  return figure"
      ],
      "execution_count": null,
      "outputs": []
    },
    {
      "cell_type": "code",
      "metadata": {
        "id": "d1siz0Ary2So"
      },
      "source": [
        "labels = ['1','0']\n",
        "lgb_pipe = make_pipeline(preprocessing_pipeline, LGBMClassifier())\n",
        "lgb_pipe.fit(X_train_balanced, y_train_balanced)\n",
        "y_hat = lgb_pipe.predict(X_test)\n",
        "print(classification_report(y_test, y_hat))\n",
        "conf_mat = make_confmat(y_test, y_hat, labels=labels)\n",
        "conf_mat"
      ],
      "execution_count": null,
      "outputs": []
    },
    {
      "cell_type": "code",
      "metadata": {
        "id": "aWKKwDqT019_"
      },
      "source": [
        ""
      ],
      "execution_count": null,
      "outputs": []
    },
    {
      "cell_type": "code",
      "metadata": {
        "id": "4dmXCaH0KQYS"
      },
      "source": [
        "\n",
        "import tqdm\n",
        "import re"
      ],
      "execution_count": null,
      "outputs": []
    },
    {
      "cell_type": "code",
      "metadata": {
        "id": "eCRycvteOe75"
      },
      "source": [
        "\n",
        "!unzip archive\\ \\(1\\).zip"
      ],
      "execution_count": null,
      "outputs": []
    },
    {
      "cell_type": "code",
      "metadata": {
        "id": "n4qhrVivLolD"
      },
      "source": [
        "\n",
        "ans = pd.read_csv('Brain Tumor.csv')"
      ],
      "execution_count": null,
      "outputs": []
    },
    {
      "cell_type": "code",
      "metadata": {
        "colab": {
          "base_uri": "https://localhost:8080/"
        },
        "id": "rToKlJ3nOyk5",
        "outputId": "618e0abc-4504-4b1a-e0e3-2edd1613e625"
      },
      "source": [
        "!ls"
      ],
      "execution_count": null,
      "outputs": [
        {
          "output_type": "stream",
          "name": "stdout",
          "text": [
            "'archive (1).zip'  'Brain Tumor.csv'    sample_data\n",
            "'Brain Tumor'\t    bt_dataset_t3.csv\n"
          ]
        }
      ]
    },
    {
      "cell_type": "code",
      "metadata": {
        "id": "qupwKSNIPBb1"
      },
      "source": [
        "ans"
      ],
      "execution_count": null,
      "outputs": []
    },
    {
      "cell_type": "code",
      "metadata": {
        "colab": {
          "base_uri": "https://localhost:8080/"
        },
        "id": "hv-0hk9RKCOw",
        "outputId": "121faf5b-a423-4115-94d3-65171abdda24"
      },
      "source": [
        "img_lst = []\n",
        "target_lst = []\n",
        "for file in tqdm.tqdm(os.listdir('Brain Tumor/Brain Tumor/')):\n",
        "  \n",
        "  number = re.findall(r'\\d+', file)\n",
        "  img = mpimg.imread(os.path.join('Brain Tumor/Brain Tumor/', file))\n",
        "  \n",
        "  target = ans[ans['Image'] == 'Image' + number[0]]['Class'].values\n",
        "  if not len(target):\n",
        "    continue\n",
        "  target_lst.append(target[0])\n",
        "  img_lst.append(img)"
      ],
      "execution_count": null,
      "outputs": [
        {
          "output_type": "stream",
          "name": "stderr",
          "text": [
            "100%|██████████| 3762/3762 [00:07<00:00, 481.47it/s]\n"
          ]
        }
      ]
    },
    {
      "cell_type": "code",
      "metadata": {
        "id": "RyWcaTGpKcnb"
      },
      "source": [
        "X = np.array(img_lst) / 256."
      ],
      "execution_count": null,
      "outputs": []
    },
    {
      "cell_type": "code",
      "metadata": {
        "colab": {
          "base_uri": "https://localhost:8080/"
        },
        "id": "JcO6DfjjMXcE",
        "outputId": "05b30695-ac2a-4d00-ea03-806cb09b8d5b"
      },
      "source": [
        "\n",
        "len(target_lst)"
      ],
      "execution_count": null,
      "outputs": [
        {
          "output_type": "execute_result",
          "data": {
            "text/plain": [
              "3762"
            ]
          },
          "metadata": {},
          "execution_count": 14
        }
      ]
    },
    {
      "cell_type": "code",
      "metadata": {
        "colab": {
          "base_uri": "https://localhost:8080/"
        },
        "id": "0O3oojfwM3m_",
        "outputId": "7ba8fad1-580a-4cb2-968a-f94f85404447"
      },
      "source": [
        "X.shape"
      ],
      "execution_count": null,
      "outputs": [
        {
          "output_type": "execute_result",
          "data": {
            "text/plain": [
              "(3762, 240, 240, 3)"
            ]
          },
          "metadata": {},
          "execution_count": 15
        }
      ]
    },
    {
      "cell_type": "code",
      "metadata": {
        "id": "HGB-VZECPLSb"
      },
      "source": [
        "del(X)"
      ],
      "execution_count": null,
      "outputs": []
    },
    {
      "cell_type": "code",
      "metadata": {
        "colab": {
          "base_uri": "https://localhost:8080/"
        },
        "id": "u0tpcFRGPNP_",
        "outputId": "8dc9382c-f90f-4192-8f2c-92c0f6208b9c"
      },
      "source": [
        "import gc\n",
        "gc.collect()"
      ],
      "execution_count": null,
      "outputs": [
        {
          "output_type": "execute_result",
          "data": {
            "text/plain": [
              "760"
            ]
          },
          "metadata": {},
          "execution_count": 18
        }
      ]
    },
    {
      "cell_type": "code",
      "metadata": {
        "id": "04luOpwfMFDg"
      },
      "source": [
        "Xtrain, Xtest, ytrain, ytest = train_test_split(X, target_lst, test_size=0.3)"
      ],
      "execution_count": null,
      "outputs": []
    },
    {
      "cell_type": "code",
      "metadata": {
        "colab": {
          "base_uri": "https://localhost:8080/"
        },
        "id": "nvrrRXILNuxp",
        "outputId": "62fe86dd-435f-4d6e-ccde-93be29a01565"
      },
      "source": [
        "len(ytest)"
      ],
      "execution_count": null,
      "outputs": [
        {
          "output_type": "execute_result",
          "data": {
            "text/plain": [
              "494"
            ]
          },
          "metadata": {},
          "execution_count": 178
        }
      ]
    },
    {
      "cell_type": "code",
      "metadata": {
        "colab": {
          "base_uri": "https://localhost:8080/"
        },
        "id": "4z2gYhEiNyUz",
        "outputId": "00b2fbe5-ffc6-4f63-c18d-9a2441ba526a"
      },
      "source": [
        "len(Xtest)"
      ],
      "execution_count": null,
      "outputs": [
        {
          "output_type": "execute_result",
          "data": {
            "text/plain": [
              "494"
            ]
          },
          "metadata": {},
          "execution_count": 179
        }
      ]
    },
    {
      "cell_type": "code",
      "metadata": {
        "id": "Dwj41uynN1Ef"
      },
      "source": [
        "?layers.Conv2D"
      ],
      "execution_count": null,
      "outputs": []
    },
    {
      "cell_type": "code",
      "metadata": {
        "id": "Kd2RA4uPMEOd"
      },
      "source": [
        "model = Sequential()\n",
        "model.add(layers.Conv2D(4, (3, 3), strides=2, activation='relu',\n",
        "                        input_shape=(240, 240, 3)))\n",
        "model.add(layers.MaxPooling2D((2, 2)))\n",
        "model.add(layers.Conv2D(8, (3, 3), strides=2, activation='relu'))\n",
        "model.add(layers.MaxPooling2D((2, 2)))\n",
        "model.add(layers.Conv2D(8, (3, 3), strides=2, activation='relu'))\n",
        "model.add(layers.Flatten())\n",
        "model.add(layers.Dense(24, activation='relu'))\n",
        "model.add(layers.Dense(1, activation='sigmoid'))\n"
      ],
      "execution_count": null,
      "outputs": []
    },
    {
      "cell_type": "code",
      "metadata": {
        "colab": {
          "base_uri": "https://localhost:8080/"
        },
        "id": "MllFOUuBPV8w",
        "outputId": "00c46a5d-5c6c-4bb6-d297-38762f64e8ac"
      },
      "source": [
        "model.summary(\n",
        ")"
      ],
      "execution_count": null,
      "outputs": [
        {
          "output_type": "stream",
          "name": "stdout",
          "text": [
            "Model: \"sequential_5\"\n",
            "_________________________________________________________________\n",
            " Layer (type)                Output Shape              Param #   \n",
            "=================================================================\n",
            " conv2d_12 (Conv2D)          (None, 119, 119, 4)       112       \n",
            "                                                                 \n",
            " max_pooling2d_8 (MaxPooling  (None, 59, 59, 4)        0         \n",
            " 2D)                                                             \n",
            "                                                                 \n",
            " conv2d_13 (Conv2D)          (None, 29, 29, 8)         296       \n",
            "                                                                 \n",
            " max_pooling2d_9 (MaxPooling  (None, 14, 14, 8)        0         \n",
            " 2D)                                                             \n",
            "                                                                 \n",
            " conv2d_14 (Conv2D)          (None, 6, 6, 8)           584       \n",
            "                                                                 \n",
            " flatten_4 (Flatten)         (None, 288)               0         \n",
            "                                                                 \n",
            " dense_8 (Dense)             (None, 24)                6936      \n",
            "                                                                 \n",
            " dense_9 (Dense)             (None, 1)                 25        \n",
            "                                                                 \n",
            "=================================================================\n",
            "Total params: 7,953\n",
            "Trainable params: 7,953\n",
            "Non-trainable params: 0\n",
            "_________________________________________________________________\n"
          ]
        }
      ]
    },
    {
      "cell_type": "code",
      "metadata": {
        "id": "7bvLbJ4XQknm"
      },
      "source": [
        "del(model)"
      ],
      "execution_count": null,
      "outputs": []
    },
    {
      "cell_type": "code",
      "metadata": {
        "colab": {
          "base_uri": "https://localhost:8080/"
        },
        "id": "L5SMogU5P64V",
        "outputId": "44eb8b51-bcba-4350-c97c-1503e271399f"
      },
      "source": [
        "\n",
        "gc.collect()"
      ],
      "execution_count": null,
      "outputs": [
        {
          "output_type": "execute_result",
          "data": {
            "text/plain": [
              "2683"
            ]
          },
          "metadata": {},
          "execution_count": 45
        }
      ]
    },
    {
      "cell_type": "code",
      "metadata": {
        "colab": {
          "base_uri": "https://localhost:8080/"
        },
        "id": "pTZCICLoNOem",
        "outputId": "e5395248-7350-4778-c7ed-a6810576f5b0"
      },
      "source": [
        "model.compile(optimizer='adam',\n",
        "                loss = tf.keras.losses.binary_crossentropy,\n",
        "                metrics=['accuracy'])\n",
        "history = model.fit(Xtrain, np.array(ytrain), epochs=10, batch_size=8, \n",
        "                    validation_data=(Xtest, np.array(ytest)))"
      ],
      "execution_count": null,
      "outputs": [
        {
          "output_type": "stream",
          "name": "stdout",
          "text": [
            "Epoch 1/10\n",
            "330/330 [==============================] - 6s 16ms/step - loss: 0.5207 - accuracy: 0.7619 - val_loss: 0.4897 - val_accuracy: 0.7671\n",
            "Epoch 2/10\n",
            "330/330 [==============================] - 4s 12ms/step - loss: 0.4356 - accuracy: 0.8116 - val_loss: 0.4766 - val_accuracy: 0.7777\n",
            "Epoch 3/10\n",
            "330/330 [==============================] - 4s 11ms/step - loss: 0.3792 - accuracy: 0.8401 - val_loss: 0.3427 - val_accuracy: 0.8512\n",
            "Epoch 4/10\n",
            "330/330 [==============================] - 3s 10ms/step - loss: 0.3332 - accuracy: 0.8671 - val_loss: 0.3367 - val_accuracy: 0.8485\n",
            "Epoch 5/10\n",
            "330/330 [==============================] - 3s 10ms/step - loss: 0.2963 - accuracy: 0.8807 - val_loss: 0.3415 - val_accuracy: 0.8477\n",
            "Epoch 6/10\n",
            "330/330 [==============================] - 3s 10ms/step - loss: 0.2813 - accuracy: 0.8864 - val_loss: 0.4055 - val_accuracy: 0.8202\n",
            "Epoch 7/10\n",
            "330/330 [==============================] - 3s 10ms/step - loss: 0.2603 - accuracy: 0.8944 - val_loss: 0.2458 - val_accuracy: 0.8955\n",
            "Epoch 8/10\n",
            "330/330 [==============================] - 3s 10ms/step - loss: 0.2403 - accuracy: 0.9051 - val_loss: 0.2791 - val_accuracy: 0.8787\n",
            "Epoch 9/10\n",
            "330/330 [==============================] - 3s 10ms/step - loss: 0.2197 - accuracy: 0.9077 - val_loss: 0.2795 - val_accuracy: 0.8804\n",
            "Epoch 10/10\n",
            "330/330 [==============================] - 3s 10ms/step - loss: 0.1915 - accuracy: 0.9259 - val_loss: 0.2772 - val_accuracy: 0.8707\n"
          ]
        }
      ]
    },
    {
      "cell_type": "code",
      "metadata": {
        "colab": {
          "base_uri": "https://localhost:8080/"
        },
        "id": "K0nzMmbnQ97J",
        "outputId": "b113909d-4296-4caa-ed6a-064f8b6fa454"
      },
      "source": [
        "gc.collect()"
      ],
      "execution_count": null,
      "outputs": [
        {
          "output_type": "execute_result",
          "data": {
            "text/plain": [
              "1916"
            ]
          },
          "metadata": {},
          "execution_count": 49
        }
      ]
    },
    {
      "cell_type": "code",
      "metadata": {
        "id": "xNXF6TRmNqya"
      },
      "source": [
        "\n",
        "def plot_res():\n",
        "  idx_here = np.random.randint(0, 100, size=15)\n",
        "  for i, id in enumerate(idx_here):\n",
        "    imgplot = plt.imshow(Xtest[id])\n",
        "    plt.show()\n",
        "    if (ytest[id]):\n",
        "      print('Malignant')\n",
        "    else:\n",
        "      print('Benign')\n",
        "    #print('pred label: ', pred[i])\n",
        "    "
      ],
      "execution_count": null,
      "outputs": []
    },
    {
      "cell_type": "code",
      "metadata": {
        "colab": {
          "base_uri": "https://localhost:8080/",
          "height": 1000
        },
        "id": "JS-obOLxRLXr",
        "outputId": "ecd16d1e-5fc5-4121-ad9b-dc951f9f0564"
      },
      "source": [
        "plot_res()"
      ],
      "execution_count": null,
      "outputs": [
        {
          "output_type": "display_data",
          "data": {
            "image/png": "[encoded data removed]",
            "text/plain": [
              "<Figure size 432x288 with 1 Axes>"
            ]
          },
          "metadata": {
            "needs_background": "light"
          }
        },
        {
          "output_type": "stream",
          "name": "stdout",
          "text": [
            "Malignant\n"
          ]
        },
        {
          "output_type": "display_data",
          "data": {
            "image/png": "[encoded data removed]",
            "text/plain": [
              "<Figure size 432x288 with 1 Axes>"
            ]
          },
          "metadata": {
            "needs_background": "light"
          }
        },
        {
          "output_type": "stream",
          "name": "stdout",
          "text": [
            "Benign\n"
          ]
        },
        {
          "output_type": "display_data",
          "data": {
            "image/png": "[encoded data removed]",
            "text/plain": [
              "<Figure size 432x288 with 1 Axes>"
            ]
          },
          "metadata": {
            "needs_background": "light"
          }
        },
        {
          "output_type": "stream",
          "name": "stdout",
          "text": [
            "Benign\n"
          ]
        },
        {
          "output_type": "display_data",
          "data": {
            "image/png": "[encoded data removed]",
            "text/plain": [
              "<Figure size 432x288 with 1 Axes>"
            ]
          },
          "metadata": {
            "needs_background": "light"
          }
        },
        {
          "output_type": "stream",
          "name": "stdout",
          "text": [
            "Benign\n"
          ]
        },
        {
          "output_type": "display_data",
          "data": {
            "image/png": "[encoded data removed]",
            "text/plain": [
              "<Figure size 432x288 with 1 Axes>"
            ]
          },
          "metadata": {
            "needs_background": "light"
          }
        },
        {
          "output_type": "stream",
          "name": "stdout",
          "text": [
            "Benign\n"
          ]
        },
        {
          "output_type": "display_data",
          "data": {
            "image/png": "[encoded data removed]",
            "text/plain": [
              "<Figure size 432x288 with 1 Axes>"
            ]
          },
          "metadata": {
            "needs_background": "light"
          }
        },
        {
          "output_type": "stream",
          "name": "stdout",
          "text": [
            "Malignant\n"
          ]
        },
        {
          "output_type": "display_data",
          "data": {
            "image/png": "[encoded data removed]",
            "text/plain": [
              "<Figure size 432x288 with 1 Axes>"
            ]
          },
          "metadata": {
            "needs_background": "light"
          }
        },
        {
          "output_type": "stream",
          "name": "stdout",
          "text": [
            "Benign\n"
          ]
        },
        {
          "output_type": "display_data",
          "data": {
            "image/png": "[encoded data removed]",
            "text/plain": [
              "<Figure size 432x288 with 1 Axes>"
            ]
          },
          "metadata": {
            "needs_background": "light"
          }
        },
        {
          "output_type": "stream",
          "name": "stdout",
          "text": [
            "Benign\n"
          ]
        },
        {
          "output_type": "display_data",
          "data": {
            "image/png": "[encoded data removed]",
            "text/plain": [
              "<Figure size 432x288 with 1 Axes>"
            ]
          },
          "metadata": {
            "needs_background": "light"
          }
        },
        {
          "output_type": "stream",
          "name": "stdout",
          "text": [
            "Malignant\n"
          ]
        },
        {
          "output_type": "display_data",
          "data": {
            "image/png": "[encoded data removed]",
            "text/plain": [
              "<Figure size 432x288 with 1 Axes>"
            ]
          },
          "metadata": {
            "needs_background": "light"
          }
        },
        {
          "output_type": "stream",
          "name": "stdout",
          "text": [
            "Malignant\n"
          ]
        },
        {
          "output_type": "display_data",
          "data": {
            "image/png": "[encoded data removed]",
            "text/plain": [
              "<Figure size 432x288 with 1 Axes>"
            ]
          },
          "metadata": {
            "needs_background": "light"
          }
        },
        {
          "output_type": "stream",
          "name": "stdout",
          "text": [
            "Benign\n"
          ]
        },
        {
          "output_type": "display_data",
          "data": {
            "image/png": "[encoded data removed]",
            "text/plain": [
              "<Figure size 432x288 with 1 Axes>"
            ]
          },
          "metadata": {
            "needs_background": "light"
          }
        },
        {
          "output_type": "stream",
          "name": "stdout",
          "text": [
            "Malignant\n"
          ]
        },
        {
          "output_type": "display_data",
          "data": {
            "image/png": "[encoded data removed]",
            "text/plain": [
              "<Figure size 432x288 with 1 Axes>"
            ]
          },
          "metadata": {
            "needs_background": "light"
          }
        },
        {
          "output_type": "stream",
          "name": "stdout",
          "text": [
            "Benign\n"
          ]
        },
        {
          "output_type": "display_data",
          "data": {
            "image/png": "[encoded data removed]",
            "text/plain": [
              "<Figure size 432x288 with 1 Axes>"
            ]
          },
          "metadata": {
            "needs_background": "light"
          }
        },
        {
          "output_type": "stream",
          "name": "stdout",
          "text": [
            "Malignant\n"
          ]
        },
        {
          "output_type": "display_data",
          "data": {
            "image/png": "[encoded data removed]",
            "text/plain": [
              "<Figure size 432x288 with 1 Axes>"
            ]
          },
          "metadata": {
            "needs_background": "light"
          }
        },
        {
          "output_type": "stream",
          "name": "stdout",
          "text": [
            "Benign\n"
          ]
        }
      ]
    },
    {
      "cell_type": "code",
      "metadata": {
        "id": "X0JMThtaRMVm"
      },
      "source": [
        ""
      ],
      "execution_count": null,
      "outputs": []
    }
  ]
}